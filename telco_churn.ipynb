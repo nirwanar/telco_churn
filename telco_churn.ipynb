{
 "cells": [
  {
   "cell_type": "markdown",
   "metadata": {},
   "source": [
    "# Milestone 1 Phase 2 - Telecomunication Customer Churn Prediction"
   ]
  },
  {
   "cell_type": "markdown",
   "metadata": {},
   "source": [
    "______________________"
   ]
  },
  {
   "cell_type": "markdown",
   "metadata": {},
   "source": [
    "# I. Introduction"
   ]
  },
  {
   "cell_type": "markdown",
   "metadata": {},
   "source": [
    "> - Nama : Nirwan Arrachman  \n",
    "> - Batch : FTDS 11  "
   ]
  },
  {
   "cell_type": "markdown",
   "metadata": {},
   "source": [
    "Notebook ini bertujuan untuk membuat sebuah model deep learning neural network yang bertujuan untuk memprediksi customer churn suatu perusahaan telekomunikasi. Dataset yang digunakan adalah dataset yang tersedia di website Kaggle dengan link sebagai berikut:  \n",
    "> `https://www.kaggle.com/datasets/blastchar/telco-customer-churn`  \n",
    "  \n",
    "  \n",
    "Dataset ini berisi informasi mengenai customer sebuah perusahaan telekomunikasi dengan karakteristik masing-masing customer tersebut dan hasil apakah customer tersebut churn atau tidak. Churn adalah suatu kondisi sebuah perusahaan kehilangan pelanggan atau customernya. Churn rate artinya ukuran mengenai seberapa banyak customer perusahaan yang pergi atau tidak menggunakan produk/ jasa perusahaan. Churn rate ini sangat mempengaruhi performa bisnis perusahaan, semakin besar churn rate maka semakin sedikit customer yang loyal terhadap perusahaan sehingga pendapatan yang diterima perusahaan akan berkurang."
   ]
  },
  {
   "cell_type": "markdown",
   "metadata": {},
   "source": [
    "Pihak perusahaan ingin mendeteksi customer yang akan churn sedini mungkin sehingga perusahaan dapat melakukan tindakan cepat untuk mencegah customer tersebut churn. Prediksi churn customer ini juga dapat dimanfaatkan untuk membuat customer retention programs agar tingkat churn rate dapat ditekan dan perusahaan bisa menjaga loyalitas customernya. Model machine learning dengan deep learning dapat melakukan prediksi churn seorang customer dengan menggunakan dataset ini. Dataset ini terdiri dari 7.043 baris data dan 21 kolom data. Penjelasan mengenai 21 kolom dataset ini adalah sebagai berikut:\n",
    "- `customerID` : Unique ID of each customer\n",
    "- `gender` : Whether the customer is a male or a female\n",
    "- `SeniorCitizen` : Whether the customer is a senior citizen or not (1, 0)\n",
    "- `Partner` : Whether the customer has a partner or not (Yes, No)\n",
    "- `Dependents` : Whether the customer has dependents or not (Yes, No)\n",
    "- `tenure` : Number of months the customer has stayed with the company\n",
    "- `PhoneService` : Whether the customer has a phone service or not (Yes, No)\n",
    "- `MultipleLines` : Whether the customer has multiple lines or not (Yes, No, No phone service)\n",
    "- `InternetService` : Customer’s internet service provider (DSL, Fiber optic, No)\n",
    "- `OnlineSecurity` : Whether the customer has online security or not (Yes, No, No internet service)\n",
    "- `OnlineBackup` : Whether the customer has online backup or not (Yes, No, No internet service)\n",
    "- `DeviceProtection` : Whether the customer has device protection or not (Yes, No, No internet service)\n",
    "- `TechSupport` : Whether the customer has tech support or not (Yes, No, No internet service)\n",
    "- `StreamingTV` : Whether the customer has streaming TV or not (Yes, No, No internet service)\n",
    "- `StreamingMovies` : Whether the customer has streaming movies or not (Yes, No, No internet service)\n",
    "- `Contract` : The contract term of the customer (Month-to-month, One year, Two year)\n",
    "- `PaperlessBilling`: Whether the customer has paperless billing or not (Yes, No)\n",
    "- `PaymentMethod` : The customer’s payment method (Electronic check, Mailed check, Bank transfer (automatic), Credit card (automatic))\n",
    "- `MonthlyCharge` : The amount charged to the customer monthly\n",
    "- `TotalCharges` : The total amount charged to the customer\n",
    "- `Churn` : Whether the customer is left or not within last month (Yes, No)"
   ]
  },
  {
   "cell_type": "markdown",
   "metadata": {},
   "source": [
    "Berdasarkan informasi dataset ini, saya akan membuat model deep learning neural network untuk memprediksi label yaitu `Churn`. Model ini akan dideploy ke website sehingga divisi terkait dapat melalukan customer churn analysis secara real-time. Hasil real-time tersebut diharapkan dapat menjadi tindak cepat perusahaan untuk mencegah customer tersebut churn."
   ]
  },
  {
   "cell_type": "markdown",
   "metadata": {},
   "source": [
    ">Objective dari pengerjaan notebook ini adalah sebagai berikut:  \n",
    ">1. Melakukan EDA untuk mendapatkan insight dari dataset yang digunakan\n",
    ">2. Membuat model machine learning deep learning yang dapat memprediksi customer churn\n",
    ">3. Mendeploy model kedalam website heroku.app\n",
    ">4. Melakukan model inference pada data inference"
   ]
  },
  {
   "cell_type": "markdown",
   "metadata": {},
   "source": [
    "______________________________"
   ]
  },
  {
   "cell_type": "markdown",
   "metadata": {},
   "source": [
    "# II. Import Libraries"
   ]
  },
  {
   "cell_type": "markdown",
   "metadata": {},
   "source": [
    "Library yang akan digunakan dalam notebook ini adalah pandas, numpy, matplotlib, seaborn, sklearn, imblearn, pickle, dan tensorflow."
   ]
  },
  {
   "cell_type": "code",
   "execution_count": 1,
   "metadata": {},
   "outputs": [],
   "source": [
    "# import library umum\n",
    "import pandas as pd\n",
    "import numpy as np\n",
    "import matplotlib.pyplot as plt\n",
    "import seaborn as sns\n",
    "\n",
    "# preprocessing\n",
    "from sklearn.model_selection import train_test_split\n",
    "from sklearn.preprocessing import RobustScaler, OneHotEncoder\n",
    "from sklearn.compose import ColumnTransformer\n",
    "\n",
    "# model\n",
    "from sklearn.ensemble import RandomForestClassifier\n",
    "import tensorflow as tf\n",
    "from tensorflow import keras\n",
    "\n",
    "# metrics\n",
    "from sklearn.metrics import classification_report\n",
    "\n",
    "# Model Saving\n",
    "import pickle"
   ]
  },
  {
   "cell_type": "code",
   "execution_count": 2,
   "metadata": {},
   "outputs": [],
   "source": [
    "# opsi pada pandas untuk melihat kolom data secara keseluruhan\n",
    "pd.options.display.max_columns = None"
   ]
  },
  {
   "cell_type": "code",
   "execution_count": 3,
   "metadata": {},
   "outputs": [],
   "source": [
    "# code untuk menghilangkan warning\n",
    "from warnings import filterwarnings\n",
    "filterwarnings('ignore')"
   ]
  },
  {
   "cell_type": "markdown",
   "metadata": {},
   "source": [
    "_______________________"
   ]
  },
  {
   "cell_type": "markdown",
   "metadata": {},
   "source": [
    "# III. Data Loading"
   ]
  },
  {
   "cell_type": "code",
   "execution_count": 4,
   "metadata": {},
   "outputs": [],
   "source": [
    "# loading dataset\n",
    "df = pd.read_csv('WA_Fn-UseC_-Telco-Customer-Churn.csv')"
   ]
  },
  {
   "cell_type": "code",
   "execution_count": 5,
   "metadata": {},
   "outputs": [
    {
     "data": {
      "text/html": [
       "<div>\n",
       "<style scoped>\n",
       "    .dataframe tbody tr th:only-of-type {\n",
       "        vertical-align: middle;\n",
       "    }\n",
       "\n",
       "    .dataframe tbody tr th {\n",
       "        vertical-align: top;\n",
       "    }\n",
       "\n",
       "    .dataframe thead th {\n",
       "        text-align: right;\n",
       "    }\n",
       "</style>\n",
       "<table border=\"1\" class=\"dataframe\">\n",
       "  <thead>\n",
       "    <tr style=\"text-align: right;\">\n",
       "      <th></th>\n",
       "      <th>customerID</th>\n",
       "      <th>gender</th>\n",
       "      <th>SeniorCitizen</th>\n",
       "      <th>Partner</th>\n",
       "      <th>Dependents</th>\n",
       "      <th>tenure</th>\n",
       "      <th>PhoneService</th>\n",
       "      <th>MultipleLines</th>\n",
       "      <th>InternetService</th>\n",
       "      <th>OnlineSecurity</th>\n",
       "      <th>OnlineBackup</th>\n",
       "      <th>DeviceProtection</th>\n",
       "      <th>TechSupport</th>\n",
       "      <th>StreamingTV</th>\n",
       "      <th>StreamingMovies</th>\n",
       "      <th>Contract</th>\n",
       "      <th>PaperlessBilling</th>\n",
       "      <th>PaymentMethod</th>\n",
       "      <th>MonthlyCharges</th>\n",
       "      <th>TotalCharges</th>\n",
       "      <th>Churn</th>\n",
       "    </tr>\n",
       "  </thead>\n",
       "  <tbody>\n",
       "    <tr>\n",
       "      <th>0</th>\n",
       "      <td>7590-VHVEG</td>\n",
       "      <td>Female</td>\n",
       "      <td>0</td>\n",
       "      <td>Yes</td>\n",
       "      <td>No</td>\n",
       "      <td>1</td>\n",
       "      <td>No</td>\n",
       "      <td>No phone service</td>\n",
       "      <td>DSL</td>\n",
       "      <td>No</td>\n",
       "      <td>Yes</td>\n",
       "      <td>No</td>\n",
       "      <td>No</td>\n",
       "      <td>No</td>\n",
       "      <td>No</td>\n",
       "      <td>Month-to-month</td>\n",
       "      <td>Yes</td>\n",
       "      <td>Electronic check</td>\n",
       "      <td>29.85</td>\n",
       "      <td>29.85</td>\n",
       "      <td>No</td>\n",
       "    </tr>\n",
       "    <tr>\n",
       "      <th>1</th>\n",
       "      <td>5575-GNVDE</td>\n",
       "      <td>Male</td>\n",
       "      <td>0</td>\n",
       "      <td>No</td>\n",
       "      <td>No</td>\n",
       "      <td>34</td>\n",
       "      <td>Yes</td>\n",
       "      <td>No</td>\n",
       "      <td>DSL</td>\n",
       "      <td>Yes</td>\n",
       "      <td>No</td>\n",
       "      <td>Yes</td>\n",
       "      <td>No</td>\n",
       "      <td>No</td>\n",
       "      <td>No</td>\n",
       "      <td>One year</td>\n",
       "      <td>No</td>\n",
       "      <td>Mailed check</td>\n",
       "      <td>56.95</td>\n",
       "      <td>1889.5</td>\n",
       "      <td>No</td>\n",
       "    </tr>\n",
       "    <tr>\n",
       "      <th>2</th>\n",
       "      <td>3668-QPYBK</td>\n",
       "      <td>Male</td>\n",
       "      <td>0</td>\n",
       "      <td>No</td>\n",
       "      <td>No</td>\n",
       "      <td>2</td>\n",
       "      <td>Yes</td>\n",
       "      <td>No</td>\n",
       "      <td>DSL</td>\n",
       "      <td>Yes</td>\n",
       "      <td>Yes</td>\n",
       "      <td>No</td>\n",
       "      <td>No</td>\n",
       "      <td>No</td>\n",
       "      <td>No</td>\n",
       "      <td>Month-to-month</td>\n",
       "      <td>Yes</td>\n",
       "      <td>Mailed check</td>\n",
       "      <td>53.85</td>\n",
       "      <td>108.15</td>\n",
       "      <td>Yes</td>\n",
       "    </tr>\n",
       "    <tr>\n",
       "      <th>3</th>\n",
       "      <td>7795-CFOCW</td>\n",
       "      <td>Male</td>\n",
       "      <td>0</td>\n",
       "      <td>No</td>\n",
       "      <td>No</td>\n",
       "      <td>45</td>\n",
       "      <td>No</td>\n",
       "      <td>No phone service</td>\n",
       "      <td>DSL</td>\n",
       "      <td>Yes</td>\n",
       "      <td>No</td>\n",
       "      <td>Yes</td>\n",
       "      <td>Yes</td>\n",
       "      <td>No</td>\n",
       "      <td>No</td>\n",
       "      <td>One year</td>\n",
       "      <td>No</td>\n",
       "      <td>Bank transfer (automatic)</td>\n",
       "      <td>42.30</td>\n",
       "      <td>1840.75</td>\n",
       "      <td>No</td>\n",
       "    </tr>\n",
       "    <tr>\n",
       "      <th>4</th>\n",
       "      <td>9237-HQITU</td>\n",
       "      <td>Female</td>\n",
       "      <td>0</td>\n",
       "      <td>No</td>\n",
       "      <td>No</td>\n",
       "      <td>2</td>\n",
       "      <td>Yes</td>\n",
       "      <td>No</td>\n",
       "      <td>Fiber optic</td>\n",
       "      <td>No</td>\n",
       "      <td>No</td>\n",
       "      <td>No</td>\n",
       "      <td>No</td>\n",
       "      <td>No</td>\n",
       "      <td>No</td>\n",
       "      <td>Month-to-month</td>\n",
       "      <td>Yes</td>\n",
       "      <td>Electronic check</td>\n",
       "      <td>70.70</td>\n",
       "      <td>151.65</td>\n",
       "      <td>Yes</td>\n",
       "    </tr>\n",
       "  </tbody>\n",
       "</table>\n",
       "</div>"
      ],
      "text/plain": [
       "   customerID  gender  SeniorCitizen Partner Dependents  tenure PhoneService  \\\n",
       "0  7590-VHVEG  Female              0     Yes         No       1           No   \n",
       "1  5575-GNVDE    Male              0      No         No      34          Yes   \n",
       "2  3668-QPYBK    Male              0      No         No       2          Yes   \n",
       "3  7795-CFOCW    Male              0      No         No      45           No   \n",
       "4  9237-HQITU  Female              0      No         No       2          Yes   \n",
       "\n",
       "      MultipleLines InternetService OnlineSecurity OnlineBackup  \\\n",
       "0  No phone service             DSL             No          Yes   \n",
       "1                No             DSL            Yes           No   \n",
       "2                No             DSL            Yes          Yes   \n",
       "3  No phone service             DSL            Yes           No   \n",
       "4                No     Fiber optic             No           No   \n",
       "\n",
       "  DeviceProtection TechSupport StreamingTV StreamingMovies        Contract  \\\n",
       "0               No          No          No              No  Month-to-month   \n",
       "1              Yes          No          No              No        One year   \n",
       "2               No          No          No              No  Month-to-month   \n",
       "3              Yes         Yes          No              No        One year   \n",
       "4               No          No          No              No  Month-to-month   \n",
       "\n",
       "  PaperlessBilling              PaymentMethod  MonthlyCharges TotalCharges  \\\n",
       "0              Yes           Electronic check           29.85        29.85   \n",
       "1               No               Mailed check           56.95       1889.5   \n",
       "2              Yes               Mailed check           53.85       108.15   \n",
       "3               No  Bank transfer (automatic)           42.30      1840.75   \n",
       "4              Yes           Electronic check           70.70       151.65   \n",
       "\n",
       "  Churn  \n",
       "0    No  \n",
       "1    No  \n",
       "2   Yes  \n",
       "3    No  \n",
       "4   Yes  "
      ]
     },
     "execution_count": 5,
     "metadata": {},
     "output_type": "execute_result"
    }
   ],
   "source": [
    "# preview 5 baris data pertama\n",
    "df.head()"
   ]
  },
  {
   "cell_type": "code",
   "execution_count": 6,
   "metadata": {},
   "outputs": [
    {
     "data": {
      "text/html": [
       "<div>\n",
       "<style scoped>\n",
       "    .dataframe tbody tr th:only-of-type {\n",
       "        vertical-align: middle;\n",
       "    }\n",
       "\n",
       "    .dataframe tbody tr th {\n",
       "        vertical-align: top;\n",
       "    }\n",
       "\n",
       "    .dataframe thead th {\n",
       "        text-align: right;\n",
       "    }\n",
       "</style>\n",
       "<table border=\"1\" class=\"dataframe\">\n",
       "  <thead>\n",
       "    <tr style=\"text-align: right;\">\n",
       "      <th></th>\n",
       "      <th>customerID</th>\n",
       "      <th>gender</th>\n",
       "      <th>SeniorCitizen</th>\n",
       "      <th>Partner</th>\n",
       "      <th>Dependents</th>\n",
       "      <th>tenure</th>\n",
       "      <th>PhoneService</th>\n",
       "      <th>MultipleLines</th>\n",
       "      <th>InternetService</th>\n",
       "      <th>OnlineSecurity</th>\n",
       "      <th>OnlineBackup</th>\n",
       "      <th>DeviceProtection</th>\n",
       "      <th>TechSupport</th>\n",
       "      <th>StreamingTV</th>\n",
       "      <th>StreamingMovies</th>\n",
       "      <th>Contract</th>\n",
       "      <th>PaperlessBilling</th>\n",
       "      <th>PaymentMethod</th>\n",
       "      <th>MonthlyCharges</th>\n",
       "      <th>TotalCharges</th>\n",
       "      <th>Churn</th>\n",
       "    </tr>\n",
       "  </thead>\n",
       "  <tbody>\n",
       "    <tr>\n",
       "      <th>7038</th>\n",
       "      <td>6840-RESVB</td>\n",
       "      <td>Male</td>\n",
       "      <td>0</td>\n",
       "      <td>Yes</td>\n",
       "      <td>Yes</td>\n",
       "      <td>24</td>\n",
       "      <td>Yes</td>\n",
       "      <td>Yes</td>\n",
       "      <td>DSL</td>\n",
       "      <td>Yes</td>\n",
       "      <td>No</td>\n",
       "      <td>Yes</td>\n",
       "      <td>Yes</td>\n",
       "      <td>Yes</td>\n",
       "      <td>Yes</td>\n",
       "      <td>One year</td>\n",
       "      <td>Yes</td>\n",
       "      <td>Mailed check</td>\n",
       "      <td>84.80</td>\n",
       "      <td>1990.5</td>\n",
       "      <td>No</td>\n",
       "    </tr>\n",
       "    <tr>\n",
       "      <th>7039</th>\n",
       "      <td>2234-XADUH</td>\n",
       "      <td>Female</td>\n",
       "      <td>0</td>\n",
       "      <td>Yes</td>\n",
       "      <td>Yes</td>\n",
       "      <td>72</td>\n",
       "      <td>Yes</td>\n",
       "      <td>Yes</td>\n",
       "      <td>Fiber optic</td>\n",
       "      <td>No</td>\n",
       "      <td>Yes</td>\n",
       "      <td>Yes</td>\n",
       "      <td>No</td>\n",
       "      <td>Yes</td>\n",
       "      <td>Yes</td>\n",
       "      <td>One year</td>\n",
       "      <td>Yes</td>\n",
       "      <td>Credit card (automatic)</td>\n",
       "      <td>103.20</td>\n",
       "      <td>7362.9</td>\n",
       "      <td>No</td>\n",
       "    </tr>\n",
       "    <tr>\n",
       "      <th>7040</th>\n",
       "      <td>4801-JZAZL</td>\n",
       "      <td>Female</td>\n",
       "      <td>0</td>\n",
       "      <td>Yes</td>\n",
       "      <td>Yes</td>\n",
       "      <td>11</td>\n",
       "      <td>No</td>\n",
       "      <td>No phone service</td>\n",
       "      <td>DSL</td>\n",
       "      <td>Yes</td>\n",
       "      <td>No</td>\n",
       "      <td>No</td>\n",
       "      <td>No</td>\n",
       "      <td>No</td>\n",
       "      <td>No</td>\n",
       "      <td>Month-to-month</td>\n",
       "      <td>Yes</td>\n",
       "      <td>Electronic check</td>\n",
       "      <td>29.60</td>\n",
       "      <td>346.45</td>\n",
       "      <td>No</td>\n",
       "    </tr>\n",
       "    <tr>\n",
       "      <th>7041</th>\n",
       "      <td>8361-LTMKD</td>\n",
       "      <td>Male</td>\n",
       "      <td>1</td>\n",
       "      <td>Yes</td>\n",
       "      <td>No</td>\n",
       "      <td>4</td>\n",
       "      <td>Yes</td>\n",
       "      <td>Yes</td>\n",
       "      <td>Fiber optic</td>\n",
       "      <td>No</td>\n",
       "      <td>No</td>\n",
       "      <td>No</td>\n",
       "      <td>No</td>\n",
       "      <td>No</td>\n",
       "      <td>No</td>\n",
       "      <td>Month-to-month</td>\n",
       "      <td>Yes</td>\n",
       "      <td>Mailed check</td>\n",
       "      <td>74.40</td>\n",
       "      <td>306.6</td>\n",
       "      <td>Yes</td>\n",
       "    </tr>\n",
       "    <tr>\n",
       "      <th>7042</th>\n",
       "      <td>3186-AJIEK</td>\n",
       "      <td>Male</td>\n",
       "      <td>0</td>\n",
       "      <td>No</td>\n",
       "      <td>No</td>\n",
       "      <td>66</td>\n",
       "      <td>Yes</td>\n",
       "      <td>No</td>\n",
       "      <td>Fiber optic</td>\n",
       "      <td>Yes</td>\n",
       "      <td>No</td>\n",
       "      <td>Yes</td>\n",
       "      <td>Yes</td>\n",
       "      <td>Yes</td>\n",
       "      <td>Yes</td>\n",
       "      <td>Two year</td>\n",
       "      <td>Yes</td>\n",
       "      <td>Bank transfer (automatic)</td>\n",
       "      <td>105.65</td>\n",
       "      <td>6844.5</td>\n",
       "      <td>No</td>\n",
       "    </tr>\n",
       "  </tbody>\n",
       "</table>\n",
       "</div>"
      ],
      "text/plain": [
       "      customerID  gender  SeniorCitizen Partner Dependents  tenure  \\\n",
       "7038  6840-RESVB    Male              0     Yes        Yes      24   \n",
       "7039  2234-XADUH  Female              0     Yes        Yes      72   \n",
       "7040  4801-JZAZL  Female              0     Yes        Yes      11   \n",
       "7041  8361-LTMKD    Male              1     Yes         No       4   \n",
       "7042  3186-AJIEK    Male              0      No         No      66   \n",
       "\n",
       "     PhoneService     MultipleLines InternetService OnlineSecurity  \\\n",
       "7038          Yes               Yes             DSL            Yes   \n",
       "7039          Yes               Yes     Fiber optic             No   \n",
       "7040           No  No phone service             DSL            Yes   \n",
       "7041          Yes               Yes     Fiber optic             No   \n",
       "7042          Yes                No     Fiber optic            Yes   \n",
       "\n",
       "     OnlineBackup DeviceProtection TechSupport StreamingTV StreamingMovies  \\\n",
       "7038           No              Yes         Yes         Yes             Yes   \n",
       "7039          Yes              Yes          No         Yes             Yes   \n",
       "7040           No               No          No          No              No   \n",
       "7041           No               No          No          No              No   \n",
       "7042           No              Yes         Yes         Yes             Yes   \n",
       "\n",
       "            Contract PaperlessBilling              PaymentMethod  \\\n",
       "7038        One year              Yes               Mailed check   \n",
       "7039        One year              Yes    Credit card (automatic)   \n",
       "7040  Month-to-month              Yes           Electronic check   \n",
       "7041  Month-to-month              Yes               Mailed check   \n",
       "7042        Two year              Yes  Bank transfer (automatic)   \n",
       "\n",
       "      MonthlyCharges TotalCharges Churn  \n",
       "7038           84.80       1990.5    No  \n",
       "7039          103.20       7362.9    No  \n",
       "7040           29.60       346.45    No  \n",
       "7041           74.40        306.6   Yes  \n",
       "7042          105.65       6844.5    No  "
      ]
     },
     "execution_count": 6,
     "metadata": {},
     "output_type": "execute_result"
    }
   ],
   "source": [
    "# preview 5 baris data terakhir\n",
    "df.tail()"
   ]
  },
  {
   "cell_type": "code",
   "execution_count": 7,
   "metadata": {},
   "outputs": [
    {
     "data": {
      "text/plain": [
       "(7043, 21)"
      ]
     },
     "execution_count": 7,
     "metadata": {},
     "output_type": "execute_result"
    }
   ],
   "source": [
    "# ukuran dimensi dataset\n",
    "df.shape"
   ]
  },
  {
   "cell_type": "markdown",
   "metadata": {},
   "source": [
    "Dataset terdiri dari 7.043 baris data dan 21 kolom data."
   ]
  },
  {
   "cell_type": "code",
   "execution_count": 8,
   "metadata": {},
   "outputs": [
    {
     "name": "stdout",
     "output_type": "stream",
     "text": [
      "<class 'pandas.core.frame.DataFrame'>\n",
      "RangeIndex: 7043 entries, 0 to 7042\n",
      "Data columns (total 21 columns):\n",
      " #   Column            Non-Null Count  Dtype  \n",
      "---  ------            --------------  -----  \n",
      " 0   customerID        7043 non-null   object \n",
      " 1   gender            7043 non-null   object \n",
      " 2   SeniorCitizen     7043 non-null   int64  \n",
      " 3   Partner           7043 non-null   object \n",
      " 4   Dependents        7043 non-null   object \n",
      " 5   tenure            7043 non-null   int64  \n",
      " 6   PhoneService      7043 non-null   object \n",
      " 7   MultipleLines     7043 non-null   object \n",
      " 8   InternetService   7043 non-null   object \n",
      " 9   OnlineSecurity    7043 non-null   object \n",
      " 10  OnlineBackup      7043 non-null   object \n",
      " 11  DeviceProtection  7043 non-null   object \n",
      " 12  TechSupport       7043 non-null   object \n",
      " 13  StreamingTV       7043 non-null   object \n",
      " 14  StreamingMovies   7043 non-null   object \n",
      " 15  Contract          7043 non-null   object \n",
      " 16  PaperlessBilling  7043 non-null   object \n",
      " 17  PaymentMethod     7043 non-null   object \n",
      " 18  MonthlyCharges    7043 non-null   float64\n",
      " 19  TotalCharges      7043 non-null   object \n",
      " 20  Churn             7043 non-null   object \n",
      "dtypes: float64(1), int64(2), object(18)\n",
      "memory usage: 1.1+ MB\n"
     ]
    }
   ],
   "source": [
    "# informasi dataset\n",
    "df.info()"
   ]
  },
  {
   "cell_type": "markdown",
   "metadata": {},
   "source": [
    "Terlihat dari hasil informasi dataset diatas, dataset ini tidak memiliki missing values, namun terdapat beberapa kolom yang memiliki tipe data yang salah yaitu kolom `SeniorCitizen` dan `TotalCharges`."
   ]
  },
  {
   "cell_type": "markdown",
   "metadata": {},
   "source": [
    "### Columns Manipulation"
   ]
  },
  {
   "cell_type": "markdown",
   "metadata": {},
   "source": [
    "Kolom `SeniorCitizen` dan `TotalCharges` akan diubah tipe datanya agar lebih sesuai."
   ]
  },
  {
   "cell_type": "code",
   "execution_count": 9,
   "metadata": {},
   "outputs": [],
   "source": [
    "# ubah tipe data kolom menjadi object\n",
    "df['SeniorCitizen'] = df['SeniorCitizen'].replace({1 : 'Yes', 0 : 'No'})"
   ]
  },
  {
   "cell_type": "code",
   "execution_count": 10,
   "metadata": {},
   "outputs": [],
   "source": [
    "# ubah tipe data kolom mnejadi float\n",
    "df['TotalCharges'] = pd.to_numeric(df['TotalCharges'], errors='coerce')"
   ]
  },
  {
   "cell_type": "code",
   "execution_count": 11,
   "metadata": {},
   "outputs": [
    {
     "name": "stdout",
     "output_type": "stream",
     "text": [
      "<class 'pandas.core.frame.DataFrame'>\n",
      "RangeIndex: 7043 entries, 0 to 7042\n",
      "Data columns (total 21 columns):\n",
      " #   Column            Non-Null Count  Dtype  \n",
      "---  ------            --------------  -----  \n",
      " 0   customerID        7043 non-null   object \n",
      " 1   gender            7043 non-null   object \n",
      " 2   SeniorCitizen     7043 non-null   object \n",
      " 3   Partner           7043 non-null   object \n",
      " 4   Dependents        7043 non-null   object \n",
      " 5   tenure            7043 non-null   int64  \n",
      " 6   PhoneService      7043 non-null   object \n",
      " 7   MultipleLines     7043 non-null   object \n",
      " 8   InternetService   7043 non-null   object \n",
      " 9   OnlineSecurity    7043 non-null   object \n",
      " 10  OnlineBackup      7043 non-null   object \n",
      " 11  DeviceProtection  7043 non-null   object \n",
      " 12  TechSupport       7043 non-null   object \n",
      " 13  StreamingTV       7043 non-null   object \n",
      " 14  StreamingMovies   7043 non-null   object \n",
      " 15  Contract          7043 non-null   object \n",
      " 16  PaperlessBilling  7043 non-null   object \n",
      " 17  PaymentMethod     7043 non-null   object \n",
      " 18  MonthlyCharges    7043 non-null   float64\n",
      " 19  TotalCharges      7032 non-null   float64\n",
      " 20  Churn             7043 non-null   object \n",
      "dtypes: float64(2), int64(1), object(18)\n",
      "memory usage: 1.1+ MB\n"
     ]
    }
   ],
   "source": [
    "# pengecekan kembali apakah tipe data berhasil diubah\n",
    "df.info()"
   ]
  },
  {
   "cell_type": "markdown",
   "metadata": {},
   "source": [
    "Kolom `SeniorCitizen` dan `TotalCharges` telah berhasil diubah tipe datanya, namun pada kolom `TotalCharges` terdapat 11 baris data missing values. Karena jumlahnya yang hanya sedikit, maka missing values ini akan didrop."
   ]
  },
  {
   "cell_type": "code",
   "execution_count": 12,
   "metadata": {},
   "outputs": [],
   "source": [
    "# drop missing values\n",
    "df.dropna(inplace=True)"
   ]
  },
  {
   "cell_type": "code",
   "execution_count": 13,
   "metadata": {},
   "outputs": [
    {
     "data": {
      "text/plain": [
       "0"
      ]
     },
     "execution_count": 13,
     "metadata": {},
     "output_type": "execute_result"
    }
   ],
   "source": [
    "# pengecekan ulang missing values\n",
    "df.isnull().sum().sum()"
   ]
  },
  {
   "cell_type": "markdown",
   "metadata": {},
   "source": [
    "Dataset ini sudah tidak memiliki missing values"
   ]
  },
  {
   "cell_type": "markdown",
   "metadata": {},
   "source": [
    "### Cek Data Duplikat"
   ]
  },
  {
   "cell_type": "markdown",
   "metadata": {},
   "source": [
    "Pengecekan data duplikat dilakukan untuk melihat apakah terdapat baris data yang sama persis valuenya dengan baris data lain. Pengecekan ini dilakukan untuk mengurangi anomali data."
   ]
  },
  {
   "cell_type": "code",
   "execution_count": 14,
   "metadata": {},
   "outputs": [
    {
     "data": {
      "text/plain": [
       "0"
      ]
     },
     "execution_count": 14,
     "metadata": {},
     "output_type": "execute_result"
    }
   ],
   "source": [
    "# pengecekan duplikat data\n",
    "df.duplicated().sum()"
   ]
  },
  {
   "cell_type": "markdown",
   "metadata": {},
   "source": [
    "Dataset ini tidak memiliki duplikat data."
   ]
  },
  {
   "cell_type": "markdown",
   "metadata": {},
   "source": [
    "### Checking Categorical Value"
   ]
  },
  {
   "cell_type": "markdown",
   "metadata": {},
   "source": [
    "Pengecekan value data kategorik dilakukan untuk melihat apakah terdapat value data kategorikal yang tidak terdefinisi atau dapat digabungkan menjadi satu kesatuan dengan kelas lainnya."
   ]
  },
  {
   "cell_type": "code",
   "execution_count": 15,
   "metadata": {},
   "outputs": [],
   "source": [
    "# list data kategorik dan numerik\n",
    "cat_cols = df.select_dtypes(include=['object']).columns.tolist()\n",
    "num_cols = df.select_dtypes(include=['int64', 'float64']).columns.tolist()"
   ]
  },
  {
   "cell_type": "code",
   "execution_count": 16,
   "metadata": {},
   "outputs": [
    {
     "name": "stdout",
     "output_type": "stream",
     "text": [
      "Unique kolom gender : ['Female' 'Male']\n",
      "Unique kolom SeniorCitizen : ['No' 'Yes']\n",
      "Unique kolom Partner : ['Yes' 'No']\n",
      "Unique kolom Dependents : ['No' 'Yes']\n",
      "Unique kolom PhoneService : ['No' 'Yes']\n",
      "Unique kolom MultipleLines : ['No phone service' 'No' 'Yes']\n",
      "Unique kolom InternetService : ['DSL' 'Fiber optic' 'No']\n",
      "Unique kolom OnlineSecurity : ['No' 'Yes' 'No internet service']\n",
      "Unique kolom OnlineBackup : ['Yes' 'No' 'No internet service']\n",
      "Unique kolom DeviceProtection : ['No' 'Yes' 'No internet service']\n",
      "Unique kolom TechSupport : ['No' 'Yes' 'No internet service']\n",
      "Unique kolom StreamingTV : ['No' 'Yes' 'No internet service']\n",
      "Unique kolom StreamingMovies : ['No' 'Yes' 'No internet service']\n",
      "Unique kolom Contract : ['Month-to-month' 'One year' 'Two year']\n",
      "Unique kolom PaperlessBilling : ['Yes' 'No']\n",
      "Unique kolom PaymentMethod : ['Electronic check' 'Mailed check' 'Bank transfer (automatic)'\n",
      " 'Credit card (automatic)']\n",
      "Unique kolom Churn : ['No' 'Yes']\n"
     ]
    }
   ],
   "source": [
    "# looping untuk melihat value data kategorik\n",
    "for i in (cat_cols[1:]): \n",
    "    print(f'Unique kolom {i} :', df[i].unique())"
   ]
  },
  {
   "cell_type": "markdown",
   "metadata": {},
   "source": [
    "Hasil value data kategorik diatas menunjukan bahwa seluruh value kategorik telah terdefinisi dengan baik dan tidak ada value kategorik yang dapat digabung menjadi satu."
   ]
  },
  {
   "cell_type": "markdown",
   "metadata": {},
   "source": [
    "_________________"
   ]
  },
  {
   "cell_type": "markdown",
   "metadata": {},
   "source": [
    "# IV. Exploratory Data Analysis (EDA)"
   ]
  },
  {
   "cell_type": "markdown",
   "metadata": {},
   "source": [
    "Proses EDA ini saya akan melakukan eksplorasi pada beberapa bagian untuk mendapatkan insight dari dataset telco ini. Berikut adalah bagian-bagian dari EDA yang akan saya lakukan:\n",
    "\n",
    "1. Cek Distribusi Data Numerik  \n",
    "2. Proporsi Kolom `Churn`  \n",
    "3. Proporsi Customer Churn Berdasarkan Jenis Internet Service\n",
    "4. Karakteristik Customer Churn dan Customer Tidak Churn"
   ]
  },
  {
   "cell_type": "markdown",
   "metadata": {},
   "source": [
    "### 1. Distribusi Data Numerik"
   ]
  },
  {
   "cell_type": "markdown",
   "metadata": {},
   "source": [
    "Pengecekan distribusi data numerik dilakukan untuk melihat persebaran data numerik. Persebaran data numerik ini akan menentukan metode proses data preprocessing yang akan dilakukan."
   ]
  },
  {
   "cell_type": "code",
   "execution_count": 17,
   "metadata": {},
   "outputs": [],
   "source": [
    "# membuat fungsi untuk distribusi data menggunakan histogram dan boxplot\n",
    "def plot_dist(df, col):\n",
    "    fig, axes = plt.subplots(ncols = 2, figsize = (15, 5))\n",
    "    \n",
    "    # histogram\n",
    "    sns.histplot(df[col],ax = axes[0], bins=30)\n",
    "    axes[0].set_title(f\"Histogram '{col}'\")\n",
    "    axes[0].axvline(df[col].mean(), color = 'red', linestyle = 'dashed', label = 'mean')\n",
    "    axes[0].axvline(df[col].median(), color = 'green', linestyle = 'dashed', label = 'median')\n",
    "    axes[0].legend()\n",
    "    \n",
    "    # boxplot\n",
    "    sns.boxplot(y=df[col], ax =  axes[1])\n",
    "    axes[1].set_title(f\"Boxplot '{col}'\")\n",
    "    \n",
    "    plt.show()\n",
    "    \n",
    "    # skewness\n",
    "    print('Skewness :', df[col].skew())\n",
    "    if -0.5 <= df[col].skew() <= 0.5:\n",
    "        print(\"Kolom '{}' berdistribusi normal\".format(col))\n",
    "    elif df[col].skew() > 0.5:\n",
    "        print(\"Kolom '{}' right skewed (miring ke kanan)\".format(col))\n",
    "    elif df[col].skew() < -0.5:\n",
    "        print(\"Kolom '{}' left skewed (miring ke kiri)\".format(col))"
   ]
  },
  {
   "cell_type": "code",
   "execution_count": 18,
   "metadata": {},
   "outputs": [
    {
     "data": {
      "image/png": "[encoded data removed]",
      "text/plain": [
       "<Figure size 1080x360 with 2 Axes>"
      ]
     },
     "metadata": {
      "needs_background": "light"
     },
     "output_type": "display_data"
    },
    {
     "name": "stdout",
     "output_type": "stream",
     "text": [
      "Skewness : 0.23773083190513133\n",
      "Kolom 'tenure' berdistribusi normal\n"
     ]
    }
   ],
   "source": [
    "# fungsi visualisasi distribusi data pada kolom `tenure`\n",
    "plot_dist(df, 'tenure')"
   ]
  },
  {
   "cell_type": "code",
   "execution_count": 19,
   "metadata": {},
   "outputs": [
    {
     "data": {
      "image/png": "[encoded data removed]",
      "text/plain": [
       "<Figure size 1080x360 with 2 Axes>"
      ]
     },
     "metadata": {
      "needs_background": "light"
     },
     "output_type": "display_data"
    },
    {
     "name": "stdout",
     "output_type": "stream",
     "text": [
      "Skewness : -0.22210292770166232\n",
      "Kolom 'MonthlyCharges' berdistribusi normal\n"
     ]
    }
   ],
   "source": [
    "# fungsi visualisasi distribusi data pada kolom `MonthlyCharges`\n",
    "plot_dist(df, 'MonthlyCharges')"
   ]
  },
  {
   "cell_type": "code",
   "execution_count": 20,
   "metadata": {},
   "outputs": [
    {
     "data": {
      "image/png": "[encoded data removed]",
      "text/plain": [
       "<Figure size 1080x360 with 2 Axes>"
      ]
     },
     "metadata": {
      "needs_background": "light"
     },
     "output_type": "display_data"
    },
    {
     "name": "stdout",
     "output_type": "stream",
     "text": [
      "Skewness : 0.9616424997242504\n",
      "Kolom 'TotalCharges' right skewed (miring ke kanan)\n"
     ]
    }
   ],
   "source": [
    "# fungsi visualisasi distribusi data pada kolom `TotalCharges`\n",
    "plot_dist(df, 'TotalCharges')"
   ]
  },
  {
   "cell_type": "markdown",
   "metadata": {},
   "source": [
    "Terlihat dari beberapa grafik histogram dan boxplot diatas, bahwa distribusi data numerik pada kolom `tenure` dan `MonthlyCharges` memiliki persebaran data yang berdistribusi normal, sedangkan pada kolom `TotalCharges` persebaran datanya miring ke kanan. Karena terdapat 1 kolom yang tidak terdistribusi normal, maka saya akan menggunakan metode scaling Robust Scaler pada data preprocessing."
   ]
  },
  {
   "cell_type": "markdown",
   "metadata": {},
   "source": [
    "### 2. Proporsi Kolom `Churn`"
   ]
  },
  {
   "cell_type": "markdown",
   "metadata": {},
   "source": [
    "Pada bagian EDA ini, kolom Churn atau yang dapat dikatakan sebagai label ini akan menentukan prediksi model. Melakukan pengecekan proporsi label ini adalah untuk melihat gambaran mengenai customer churn pada perusahaan telco ini."
   ]
  },
  {
   "cell_type": "code",
   "execution_count": 21,
   "metadata": {},
   "outputs": [
    {
     "data": {
      "image/png": "[encoded data removed]",
      "text/plain": [
       "<Figure size 576x576 with 1 Axes>"
      ]
     },
     "metadata": {},
     "output_type": "display_data"
    }
   ],
   "source": [
    "# visualiasai pie chart 'Churn'\n",
    "df['Churn'].value_counts().plot(kind = 'pie', autopct='%1.1f%%', figsize=(8, 8),labels = ['Not Churn', 'Churn'], colors = ['turquoise', 'maroon'])\n",
    "plt.title('Churn Customer Proportion', size = 15)\n",
    "plt.ylabel('')\n",
    "plt.show()"
   ]
  },
  {
   "cell_type": "markdown",
   "metadata": {},
   "source": [
    "Proporsi label Churn diatas menunjukan bahwa Churn rate pada dataset ini adalah 26,6%. Angka churn rate ini dapat kita tekan jika terdapat sebuah model machine learning yang dapat memprediksi customer churn sedini mungkin, sehingga customer tersebut dapat bertahan dan loyal terhadap perusahaan karena tim atau divisi terkait dapat melakukan tindakan yang terukur untuk mencegah customer tersebut churn. Sebuah website apps akan menjadi sesuatu yang sangat berguna karena tim terkait dapat langsung memantau customer secara real-time."
   ]
  },
  {
   "cell_type": "markdown",
   "metadata": {},
   "source": [
    "### 3. Proporsi Customer Churn Berdasarkan Jenis Internet Service"
   ]
  },
  {
   "cell_type": "markdown",
   "metadata": {},
   "source": [
    "EDA ini akan fokus untuk melihat proporsi customer churn berdasarkan jenis internet service. Hal ini dapat menjadi masukan untuk tim marketing dan sales guna melihat jenis internet service seperti apa yang memiliki jumlah customer churn yang paling banyak. Insight ini dapat dijadikan sebagai landasan dalam membuat customer retention program dengan memfokuskan pada jenis internet service tertentu yang memiliki jumlah customer churn paling banyak."
   ]
  },
  {
   "cell_type": "code",
   "execution_count": 22,
   "metadata": {},
   "outputs": [
    {
     "data": {
      "image/png": "[encoded data removed]",
      "text/plain": [
       "<Figure size 864x576 with 1 Axes>"
      ]
     },
     "metadata": {
      "needs_background": "light"
     },
     "output_type": "display_data"
    }
   ],
   "source": [
    "# visualisasi bar plot customer churn\n",
    "plt.figure(figsize = (12, 8))\n",
    "sns.countplot(data = df, x = 'InternetService', hue = 'Churn', palette = 'Set2')\n",
    "plt.title('Bar Plot Customer Churn Based on Internet Service', size = 15)\n",
    "plt.xlabel('Internet Service')\n",
    "plt.ylabel('Frekuensi')\n",
    "plt.show()"
   ]
  },
  {
   "cell_type": "markdown",
   "metadata": {},
   "source": [
    "Hasil barplot diatas menunjukan bahwa Fiber Optic merupakan jenis internet service yang paling banyak memiliki customer churn. Hal ini dapat menjadi fokus tim terkait untuk melakukan analisa mengenai performa jenis internet service tersebut dan meningkatkan performa pelayanan bagi customer yang memilih Fiber Optic agar tidak mudah churn dikemudian hari."
   ]
  },
  {
   "cell_type": "markdown",
   "metadata": {},
   "source": [
    "### 4. Karakteristik Customer Churn dan Customer Tidak Churn"
   ]
  },
  {
   "cell_type": "markdown",
   "metadata": {},
   "source": [
    "EDA ini akan melihat beberapa karakteristik churn dan customer tidak churn sehingga perusahaan memiliki sistem peringatan awal mengenai customer yang cenderung akan churn dikemudian hari."
   ]
  },
  {
   "cell_type": "code",
   "execution_count": 23,
   "metadata": {},
   "outputs": [
    {
     "data": {
      "image/png": "[encoded data removed]",
      "text/plain": [
       "<Figure size 1080x576 with 2 Axes>"
      ]
     },
     "metadata": {},
     "output_type": "display_data"
    }
   ],
   "source": [
    "# proporsi customer churn laki-laki dan perempuan\n",
    "fig, ax = plt.subplots(ncols=2, figsize=(15,8))\n",
    "\n",
    "df[df['gender'] == 'Male']['Churn'].value_counts().plot(kind = 'pie', autopct='%1.1f%%', labels = ['Not Churn', 'Churn'], colors = ['turquoise', 'maroon'], ax=ax[0])\n",
    "ax[0].set_title('Proporsi Customer Churn Laki-laki', size = 12)\n",
    "ax[0].set_ylabel('')\n",
    "\n",
    "df[df['gender'] == 'Female']['Churn'].value_counts().plot(kind = 'pie', autopct='%1.1f%%', labels = ['Not Churn', 'Churn'], colors = ['turquoise', 'maroon'] ,ax=ax[1])\n",
    "ax[1].set_title('Proporsi Customer Churn Perempuan', size = 12)\n",
    "ax[1].set_ylabel('')\n",
    "plt.show()"
   ]
  },
  {
   "cell_type": "markdown",
   "metadata": {},
   "source": [
    "Dua pie chart diatas menunjukan bahwa tidak perbedaan jenis kelamin dalam menentukan kecenderungan customer tersebut churn atau tidak churn."
   ]
  },
  {
   "cell_type": "code",
   "execution_count": 24,
   "metadata": {},
   "outputs": [
    {
     "data": {
      "image/png": "[encoded data removed]",
      "text/plain": [
       "<Figure size 864x576 with 1 Axes>"
      ]
     },
     "metadata": {
      "needs_background": "light"
     },
     "output_type": "display_data"
    }
   ],
   "source": [
    "# visualisasi bar plot customer churn\n",
    "plt.figure(figsize = (12, 8))\n",
    "sns.countplot(data = df, x = 'Contract', hue = 'Churn', palette = 'Set2')\n",
    "plt.title('Bar Plot Customer Churn Based on Contract', size = 15)\n",
    "plt.xlabel('Contract')\n",
    "plt.ylabel('Frekuensi')\n",
    "plt.show()"
   ]
  },
  {
   "cell_type": "markdown",
   "metadata": {},
   "source": [
    "Hasil barplot diatas menunjukan bahwa customer dengan kontrak perbulan memiliki jumlah customer churn terbanyak diantara jenis kontrak lainnya. Hal ini cukup wajar karena customer dengan kontrak perbulan hanya memiliki masa berlangganan yang lebih cepat dibandingkan dengan kontrak 1 tahun dan 2 tahun. Hal ini dapat dijadikan sebagai insight untuk melakukan promosi dan ajakan kepada customer yang memiliki kontrak perbulan untuk berpindah menjadi customer dengan kontrak tahunan. Hal ini tentunya dapat mengurangi churn rate customer."
   ]
  },
  {
   "cell_type": "code",
   "execution_count": 25,
   "metadata": {},
   "outputs": [
    {
     "data": {
      "image/png": "[encoded data removed]",
      "text/plain": [
       "<Figure size 720x720 with 1 Axes>"
      ]
     },
     "metadata": {
      "needs_background": "light"
     },
     "output_type": "display_data"
    }
   ],
   "source": [
    "# visualisasi bar plot customer churn\n",
    "plt.figure(figsize = (10,10))\n",
    "sns.barplot(data=df, x='Churn', y='MonthlyCharges')\n",
    "plt.title('Bar Plot Average Monthly Charges Based on Customer Churn', size = 15)\n",
    "plt.ylabel('Average Monthly Charges')\n",
    "plt.show()"
   ]
  },
  {
   "cell_type": "code",
   "execution_count": 26,
   "metadata": {},
   "outputs": [
    {
     "name": "stdout",
     "output_type": "stream",
     "text": [
      "Rata-rata Jumlah Tagihan pada customer yang CHURN \t: 74.0\n",
      "Rata-rata Jumlah Tagihan pada customer yang TIDAK CHURN : 61.0\n"
     ]
    }
   ],
   "source": [
    "# nilai rata-rata monthly charges\n",
    "print('Rata-rata Jumlah Tagihan pada customer yang CHURN \\t:', np.round(df[df['Churn'] == 'Yes']['MonthlyCharges'].mean()))\n",
    "print('Rata-rata Jumlah Tagihan pada customer yang TIDAK CHURN :', np.round(df[df['Churn'] == 'No']['MonthlyCharges'].mean()))"
   ]
  },
  {
   "cell_type": "markdown",
   "metadata": {},
   "source": [
    "Hasil eksplorasi diatas menunjukan bahwa customer churn memiliki rata-rata jumlah tagihan perbulan lebih besar daripada customer yang tidak churn. Hal ini dapat dijadikan sebagai langkah pencegahan dengan mengurangi jumlah tagihan perbulan customer yang terprediksi akan churn. Diharapkan customer tersebut akan memikirkan kembali keputusannya untuk churn karena mendapatkan benefit yang diberikan oleh perusahaan dengan adanya pengurangan jumlah tagihan perbulan."
   ]
  },
  {
   "cell_type": "markdown",
   "metadata": {},
   "source": [
    "Dari hasil EDA, kita dapat mengetahui beberapa karakteristik customer yang akan churn yaitu sebagai berikut:\n",
    "1. Customer churn cenderung memiliki tipe internet service yaitu Fiber Optic\n",
    "2. Customer churn cenderung memiliki kontrak pembayaran perbulan\n",
    "3. Customer churn cenderung memiliki jumlah tagihan yang lebih tinggi dibandingkan dengan customer yang tidak churn"
   ]
  },
  {
   "cell_type": "markdown",
   "metadata": {},
   "source": [
    "________________________________________"
   ]
  },
  {
   "cell_type": "markdown",
   "metadata": {},
   "source": [
    "# V. Data Preprocessing"
   ]
  },
  {
   "cell_type": "markdown",
   "metadata": {},
   "source": [
    "### Split Data Inference"
   ]
  },
  {
   "cell_type": "markdown",
   "metadata": {},
   "source": [
    "Untuk melakukan model inference, saya akan memisahkan 10 data sampel dari dataset awal yang selanjutnya akan disimpan dalam variabel baru bernama `df_inf`."
   ]
  },
  {
   "cell_type": "code",
   "execution_count": 27,
   "metadata": {},
   "outputs": [
    {
     "data": {
      "text/html": [
       "<div>\n",
       "<style scoped>\n",
       "    .dataframe tbody tr th:only-of-type {\n",
       "        vertical-align: middle;\n",
       "    }\n",
       "\n",
       "    .dataframe tbody tr th {\n",
       "        vertical-align: top;\n",
       "    }\n",
       "\n",
       "    .dataframe thead th {\n",
       "        text-align: right;\n",
       "    }\n",
       "</style>\n",
       "<table border=\"1\" class=\"dataframe\">\n",
       "  <thead>\n",
       "    <tr style=\"text-align: right;\">\n",
       "      <th></th>\n",
       "      <th>customerID</th>\n",
       "      <th>gender</th>\n",
       "      <th>SeniorCitizen</th>\n",
       "      <th>Partner</th>\n",
       "      <th>Dependents</th>\n",
       "      <th>tenure</th>\n",
       "      <th>PhoneService</th>\n",
       "      <th>MultipleLines</th>\n",
       "      <th>InternetService</th>\n",
       "      <th>OnlineSecurity</th>\n",
       "      <th>OnlineBackup</th>\n",
       "      <th>DeviceProtection</th>\n",
       "      <th>TechSupport</th>\n",
       "      <th>StreamingTV</th>\n",
       "      <th>StreamingMovies</th>\n",
       "      <th>Contract</th>\n",
       "      <th>PaperlessBilling</th>\n",
       "      <th>PaymentMethod</th>\n",
       "      <th>MonthlyCharges</th>\n",
       "      <th>TotalCharges</th>\n",
       "      <th>Churn</th>\n",
       "    </tr>\n",
       "  </thead>\n",
       "  <tbody>\n",
       "    <tr>\n",
       "      <th>2411</th>\n",
       "      <td>6901-GOGZG</td>\n",
       "      <td>Male</td>\n",
       "      <td>No</td>\n",
       "      <td>No</td>\n",
       "      <td>Yes</td>\n",
       "      <td>60</td>\n",
       "      <td>Yes</td>\n",
       "      <td>Yes</td>\n",
       "      <td>DSL</td>\n",
       "      <td>Yes</td>\n",
       "      <td>No</td>\n",
       "      <td>Yes</td>\n",
       "      <td>Yes</td>\n",
       "      <td>Yes</td>\n",
       "      <td>Yes</td>\n",
       "      <td>Two year</td>\n",
       "      <td>Yes</td>\n",
       "      <td>Electronic check</td>\n",
       "      <td>84.95</td>\n",
       "      <td>4984.85</td>\n",
       "      <td>No</td>\n",
       "    </tr>\n",
       "    <tr>\n",
       "      <th>5118</th>\n",
       "      <td>7621-VPNET</td>\n",
       "      <td>Female</td>\n",
       "      <td>No</td>\n",
       "      <td>Yes</td>\n",
       "      <td>No</td>\n",
       "      <td>42</td>\n",
       "      <td>Yes</td>\n",
       "      <td>Yes</td>\n",
       "      <td>Fiber optic</td>\n",
       "      <td>No</td>\n",
       "      <td>No</td>\n",
       "      <td>Yes</td>\n",
       "      <td>Yes</td>\n",
       "      <td>No</td>\n",
       "      <td>No</td>\n",
       "      <td>Month-to-month</td>\n",
       "      <td>Yes</td>\n",
       "      <td>Credit card (automatic)</td>\n",
       "      <td>85.90</td>\n",
       "      <td>3729.75</td>\n",
       "      <td>No</td>\n",
       "    </tr>\n",
       "    <tr>\n",
       "      <th>5724</th>\n",
       "      <td>8042-JVNFH</td>\n",
       "      <td>Male</td>\n",
       "      <td>No</td>\n",
       "      <td>No</td>\n",
       "      <td>No</td>\n",
       "      <td>1</td>\n",
       "      <td>Yes</td>\n",
       "      <td>No</td>\n",
       "      <td>Fiber optic</td>\n",
       "      <td>No</td>\n",
       "      <td>No</td>\n",
       "      <td>No</td>\n",
       "      <td>No</td>\n",
       "      <td>No</td>\n",
       "      <td>No</td>\n",
       "      <td>Month-to-month</td>\n",
       "      <td>Yes</td>\n",
       "      <td>Mailed check</td>\n",
       "      <td>71.35</td>\n",
       "      <td>71.35</td>\n",
       "      <td>Yes</td>\n",
       "    </tr>\n",
       "    <tr>\n",
       "      <th>4774</th>\n",
       "      <td>7402-PWYJJ</td>\n",
       "      <td>Female</td>\n",
       "      <td>No</td>\n",
       "      <td>Yes</td>\n",
       "      <td>No</td>\n",
       "      <td>53</td>\n",
       "      <td>Yes</td>\n",
       "      <td>Yes</td>\n",
       "      <td>Fiber optic</td>\n",
       "      <td>No</td>\n",
       "      <td>No</td>\n",
       "      <td>No</td>\n",
       "      <td>Yes</td>\n",
       "      <td>No</td>\n",
       "      <td>Yes</td>\n",
       "      <td>One year</td>\n",
       "      <td>Yes</td>\n",
       "      <td>Electronic check</td>\n",
       "      <td>91.15</td>\n",
       "      <td>4862.50</td>\n",
       "      <td>No</td>\n",
       "    </tr>\n",
       "    <tr>\n",
       "      <th>1877</th>\n",
       "      <td>7873-CVMAW</td>\n",
       "      <td>Male</td>\n",
       "      <td>No</td>\n",
       "      <td>No</td>\n",
       "      <td>No</td>\n",
       "      <td>72</td>\n",
       "      <td>Yes</td>\n",
       "      <td>Yes</td>\n",
       "      <td>DSL</td>\n",
       "      <td>Yes</td>\n",
       "      <td>Yes</td>\n",
       "      <td>Yes</td>\n",
       "      <td>Yes</td>\n",
       "      <td>Yes</td>\n",
       "      <td>Yes</td>\n",
       "      <td>Two year</td>\n",
       "      <td>No</td>\n",
       "      <td>Credit card (automatic)</td>\n",
       "      <td>88.55</td>\n",
       "      <td>6362.35</td>\n",
       "      <td>No</td>\n",
       "    </tr>\n",
       "    <tr>\n",
       "      <th>131</th>\n",
       "      <td>6207-WIOLX</td>\n",
       "      <td>Female</td>\n",
       "      <td>No</td>\n",
       "      <td>Yes</td>\n",
       "      <td>Yes</td>\n",
       "      <td>25</td>\n",
       "      <td>No</td>\n",
       "      <td>No phone service</td>\n",
       "      <td>DSL</td>\n",
       "      <td>Yes</td>\n",
       "      <td>Yes</td>\n",
       "      <td>Yes</td>\n",
       "      <td>No</td>\n",
       "      <td>Yes</td>\n",
       "      <td>Yes</td>\n",
       "      <td>Month-to-month</td>\n",
       "      <td>Yes</td>\n",
       "      <td>Credit card (automatic)</td>\n",
       "      <td>58.60</td>\n",
       "      <td>1502.65</td>\n",
       "      <td>Yes</td>\n",
       "    </tr>\n",
       "    <tr>\n",
       "      <th>5631</th>\n",
       "      <td>6542-LWGXJ</td>\n",
       "      <td>Male</td>\n",
       "      <td>No</td>\n",
       "      <td>Yes</td>\n",
       "      <td>No</td>\n",
       "      <td>3</td>\n",
       "      <td>No</td>\n",
       "      <td>No phone service</td>\n",
       "      <td>DSL</td>\n",
       "      <td>No</td>\n",
       "      <td>No</td>\n",
       "      <td>No</td>\n",
       "      <td>No</td>\n",
       "      <td>No</td>\n",
       "      <td>No</td>\n",
       "      <td>Month-to-month</td>\n",
       "      <td>No</td>\n",
       "      <td>Mailed check</td>\n",
       "      <td>25.00</td>\n",
       "      <td>78.25</td>\n",
       "      <td>No</td>\n",
       "    </tr>\n",
       "    <tr>\n",
       "      <th>4028</th>\n",
       "      <td>5574-NXZIU</td>\n",
       "      <td>Male</td>\n",
       "      <td>No</td>\n",
       "      <td>No</td>\n",
       "      <td>No</td>\n",
       "      <td>63</td>\n",
       "      <td>Yes</td>\n",
       "      <td>No</td>\n",
       "      <td>Fiber optic</td>\n",
       "      <td>Yes</td>\n",
       "      <td>Yes</td>\n",
       "      <td>Yes</td>\n",
       "      <td>Yes</td>\n",
       "      <td>Yes</td>\n",
       "      <td>Yes</td>\n",
       "      <td>Two year</td>\n",
       "      <td>No</td>\n",
       "      <td>Credit card (automatic)</td>\n",
       "      <td>109.20</td>\n",
       "      <td>7049.75</td>\n",
       "      <td>No</td>\n",
       "    </tr>\n",
       "    <tr>\n",
       "      <th>5588</th>\n",
       "      <td>1660-HSOOQ</td>\n",
       "      <td>Male</td>\n",
       "      <td>No</td>\n",
       "      <td>No</td>\n",
       "      <td>No</td>\n",
       "      <td>1</td>\n",
       "      <td>Yes</td>\n",
       "      <td>No</td>\n",
       "      <td>DSL</td>\n",
       "      <td>No</td>\n",
       "      <td>No</td>\n",
       "      <td>Yes</td>\n",
       "      <td>No</td>\n",
       "      <td>No</td>\n",
       "      <td>No</td>\n",
       "      <td>Month-to-month</td>\n",
       "      <td>Yes</td>\n",
       "      <td>Mailed check</td>\n",
       "      <td>49.65</td>\n",
       "      <td>49.65</td>\n",
       "      <td>Yes</td>\n",
       "    </tr>\n",
       "    <tr>\n",
       "      <th>3013</th>\n",
       "      <td>2065-MMKGR</td>\n",
       "      <td>Female</td>\n",
       "      <td>No</td>\n",
       "      <td>No</td>\n",
       "      <td>No</td>\n",
       "      <td>29</td>\n",
       "      <td>Yes</td>\n",
       "      <td>Yes</td>\n",
       "      <td>DSL</td>\n",
       "      <td>No</td>\n",
       "      <td>No</td>\n",
       "      <td>No</td>\n",
       "      <td>No</td>\n",
       "      <td>Yes</td>\n",
       "      <td>Yes</td>\n",
       "      <td>One year</td>\n",
       "      <td>Yes</td>\n",
       "      <td>Credit card (automatic)</td>\n",
       "      <td>71.00</td>\n",
       "      <td>2080.10</td>\n",
       "      <td>No</td>\n",
       "    </tr>\n",
       "  </tbody>\n",
       "</table>\n",
       "</div>"
      ],
      "text/plain": [
       "      customerID  gender SeniorCitizen Partner Dependents  tenure  \\\n",
       "2411  6901-GOGZG    Male            No      No        Yes      60   \n",
       "5118  7621-VPNET  Female            No     Yes         No      42   \n",
       "5724  8042-JVNFH    Male            No      No         No       1   \n",
       "4774  7402-PWYJJ  Female            No     Yes         No      53   \n",
       "1877  7873-CVMAW    Male            No      No         No      72   \n",
       "131   6207-WIOLX  Female            No     Yes        Yes      25   \n",
       "5631  6542-LWGXJ    Male            No     Yes         No       3   \n",
       "4028  5574-NXZIU    Male            No      No         No      63   \n",
       "5588  1660-HSOOQ    Male            No      No         No       1   \n",
       "3013  2065-MMKGR  Female            No      No         No      29   \n",
       "\n",
       "     PhoneService     MultipleLines InternetService OnlineSecurity  \\\n",
       "2411          Yes               Yes             DSL            Yes   \n",
       "5118          Yes               Yes     Fiber optic             No   \n",
       "5724          Yes                No     Fiber optic             No   \n",
       "4774          Yes               Yes     Fiber optic             No   \n",
       "1877          Yes               Yes             DSL            Yes   \n",
       "131            No  No phone service             DSL            Yes   \n",
       "5631           No  No phone service             DSL             No   \n",
       "4028          Yes                No     Fiber optic            Yes   \n",
       "5588          Yes                No             DSL             No   \n",
       "3013          Yes               Yes             DSL             No   \n",
       "\n",
       "     OnlineBackup DeviceProtection TechSupport StreamingTV StreamingMovies  \\\n",
       "2411           No              Yes         Yes         Yes             Yes   \n",
       "5118           No              Yes         Yes          No              No   \n",
       "5724           No               No          No          No              No   \n",
       "4774           No               No         Yes          No             Yes   \n",
       "1877          Yes              Yes         Yes         Yes             Yes   \n",
       "131           Yes              Yes          No         Yes             Yes   \n",
       "5631           No               No          No          No              No   \n",
       "4028          Yes              Yes         Yes         Yes             Yes   \n",
       "5588           No              Yes          No          No              No   \n",
       "3013           No               No          No         Yes             Yes   \n",
       "\n",
       "            Contract PaperlessBilling            PaymentMethod  \\\n",
       "2411        Two year              Yes         Electronic check   \n",
       "5118  Month-to-month              Yes  Credit card (automatic)   \n",
       "5724  Month-to-month              Yes             Mailed check   \n",
       "4774        One year              Yes         Electronic check   \n",
       "1877        Two year               No  Credit card (automatic)   \n",
       "131   Month-to-month              Yes  Credit card (automatic)   \n",
       "5631  Month-to-month               No             Mailed check   \n",
       "4028        Two year               No  Credit card (automatic)   \n",
       "5588  Month-to-month              Yes             Mailed check   \n",
       "3013        One year              Yes  Credit card (automatic)   \n",
       "\n",
       "      MonthlyCharges  TotalCharges Churn  \n",
       "2411           84.95       4984.85    No  \n",
       "5118           85.90       3729.75    No  \n",
       "5724           71.35         71.35   Yes  \n",
       "4774           91.15       4862.50    No  \n",
       "1877           88.55       6362.35    No  \n",
       "131            58.60       1502.65   Yes  \n",
       "5631           25.00         78.25    No  \n",
       "4028          109.20       7049.75    No  \n",
       "5588           49.65         49.65   Yes  \n",
       "3013           71.00       2080.10    No  "
      ]
     },
     "execution_count": 27,
     "metadata": {},
     "output_type": "execute_result"
    }
   ],
   "source": [
    "# split data inference dari dataset awal\n",
    "df_inf = df.sample(10, random_state = 7)\n",
    "df_inf"
   ]
  },
  {
   "cell_type": "code",
   "execution_count": 28,
   "metadata": {},
   "outputs": [
    {
     "data": {
      "text/plain": [
       "No     7\n",
       "Yes    3\n",
       "Name: Churn, dtype: int64"
      ]
     },
     "execution_count": 28,
     "metadata": {},
     "output_type": "execute_result"
    }
   ],
   "source": [
    "# cek proporsi label pada data inference\n",
    "df_inf['Churn'].value_counts()"
   ]
  },
  {
   "cell_type": "markdown",
   "metadata": {},
   "source": [
    "Proporsi label `Churn` pada data inference adalah 3 data customer yang churn, dan 7 data customer yang tidak churn. Proporsi label ini sudah cukup baik untuk dapat dijadikan sebagai data inference."
   ]
  },
  {
   "cell_type": "markdown",
   "metadata": {},
   "source": [
    "Data inference yang sudah dipisahkan lalu didrop index datanya pada dataset untuk training model agar model tidak mengalami kebocoran data karena model telah mempelajari data inference tersebut terlebih dahulu."
   ]
  },
  {
   "cell_type": "code",
   "execution_count": 29,
   "metadata": {},
   "outputs": [],
   "source": [
    "# drop index data inference pada data untuk train-val-test set\n",
    "df_trainval_test = df.drop(df_inf.index)"
   ]
  },
  {
   "cell_type": "markdown",
   "metadata": {},
   "source": [
    "Selanjutnya saya melakukan reset index agar penomoran data kembali sesuai urutannya pada masing-masing variabel dataset."
   ]
  },
  {
   "cell_type": "code",
   "execution_count": 30,
   "metadata": {},
   "outputs": [],
   "source": [
    "# reset index\n",
    "df_trainval_test.reset_index(drop = True, inplace = True)\n",
    "df_inf.reset_index(drop = True, inplace = True)"
   ]
  },
  {
   "cell_type": "markdown",
   "metadata": {},
   "source": [
    "### Split Label (y) dan Fitur (X)"
   ]
  },
  {
   "cell_type": "markdown",
   "metadata": {},
   "source": [
    "Label adalah variabel yang ingin diprediksi, yaitu kolom `Churn` dengan ketentuan nilai 1 adalah Churn dan nilai 0 adalah tidak churn. Fitur adalah kolom-kolom yang akan dijadikan sebagai variabel penentu dalam memprediksi label Churn."
   ]
  },
  {
   "cell_type": "code",
   "execution_count": 31,
   "metadata": {},
   "outputs": [],
   "source": [
    "# split label dan fitur\n",
    "X = df_trainval_test.drop(['customerID', 'Churn'], axis = 1)\n",
    "y = df_trainval_test['Churn'].map({'Yes': 1, 'No': 0})"
   ]
  },
  {
   "cell_type": "code",
   "execution_count": 32,
   "metadata": {},
   "outputs": [
    {
     "name": "stdout",
     "output_type": "stream",
     "text": [
      "Ukuran dimensi fitur:  (7022, 19)\n",
      "Ukuran dimensi label:  (7022,)\n"
     ]
    }
   ],
   "source": [
    "print('Ukuran dimensi fitur: ', X.shape)\n",
    "print('Ukuran dimensi label: ', y.shape)"
   ]
  },
  {
   "cell_type": "markdown",
   "metadata": {},
   "source": [
    "Fitur yang dipilih adalah 19 fitur dengan 7.022 baris data."
   ]
  },
  {
   "cell_type": "markdown",
   "metadata": {},
   "source": [
    "### Manipulasi Kolom Kategorik"
   ]
  },
  {
   "cell_type": "markdown",
   "metadata": {},
   "source": [
    "Dalam dataset ini, terdapat beberapa jenis kolom kategorik yaitu kolom kategorik binary dan kolom kategorik multiclass. Kolom kategorik binary akan diubah nilainya menjadi binary number dengan nilai 1 : 'Yes', dan 0 : 'No'. Sedangkan kolom kategorik multiclass akan dilakukan encoding dengan menggunakan One Hot Encoder untuk mewakili setiap nilai class yang ada."
   ]
  },
  {
   "cell_type": "markdown",
   "metadata": {},
   "source": [
    "Berikut adalah kolom kategorik binary : \n",
    "- `SeniorCitizen`\n",
    "- `Partner`\n",
    "- `Dependents`\n",
    "- `PhoneService`\n",
    "- `PaperlessBilling`"
   ]
  },
  {
   "cell_type": "code",
   "execution_count": 33,
   "metadata": {},
   "outputs": [],
   "source": [
    "# list nama kolom kategorik multiclass\n",
    "cat_cols_nom = ['gender', 'MultipleLines', 'InternetService', 'OnlineSecurity', 'OnlineBackup', \n",
    "                'DeviceProtection', 'TechSupport', 'StreamingTV', 'StreamingMovies', 'Contract', 'PaymentMethod']\n",
    "\n",
    "# list nama kolom kategorik binary\n",
    "cat_cols_bin = ['SeniorCitizen', 'Partner', 'Dependents', 'PhoneService', 'PaperlessBilling']"
   ]
  },
  {
   "cell_type": "code",
   "execution_count": 34,
   "metadata": {},
   "outputs": [],
   "source": [
    "# ubah value pada kolom kategorik binary menjadi 0 dan 1\n",
    "X[cat_cols_bin] = X[cat_cols_bin].replace({'Yes': 1, 'No': 0})"
   ]
  },
  {
   "cell_type": "markdown",
   "metadata": {},
   "source": [
    "### Split Data Trainval-set dan Test-set"
   ]
  },
  {
   "cell_type": "markdown",
   "metadata": {},
   "source": [
    "Split data antara data trainval-set dan data test-set dengan perbandingan 80% data trainval-set, dan 20% data test-set."
   ]
  },
  {
   "cell_type": "code",
   "execution_count": 35,
   "metadata": {},
   "outputs": [
    {
     "name": "stdout",
     "output_type": "stream",
     "text": [
      "Ukuran dimensi Data Trainval-set:  (5617, 19)\n",
      "Ukuran dimensi Data Test-set:  (1405, 19)\n"
     ]
    }
   ],
   "source": [
    "# split data trainval-set dan test-set\n",
    "X_trainval, X_test, y_trainval, y_test = train_test_split(X, y, test_size = 0.2, random_state = 10)\n",
    "\n",
    "print('Ukuran dimensi Data Trainval-set: ', X_trainval.shape)\n",
    "print('Ukuran dimensi Data Test-set: ', X_test.shape)"
   ]
  },
  {
   "cell_type": "code",
   "execution_count": 36,
   "metadata": {},
   "outputs": [
    {
     "name": "stdout",
     "output_type": "stream",
     "text": [
      "Proporsi label pada Data Trainval-set: \n",
      " 0    4118\n",
      "1    1499\n",
      "Name: Churn, dtype: int64\n",
      "Proporsi label pada Data Test-set: \n",
      " 0    1038\n",
      "1     367\n",
      "Name: Churn, dtype: int64\n"
     ]
    }
   ],
   "source": [
    "# Cek proporsi label pada data trainval-set dan test-set\n",
    "print('Proporsi label pada Data Trainval-set: \\n', y_trainval.value_counts())\n",
    "print('Proporsi label pada Data Test-set: \\n', y_test.value_counts())"
   ]
  },
  {
   "cell_type": "markdown",
   "metadata": {},
   "source": [
    "### Split Data Train-set dan Val-set"
   ]
  },
  {
   "cell_type": "markdown",
   "metadata": {},
   "source": [
    "Split data antara data train-set dan data val-set dengan perbandingan 80% data train-set, dan 20% data val-set."
   ]
  },
  {
   "cell_type": "code",
   "execution_count": 37,
   "metadata": {},
   "outputs": [
    {
     "name": "stdout",
     "output_type": "stream",
     "text": [
      "Ukuran dimensi Data Trainval-set:  (4493, 19)\n",
      "Ukuran dimensi Data Test-set:  (1124, 19)\n"
     ]
    }
   ],
   "source": [
    "# split data train-set dan val-set\n",
    "X_train, X_val, y_train, y_val = train_test_split(X_trainval, y_trainval, test_size = 0.2, random_state = 10)\n",
    "\n",
    "print('Ukuran dimensi Data Trainval-set: ', X_train.shape)\n",
    "print('Ukuran dimensi Data Test-set: ', X_val.shape)"
   ]
  },
  {
   "cell_type": "code",
   "execution_count": 38,
   "metadata": {},
   "outputs": [
    {
     "name": "stdout",
     "output_type": "stream",
     "text": [
      "Proporsi label pada Data Trainval-set: \n",
      " 0    3295\n",
      "1    1198\n",
      "Name: Churn, dtype: int64\n",
      "Proporsi label pada Data Test-set: \n",
      " 0    823\n",
      "1    301\n",
      "Name: Churn, dtype: int64\n"
     ]
    }
   ],
   "source": [
    "# Cek proporsi label pada data train-set dan val-set\n",
    "print('Proporsi label pada Data Trainval-set: \\n', y_train.value_counts())\n",
    "print('Proporsi label pada Data Test-set: \\n', y_val.value_counts())"
   ]
  },
  {
   "cell_type": "markdown",
   "metadata": {},
   "source": [
    "### Pipeline (Column Transformer)"
   ]
  },
  {
   "cell_type": "markdown",
   "metadata": {},
   "source": [
    "Pipeline digunakan untuk membantu proses data preprocessing menjadi lebih ringkas dan cepat."
   ]
  },
  {
   "cell_type": "code",
   "execution_count": 39,
   "metadata": {},
   "outputs": [
    {
     "name": "stdout",
     "output_type": "stream",
     "text": [
      "Data Numerik : ['tenure', 'MonthlyCharges', 'TotalCharges']\n",
      "Data Kategorik Nominal: ['gender', 'MultipleLines', 'InternetService', 'OnlineSecurity', 'OnlineBackup', 'DeviceProtection', 'TechSupport', 'StreamingTV', 'StreamingMovies', 'Contract', 'PaymentMethod']\n",
      "Data Kategorik Binary: ['SeniorCitizen', 'Partner', 'Dependents', 'PhoneService', 'PaperlessBilling']\n"
     ]
    }
   ],
   "source": [
    "# list data numerik dan kategorik\n",
    "print('Data Numerik :', num_cols)\n",
    "print('Data Kategorik Nominal:', cat_cols_nom)\n",
    "print('Data Kategorik Binary:', cat_cols_bin)"
   ]
  },
  {
   "cell_type": "markdown",
   "metadata": {},
   "source": [
    "Data numerik akan dilakukan scaling menggunakan Robust Scaler, sedangkan data kategorik multiclass (nominal) akan dilakukan encoding dengan menggunakan One Hot Encoder, data kategorik binary karena sebelumnya telah diubah menjadi nilai binary maka akan dibiarkan."
   ]
  },
  {
   "cell_type": "code",
   "execution_count": 40,
   "metadata": {},
   "outputs": [],
   "source": [
    "# pipeline\n",
    "full_pipeline = ColumnTransformer([\n",
    "                ('scaler', RobustScaler(), num_cols),\n",
    "                ('ohe', OneHotEncoder(), cat_cols_nom)\n",
    "                ], remainder = 'passthrough')"
   ]
  },
  {
   "cell_type": "code",
   "execution_count": 41,
   "metadata": {},
   "outputs": [],
   "source": [
    "# fit transform pipeline pada data-set\n",
    "X_train_final = full_pipeline.fit_transform(X_train)\n",
    "X_val_final = full_pipeline.transform(X_val)\n",
    "X_test_final = full_pipeline.transform(X_test)"
   ]
  },
  {
   "cell_type": "code",
   "execution_count": 42,
   "metadata": {},
   "outputs": [
    {
     "data": {
      "text/plain": [
       "array(['x0_Female', 'x0_Male', 'x1_No', 'x1_No phone service', 'x1_Yes',\n",
       "       'x2_DSL', 'x2_Fiber optic', 'x2_No', 'x3_No',\n",
       "       'x3_No internet service', 'x3_Yes', 'x4_No',\n",
       "       'x4_No internet service', 'x4_Yes', 'x5_No',\n",
       "       'x5_No internet service', 'x5_Yes', 'x6_No',\n",
       "       'x6_No internet service', 'x6_Yes', 'x7_No',\n",
       "       'x7_No internet service', 'x7_Yes', 'x8_No',\n",
       "       'x8_No internet service', 'x8_Yes', 'x9_Month-to-month',\n",
       "       'x9_One year', 'x9_Two year', 'x10_Bank transfer (automatic)',\n",
       "       'x10_Credit card (automatic)', 'x10_Electronic check',\n",
       "       'x10_Mailed check'], dtype=object)"
      ]
     },
     "execution_count": 42,
     "metadata": {},
     "output_type": "execute_result"
    }
   ],
   "source": [
    "# features name hasil one hot encoder\n",
    "ohe_features = full_pipeline.named_transformers_['ohe'].get_feature_names()\n",
    "ohe_features"
   ]
  },
  {
   "cell_type": "markdown",
   "metadata": {},
   "source": [
    "Hasil diatas merupakan nama-nama fitur hasil dari One Hot Encoder dengan ketentuan nama x sebagai berikut:"
   ]
  },
  {
   "cell_type": "markdown",
   "metadata": {},
   "source": [
    "- x0 : `gender`\n",
    "- x1 : `MultipleLines`\n",
    "- x2 : `InternetService`\n",
    "- x3 : `OnlineSecurity`\n",
    "- x4 : `OnlineBackup`\n",
    "- x5 : `DeviceProtection`\n",
    "- x6 : `TechSupport`\n",
    "- x7 : `StreamingTV`\n",
    "- x8 : `StreamingMovies`\n",
    "- x9 : `Contract`\n",
    "- x10 : `PaymentMethod`"
   ]
  },
  {
   "cell_type": "code",
   "execution_count": 43,
   "metadata": {},
   "outputs": [
    {
     "data": {
      "text/html": [
       "<div>\n",
       "<style scoped>\n",
       "    .dataframe tbody tr th:only-of-type {\n",
       "        vertical-align: middle;\n",
       "    }\n",
       "\n",
       "    .dataframe tbody tr th {\n",
       "        vertical-align: top;\n",
       "    }\n",
       "\n",
       "    .dataframe thead th {\n",
       "        text-align: right;\n",
       "    }\n",
       "</style>\n",
       "<table border=\"1\" class=\"dataframe\">\n",
       "  <thead>\n",
       "    <tr style=\"text-align: right;\">\n",
       "      <th></th>\n",
       "      <th>tenure</th>\n",
       "      <th>MonthlyCharges</th>\n",
       "      <th>TotalCharges</th>\n",
       "      <th>x0_Female</th>\n",
       "      <th>x0_Male</th>\n",
       "      <th>x1_No</th>\n",
       "      <th>x1_No phone service</th>\n",
       "      <th>x1_Yes</th>\n",
       "      <th>x2_DSL</th>\n",
       "      <th>x2_Fiber optic</th>\n",
       "      <th>x2_No</th>\n",
       "      <th>x3_No</th>\n",
       "      <th>x3_No internet service</th>\n",
       "      <th>x3_Yes</th>\n",
       "      <th>x4_No</th>\n",
       "      <th>x4_No internet service</th>\n",
       "      <th>x4_Yes</th>\n",
       "      <th>x5_No</th>\n",
       "      <th>x5_No internet service</th>\n",
       "      <th>x5_Yes</th>\n",
       "      <th>x6_No</th>\n",
       "      <th>x6_No internet service</th>\n",
       "      <th>x6_Yes</th>\n",
       "      <th>x7_No</th>\n",
       "      <th>x7_No internet service</th>\n",
       "      <th>x7_Yes</th>\n",
       "      <th>x8_No</th>\n",
       "      <th>x8_No internet service</th>\n",
       "      <th>x8_Yes</th>\n",
       "      <th>x9_Month-to-month</th>\n",
       "      <th>x9_One year</th>\n",
       "      <th>x9_Two year</th>\n",
       "      <th>x10_Bank transfer (automatic)</th>\n",
       "      <th>x10_Credit card (automatic)</th>\n",
       "      <th>x10_Electronic check</th>\n",
       "      <th>x10_Mailed check</th>\n",
       "      <th>SeniorCitizen</th>\n",
       "      <th>Partner</th>\n",
       "      <th>Dependents</th>\n",
       "      <th>PhoneService</th>\n",
       "      <th>PaperlessBilling</th>\n",
       "    </tr>\n",
       "  </thead>\n",
       "  <tbody>\n",
       "    <tr>\n",
       "      <th>0</th>\n",
       "      <td>0.765957</td>\n",
       "      <td>-0.937790</td>\n",
       "      <td>-0.026465</td>\n",
       "      <td>0.0</td>\n",
       "      <td>1.0</td>\n",
       "      <td>1.0</td>\n",
       "      <td>0.0</td>\n",
       "      <td>0.0</td>\n",
       "      <td>0.0</td>\n",
       "      <td>0.0</td>\n",
       "      <td>1.0</td>\n",
       "      <td>0.0</td>\n",
       "      <td>1.0</td>\n",
       "      <td>0.0</td>\n",
       "      <td>0.0</td>\n",
       "      <td>1.0</td>\n",
       "      <td>0.0</td>\n",
       "      <td>0.0</td>\n",
       "      <td>1.0</td>\n",
       "      <td>0.0</td>\n",
       "      <td>0.0</td>\n",
       "      <td>1.0</td>\n",
       "      <td>0.0</td>\n",
       "      <td>0.0</td>\n",
       "      <td>1.0</td>\n",
       "      <td>0.0</td>\n",
       "      <td>0.0</td>\n",
       "      <td>1.0</td>\n",
       "      <td>0.0</td>\n",
       "      <td>0.0</td>\n",
       "      <td>0.0</td>\n",
       "      <td>1.0</td>\n",
       "      <td>0.0</td>\n",
       "      <td>0.0</td>\n",
       "      <td>0.0</td>\n",
       "      <td>1.0</td>\n",
       "      <td>0.0</td>\n",
       "      <td>1.0</td>\n",
       "      <td>1.0</td>\n",
       "      <td>1.0</td>\n",
       "      <td>0.0</td>\n",
       "    </tr>\n",
       "    <tr>\n",
       "      <th>1</th>\n",
       "      <td>-0.063830</td>\n",
       "      <td>0.285980</td>\n",
       "      <td>0.242682</td>\n",
       "      <td>1.0</td>\n",
       "      <td>0.0</td>\n",
       "      <td>1.0</td>\n",
       "      <td>0.0</td>\n",
       "      <td>0.0</td>\n",
       "      <td>0.0</td>\n",
       "      <td>1.0</td>\n",
       "      <td>0.0</td>\n",
       "      <td>0.0</td>\n",
       "      <td>0.0</td>\n",
       "      <td>1.0</td>\n",
       "      <td>1.0</td>\n",
       "      <td>0.0</td>\n",
       "      <td>0.0</td>\n",
       "      <td>1.0</td>\n",
       "      <td>0.0</td>\n",
       "      <td>0.0</td>\n",
       "      <td>1.0</td>\n",
       "      <td>0.0</td>\n",
       "      <td>0.0</td>\n",
       "      <td>0.0</td>\n",
       "      <td>0.0</td>\n",
       "      <td>1.0</td>\n",
       "      <td>1.0</td>\n",
       "      <td>0.0</td>\n",
       "      <td>0.0</td>\n",
       "      <td>1.0</td>\n",
       "      <td>0.0</td>\n",
       "      <td>0.0</td>\n",
       "      <td>0.0</td>\n",
       "      <td>1.0</td>\n",
       "      <td>0.0</td>\n",
       "      <td>0.0</td>\n",
       "      <td>1.0</td>\n",
       "      <td>0.0</td>\n",
       "      <td>0.0</td>\n",
       "      <td>1.0</td>\n",
       "      <td>1.0</td>\n",
       "    </tr>\n",
       "    <tr>\n",
       "      <th>2</th>\n",
       "      <td>0.531915</td>\n",
       "      <td>-0.130919</td>\n",
       "      <td>0.605741</td>\n",
       "      <td>0.0</td>\n",
       "      <td>1.0</td>\n",
       "      <td>0.0</td>\n",
       "      <td>0.0</td>\n",
       "      <td>1.0</td>\n",
       "      <td>1.0</td>\n",
       "      <td>0.0</td>\n",
       "      <td>0.0</td>\n",
       "      <td>1.0</td>\n",
       "      <td>0.0</td>\n",
       "      <td>0.0</td>\n",
       "      <td>1.0</td>\n",
       "      <td>0.0</td>\n",
       "      <td>0.0</td>\n",
       "      <td>0.0</td>\n",
       "      <td>0.0</td>\n",
       "      <td>1.0</td>\n",
       "      <td>1.0</td>\n",
       "      <td>0.0</td>\n",
       "      <td>0.0</td>\n",
       "      <td>1.0</td>\n",
       "      <td>0.0</td>\n",
       "      <td>0.0</td>\n",
       "      <td>0.0</td>\n",
       "      <td>0.0</td>\n",
       "      <td>1.0</td>\n",
       "      <td>0.0</td>\n",
       "      <td>0.0</td>\n",
       "      <td>1.0</td>\n",
       "      <td>0.0</td>\n",
       "      <td>1.0</td>\n",
       "      <td>0.0</td>\n",
       "      <td>0.0</td>\n",
       "      <td>0.0</td>\n",
       "      <td>1.0</td>\n",
       "      <td>1.0</td>\n",
       "      <td>1.0</td>\n",
       "      <td>0.0</td>\n",
       "    </tr>\n",
       "    <tr>\n",
       "      <th>3</th>\n",
       "      <td>0.468085</td>\n",
       "      <td>0.162488</td>\n",
       "      <td>0.787786</td>\n",
       "      <td>1.0</td>\n",
       "      <td>0.0</td>\n",
       "      <td>1.0</td>\n",
       "      <td>0.0</td>\n",
       "      <td>0.0</td>\n",
       "      <td>0.0</td>\n",
       "      <td>1.0</td>\n",
       "      <td>0.0</td>\n",
       "      <td>0.0</td>\n",
       "      <td>0.0</td>\n",
       "      <td>1.0</td>\n",
       "      <td>0.0</td>\n",
       "      <td>0.0</td>\n",
       "      <td>1.0</td>\n",
       "      <td>1.0</td>\n",
       "      <td>0.0</td>\n",
       "      <td>0.0</td>\n",
       "      <td>1.0</td>\n",
       "      <td>0.0</td>\n",
       "      <td>0.0</td>\n",
       "      <td>1.0</td>\n",
       "      <td>0.0</td>\n",
       "      <td>0.0</td>\n",
       "      <td>1.0</td>\n",
       "      <td>0.0</td>\n",
       "      <td>0.0</td>\n",
       "      <td>1.0</td>\n",
       "      <td>0.0</td>\n",
       "      <td>0.0</td>\n",
       "      <td>1.0</td>\n",
       "      <td>0.0</td>\n",
       "      <td>0.0</td>\n",
       "      <td>0.0</td>\n",
       "      <td>0.0</td>\n",
       "      <td>1.0</td>\n",
       "      <td>1.0</td>\n",
       "      <td>1.0</td>\n",
       "      <td>1.0</td>\n",
       "    </tr>\n",
       "    <tr>\n",
       "      <th>4</th>\n",
       "      <td>0.553191</td>\n",
       "      <td>-0.941504</td>\n",
       "      <td>-0.072032</td>\n",
       "      <td>1.0</td>\n",
       "      <td>0.0</td>\n",
       "      <td>1.0</td>\n",
       "      <td>0.0</td>\n",
       "      <td>0.0</td>\n",
       "      <td>0.0</td>\n",
       "      <td>0.0</td>\n",
       "      <td>1.0</td>\n",
       "      <td>0.0</td>\n",
       "      <td>1.0</td>\n",
       "      <td>0.0</td>\n",
       "      <td>0.0</td>\n",
       "      <td>1.0</td>\n",
       "      <td>0.0</td>\n",
       "      <td>0.0</td>\n",
       "      <td>1.0</td>\n",
       "      <td>0.0</td>\n",
       "      <td>0.0</td>\n",
       "      <td>1.0</td>\n",
       "      <td>0.0</td>\n",
       "      <td>0.0</td>\n",
       "      <td>1.0</td>\n",
       "      <td>0.0</td>\n",
       "      <td>0.0</td>\n",
       "      <td>1.0</td>\n",
       "      <td>0.0</td>\n",
       "      <td>0.0</td>\n",
       "      <td>1.0</td>\n",
       "      <td>0.0</td>\n",
       "      <td>0.0</td>\n",
       "      <td>0.0</td>\n",
       "      <td>1.0</td>\n",
       "      <td>0.0</td>\n",
       "      <td>0.0</td>\n",
       "      <td>1.0</td>\n",
       "      <td>0.0</td>\n",
       "      <td>1.0</td>\n",
       "      <td>0.0</td>\n",
       "    </tr>\n",
       "    <tr>\n",
       "      <th>5</th>\n",
       "      <td>0.851064</td>\n",
       "      <td>0.313835</td>\n",
       "      <td>1.396245</td>\n",
       "      <td>1.0</td>\n",
       "      <td>0.0</td>\n",
       "      <td>1.0</td>\n",
       "      <td>0.0</td>\n",
       "      <td>0.0</td>\n",
       "      <td>0.0</td>\n",
       "      <td>1.0</td>\n",
       "      <td>0.0</td>\n",
       "      <td>0.0</td>\n",
       "      <td>0.0</td>\n",
       "      <td>1.0</td>\n",
       "      <td>0.0</td>\n",
       "      <td>0.0</td>\n",
       "      <td>1.0</td>\n",
       "      <td>1.0</td>\n",
       "      <td>0.0</td>\n",
       "      <td>0.0</td>\n",
       "      <td>1.0</td>\n",
       "      <td>0.0</td>\n",
       "      <td>0.0</td>\n",
       "      <td>1.0</td>\n",
       "      <td>0.0</td>\n",
       "      <td>0.0</td>\n",
       "      <td>0.0</td>\n",
       "      <td>0.0</td>\n",
       "      <td>1.0</td>\n",
       "      <td>0.0</td>\n",
       "      <td>1.0</td>\n",
       "      <td>0.0</td>\n",
       "      <td>0.0</td>\n",
       "      <td>1.0</td>\n",
       "      <td>0.0</td>\n",
       "      <td>0.0</td>\n",
       "      <td>1.0</td>\n",
       "      <td>1.0</td>\n",
       "      <td>0.0</td>\n",
       "      <td>1.0</td>\n",
       "      <td>0.0</td>\n",
       "    </tr>\n",
       "    <tr>\n",
       "      <th>6</th>\n",
       "      <td>-0.234043</td>\n",
       "      <td>-0.683380</td>\n",
       "      <td>-0.248178</td>\n",
       "      <td>0.0</td>\n",
       "      <td>1.0</td>\n",
       "      <td>0.0</td>\n",
       "      <td>1.0</td>\n",
       "      <td>0.0</td>\n",
       "      <td>1.0</td>\n",
       "      <td>0.0</td>\n",
       "      <td>0.0</td>\n",
       "      <td>0.0</td>\n",
       "      <td>0.0</td>\n",
       "      <td>1.0</td>\n",
       "      <td>1.0</td>\n",
       "      <td>0.0</td>\n",
       "      <td>0.0</td>\n",
       "      <td>0.0</td>\n",
       "      <td>0.0</td>\n",
       "      <td>1.0</td>\n",
       "      <td>1.0</td>\n",
       "      <td>0.0</td>\n",
       "      <td>0.0</td>\n",
       "      <td>1.0</td>\n",
       "      <td>0.0</td>\n",
       "      <td>0.0</td>\n",
       "      <td>1.0</td>\n",
       "      <td>0.0</td>\n",
       "      <td>0.0</td>\n",
       "      <td>1.0</td>\n",
       "      <td>0.0</td>\n",
       "      <td>0.0</td>\n",
       "      <td>0.0</td>\n",
       "      <td>0.0</td>\n",
       "      <td>0.0</td>\n",
       "      <td>1.0</td>\n",
       "      <td>0.0</td>\n",
       "      <td>0.0</td>\n",
       "      <td>0.0</td>\n",
       "      <td>0.0</td>\n",
       "      <td>0.0</td>\n",
       "    </tr>\n",
       "    <tr>\n",
       "      <th>7</th>\n",
       "      <td>-0.425532</td>\n",
       "      <td>0.166202</td>\n",
       "      <td>-0.215052</td>\n",
       "      <td>0.0</td>\n",
       "      <td>1.0</td>\n",
       "      <td>0.0</td>\n",
       "      <td>0.0</td>\n",
       "      <td>1.0</td>\n",
       "      <td>0.0</td>\n",
       "      <td>1.0</td>\n",
       "      <td>0.0</td>\n",
       "      <td>1.0</td>\n",
       "      <td>0.0</td>\n",
       "      <td>0.0</td>\n",
       "      <td>1.0</td>\n",
       "      <td>0.0</td>\n",
       "      <td>0.0</td>\n",
       "      <td>0.0</td>\n",
       "      <td>0.0</td>\n",
       "      <td>1.0</td>\n",
       "      <td>1.0</td>\n",
       "      <td>0.0</td>\n",
       "      <td>0.0</td>\n",
       "      <td>1.0</td>\n",
       "      <td>0.0</td>\n",
       "      <td>0.0</td>\n",
       "      <td>1.0</td>\n",
       "      <td>0.0</td>\n",
       "      <td>0.0</td>\n",
       "      <td>1.0</td>\n",
       "      <td>0.0</td>\n",
       "      <td>0.0</td>\n",
       "      <td>1.0</td>\n",
       "      <td>0.0</td>\n",
       "      <td>0.0</td>\n",
       "      <td>0.0</td>\n",
       "      <td>0.0</td>\n",
       "      <td>1.0</td>\n",
       "      <td>1.0</td>\n",
       "      <td>1.0</td>\n",
       "      <td>1.0</td>\n",
       "    </tr>\n",
       "    <tr>\n",
       "      <th>8</th>\n",
       "      <td>-0.510638</td>\n",
       "      <td>0.196843</td>\n",
       "      <td>-0.296195</td>\n",
       "      <td>1.0</td>\n",
       "      <td>0.0</td>\n",
       "      <td>1.0</td>\n",
       "      <td>0.0</td>\n",
       "      <td>0.0</td>\n",
       "      <td>0.0</td>\n",
       "      <td>1.0</td>\n",
       "      <td>0.0</td>\n",
       "      <td>1.0</td>\n",
       "      <td>0.0</td>\n",
       "      <td>0.0</td>\n",
       "      <td>1.0</td>\n",
       "      <td>0.0</td>\n",
       "      <td>0.0</td>\n",
       "      <td>1.0</td>\n",
       "      <td>0.0</td>\n",
       "      <td>0.0</td>\n",
       "      <td>1.0</td>\n",
       "      <td>0.0</td>\n",
       "      <td>0.0</td>\n",
       "      <td>0.0</td>\n",
       "      <td>0.0</td>\n",
       "      <td>1.0</td>\n",
       "      <td>1.0</td>\n",
       "      <td>0.0</td>\n",
       "      <td>0.0</td>\n",
       "      <td>1.0</td>\n",
       "      <td>0.0</td>\n",
       "      <td>0.0</td>\n",
       "      <td>0.0</td>\n",
       "      <td>1.0</td>\n",
       "      <td>0.0</td>\n",
       "      <td>0.0</td>\n",
       "      <td>0.0</td>\n",
       "      <td>0.0</td>\n",
       "      <td>0.0</td>\n",
       "      <td>1.0</td>\n",
       "      <td>1.0</td>\n",
       "    </tr>\n",
       "    <tr>\n",
       "      <th>9</th>\n",
       "      <td>-0.531915</td>\n",
       "      <td>0.074280</td>\n",
       "      <td>-0.320987</td>\n",
       "      <td>0.0</td>\n",
       "      <td>1.0</td>\n",
       "      <td>0.0</td>\n",
       "      <td>0.0</td>\n",
       "      <td>1.0</td>\n",
       "      <td>0.0</td>\n",
       "      <td>1.0</td>\n",
       "      <td>0.0</td>\n",
       "      <td>1.0</td>\n",
       "      <td>0.0</td>\n",
       "      <td>0.0</td>\n",
       "      <td>1.0</td>\n",
       "      <td>0.0</td>\n",
       "      <td>0.0</td>\n",
       "      <td>1.0</td>\n",
       "      <td>0.0</td>\n",
       "      <td>0.0</td>\n",
       "      <td>1.0</td>\n",
       "      <td>0.0</td>\n",
       "      <td>0.0</td>\n",
       "      <td>1.0</td>\n",
       "      <td>0.0</td>\n",
       "      <td>0.0</td>\n",
       "      <td>1.0</td>\n",
       "      <td>0.0</td>\n",
       "      <td>0.0</td>\n",
       "      <td>1.0</td>\n",
       "      <td>0.0</td>\n",
       "      <td>0.0</td>\n",
       "      <td>0.0</td>\n",
       "      <td>0.0</td>\n",
       "      <td>0.0</td>\n",
       "      <td>1.0</td>\n",
       "      <td>1.0</td>\n",
       "      <td>1.0</td>\n",
       "      <td>0.0</td>\n",
       "      <td>1.0</td>\n",
       "      <td>1.0</td>\n",
       "    </tr>\n",
       "  </tbody>\n",
       "</table>\n",
       "</div>"
      ],
      "text/plain": [
       "     tenure  MonthlyCharges  TotalCharges  x0_Female  x0_Male  x1_No  \\\n",
       "0  0.765957       -0.937790     -0.026465        0.0      1.0    1.0   \n",
       "1 -0.063830        0.285980      0.242682        1.0      0.0    1.0   \n",
       "2  0.531915       -0.130919      0.605741        0.0      1.0    0.0   \n",
       "3  0.468085        0.162488      0.787786        1.0      0.0    1.0   \n",
       "4  0.553191       -0.941504     -0.072032        1.0      0.0    1.0   \n",
       "5  0.851064        0.313835      1.396245        1.0      0.0    1.0   \n",
       "6 -0.234043       -0.683380     -0.248178        0.0      1.0    0.0   \n",
       "7 -0.425532        0.166202     -0.215052        0.0      1.0    0.0   \n",
       "8 -0.510638        0.196843     -0.296195        1.0      0.0    1.0   \n",
       "9 -0.531915        0.074280     -0.320987        0.0      1.0    0.0   \n",
       "\n",
       "   x1_No phone service  x1_Yes  x2_DSL  x2_Fiber optic  x2_No  x3_No  \\\n",
       "0                  0.0     0.0     0.0             0.0    1.0    0.0   \n",
       "1                  0.0     0.0     0.0             1.0    0.0    0.0   \n",
       "2                  0.0     1.0     1.0             0.0    0.0    1.0   \n",
       "3                  0.0     0.0     0.0             1.0    0.0    0.0   \n",
       "4                  0.0     0.0     0.0             0.0    1.0    0.0   \n",
       "5                  0.0     0.0     0.0             1.0    0.0    0.0   \n",
       "6                  1.0     0.0     1.0             0.0    0.0    0.0   \n",
       "7                  0.0     1.0     0.0             1.0    0.0    1.0   \n",
       "8                  0.0     0.0     0.0             1.0    0.0    1.0   \n",
       "9                  0.0     1.0     0.0             1.0    0.0    1.0   \n",
       "\n",
       "   x3_No internet service  x3_Yes  x4_No  x4_No internet service  x4_Yes  \\\n",
       "0                     1.0     0.0    0.0                     1.0     0.0   \n",
       "1                     0.0     1.0    1.0                     0.0     0.0   \n",
       "2                     0.0     0.0    1.0                     0.0     0.0   \n",
       "3                     0.0     1.0    0.0                     0.0     1.0   \n",
       "4                     1.0     0.0    0.0                     1.0     0.0   \n",
       "5                     0.0     1.0    0.0                     0.0     1.0   \n",
       "6                     0.0     1.0    1.0                     0.0     0.0   \n",
       "7                     0.0     0.0    1.0                     0.0     0.0   \n",
       "8                     0.0     0.0    1.0                     0.0     0.0   \n",
       "9                     0.0     0.0    1.0                     0.0     0.0   \n",
       "\n",
       "   x5_No  x5_No internet service  x5_Yes  x6_No  x6_No internet service  \\\n",
       "0    0.0                     1.0     0.0    0.0                     1.0   \n",
       "1    1.0                     0.0     0.0    1.0                     0.0   \n",
       "2    0.0                     0.0     1.0    1.0                     0.0   \n",
       "3    1.0                     0.0     0.0    1.0                     0.0   \n",
       "4    0.0                     1.0     0.0    0.0                     1.0   \n",
       "5    1.0                     0.0     0.0    1.0                     0.0   \n",
       "6    0.0                     0.0     1.0    1.0                     0.0   \n",
       "7    0.0                     0.0     1.0    1.0                     0.0   \n",
       "8    1.0                     0.0     0.0    1.0                     0.0   \n",
       "9    1.0                     0.0     0.0    1.0                     0.0   \n",
       "\n",
       "   x6_Yes  x7_No  x7_No internet service  x7_Yes  x8_No  \\\n",
       "0     0.0    0.0                     1.0     0.0    0.0   \n",
       "1     0.0    0.0                     0.0     1.0    1.0   \n",
       "2     0.0    1.0                     0.0     0.0    0.0   \n",
       "3     0.0    1.0                     0.0     0.0    1.0   \n",
       "4     0.0    0.0                     1.0     0.0    0.0   \n",
       "5     0.0    1.0                     0.0     0.0    0.0   \n",
       "6     0.0    1.0                     0.0     0.0    1.0   \n",
       "7     0.0    1.0                     0.0     0.0    1.0   \n",
       "8     0.0    0.0                     0.0     1.0    1.0   \n",
       "9     0.0    1.0                     0.0     0.0    1.0   \n",
       "\n",
       "   x8_No internet service  x8_Yes  x9_Month-to-month  x9_One year  \\\n",
       "0                     1.0     0.0                0.0          0.0   \n",
       "1                     0.0     0.0                1.0          0.0   \n",
       "2                     0.0     1.0                0.0          0.0   \n",
       "3                     0.0     0.0                1.0          0.0   \n",
       "4                     1.0     0.0                0.0          1.0   \n",
       "5                     0.0     1.0                0.0          1.0   \n",
       "6                     0.0     0.0                1.0          0.0   \n",
       "7                     0.0     0.0                1.0          0.0   \n",
       "8                     0.0     0.0                1.0          0.0   \n",
       "9                     0.0     0.0                1.0          0.0   \n",
       "\n",
       "   x9_Two year  x10_Bank transfer (automatic)  x10_Credit card (automatic)  \\\n",
       "0          1.0                            0.0                          0.0   \n",
       "1          0.0                            0.0                          1.0   \n",
       "2          1.0                            0.0                          1.0   \n",
       "3          0.0                            1.0                          0.0   \n",
       "4          0.0                            0.0                          0.0   \n",
       "5          0.0                            0.0                          1.0   \n",
       "6          0.0                            0.0                          0.0   \n",
       "7          0.0                            1.0                          0.0   \n",
       "8          0.0                            0.0                          1.0   \n",
       "9          0.0                            0.0                          0.0   \n",
       "\n",
       "   x10_Electronic check  x10_Mailed check  SeniorCitizen  Partner  Dependents  \\\n",
       "0                   0.0               1.0            0.0      1.0         1.0   \n",
       "1                   0.0               0.0            1.0      0.0         0.0   \n",
       "2                   0.0               0.0            0.0      1.0         1.0   \n",
       "3                   0.0               0.0            0.0      1.0         1.0   \n",
       "4                   1.0               0.0            0.0      1.0         0.0   \n",
       "5                   0.0               0.0            1.0      1.0         0.0   \n",
       "6                   0.0               1.0            0.0      0.0         0.0   \n",
       "7                   0.0               0.0            0.0      1.0         1.0   \n",
       "8                   0.0               0.0            0.0      0.0         0.0   \n",
       "9                   0.0               1.0            1.0      1.0         0.0   \n",
       "\n",
       "   PhoneService  PaperlessBilling  \n",
       "0           1.0               0.0  \n",
       "1           1.0               1.0  \n",
       "2           1.0               0.0  \n",
       "3           1.0               1.0  \n",
       "4           1.0               0.0  \n",
       "5           1.0               0.0  \n",
       "6           0.0               0.0  \n",
       "7           1.0               1.0  \n",
       "8           1.0               1.0  \n",
       "9           1.0               1.0  "
      ]
     },
     "execution_count": 43,
     "metadata": {},
     "output_type": "execute_result"
    }
   ],
   "source": [
    "# convert ke dataframe\n",
    "X_train_final_df = pd.DataFrame(X_train_final, columns = num_cols + ohe_features.tolist() + cat_cols_bin)\n",
    "X_train_final_df.head(10)"
   ]
  },
  {
   "cell_type": "markdown",
   "metadata": {},
   "source": [
    "### Features Selection - Features Importance Random Forest"
   ]
  },
  {
   "cell_type": "markdown",
   "metadata": {},
   "source": [
    "Pada features selection ini, saya akan menggunakan atribut dari model Random Forest yaitu features importance. Model Random Forest memiliki sebuah atribut yang dapat melihat nilai bobot seberapa berpengaruh fitur tersebut dalam memprediksi label. Nilai bobot tersebut dapat kita jadikan sebagai patokan untuk melakukan drop pada fitur yang memiliki nilai bobot kecil dalam memprediksi label."
   ]
  },
  {
   "cell_type": "code",
   "execution_count": 44,
   "metadata": {},
   "outputs": [],
   "source": [
    "# model Random Forest\n",
    "ranfor = RandomForestClassifier(random_state = 10)"
   ]
  },
  {
   "cell_type": "code",
   "execution_count": 45,
   "metadata": {},
   "outputs": [
    {
     "data": {
      "text/html": [
       "<style>#sk-container-id-1 {color: black;background-color: white;}#sk-container-id-1 pre{padding: 0;}#sk-container-id-1 div.sk-toggleable {background-color: white;}#sk-container-id-1 label.sk-toggleable__label {cursor: pointer;display: block;width: 100%;margin-bottom: 0;padding: 0.3em;box-sizing: border-box;text-align: center;}#sk-container-id-1 label.sk-toggleable__label-arrow:before {content: \"▸\";float: left;margin-right: 0.25em;color: #696969;}#sk-container-id-1 label.sk-toggleable__label-arrow:hover:before {color: black;}#sk-container-id-1 div.sk-estimator:hover label.sk-toggleable__label-arrow:before {color: black;}#sk-container-id-1 div.sk-toggleable__content {max-height: 0;max-width: 0;overflow: hidden;text-align: left;background-color: #f0f8ff;}#sk-container-id-1 div.sk-toggleable__content pre {margin: 0.2em;color: black;border-radius: 0.25em;background-color: #f0f8ff;}#sk-container-id-1 input.sk-toggleable__control:checked~div.sk-toggleable__content {max-height: 200px;max-width: 100%;overflow: auto;}#sk-container-id-1 input.sk-toggleable__control:checked~label.sk-toggleable__label-arrow:before {content: \"▾\";}#sk-container-id-1 div.sk-estimator input.sk-toggleable__control:checked~label.sk-toggleable__label {background-color: #d4ebff;}#sk-container-id-1 div.sk-label input.sk-toggleable__control:checked~label.sk-toggleable__label {background-color: #d4ebff;}#sk-container-id-1 input.sk-hidden--visually {border: 0;clip: rect(1px 1px 1px 1px);clip: rect(1px, 1px, 1px, 1px);height: 1px;margin: -1px;overflow: hidden;padding: 0;position: absolute;width: 1px;}#sk-container-id-1 div.sk-estimator {font-family: monospace;background-color: #f0f8ff;border: 1px dotted black;border-radius: 0.25em;box-sizing: border-box;margin-bottom: 0.5em;}#sk-container-id-1 div.sk-estimator:hover {background-color: #d4ebff;}#sk-container-id-1 div.sk-parallel-item::after {content: \"\";width: 100%;border-bottom: 1px solid gray;flex-grow: 1;}#sk-container-id-1 div.sk-label:hover label.sk-toggleable__label {background-color: #d4ebff;}#sk-container-id-1 div.sk-serial::before {content: \"\";position: absolute;border-left: 1px solid gray;box-sizing: border-box;top: 0;bottom: 0;left: 50%;z-index: 0;}#sk-container-id-1 div.sk-serial {display: flex;flex-direction: column;align-items: center;background-color: white;padding-right: 0.2em;padding-left: 0.2em;position: relative;}#sk-container-id-1 div.sk-item {position: relative;z-index: 1;}#sk-container-id-1 div.sk-parallel {display: flex;align-items: stretch;justify-content: center;background-color: white;position: relative;}#sk-container-id-1 div.sk-item::before, #sk-container-id-1 div.sk-parallel-item::before {content: \"\";position: absolute;border-left: 1px solid gray;box-sizing: border-box;top: 0;bottom: 0;left: 50%;z-index: -1;}#sk-container-id-1 div.sk-parallel-item {display: flex;flex-direction: column;z-index: 1;position: relative;background-color: white;}#sk-container-id-1 div.sk-parallel-item:first-child::after {align-self: flex-end;width: 50%;}#sk-container-id-1 div.sk-parallel-item:last-child::after {align-self: flex-start;width: 50%;}#sk-container-id-1 div.sk-parallel-item:only-child::after {width: 0;}#sk-container-id-1 div.sk-dashed-wrapped {border: 1px dashed gray;margin: 0 0.4em 0.5em 0.4em;box-sizing: border-box;padding-bottom: 0.4em;background-color: white;}#sk-container-id-1 div.sk-label label {font-family: monospace;font-weight: bold;display: inline-block;line-height: 1.2em;}#sk-container-id-1 div.sk-label-container {text-align: center;}#sk-container-id-1 div.sk-container {/* jupyter's `normalize.less` sets `[hidden] { display: none; }` but bootstrap.min.css set `[hidden] { display: none !important; }` so we also need the `!important` here to be able to override the default hidden behavior on the sphinx rendered scikit-learn.org. See: https://github.com/scikit-learn/scikit-learn/issues/21755 */display: inline-block !important;position: relative;}#sk-container-id-1 div.sk-text-repr-fallback {display: none;}</style><div id=\"sk-container-id-1\" class=\"sk-top-container\"><div class=\"sk-text-repr-fallback\"><pre>RandomForestClassifier(random_state=10)</pre><b>In a Jupyter environment, please rerun this cell to show the HTML representation or trust the notebook. <br />On GitHub, the HTML representation is unable to render, please try loading this page with nbviewer.org.</b></div><div class=\"sk-container\" hidden><div class=\"sk-item\"><div class=\"sk-estimator sk-toggleable\"><input class=\"sk-toggleable__control sk-hidden--visually\" id=\"sk-estimator-id-1\" type=\"checkbox\" checked><label for=\"sk-estimator-id-1\" class=\"sk-toggleable__label sk-toggleable__label-arrow\">RandomForestClassifier</label><div class=\"sk-toggleable__content\"><pre>RandomForestClassifier(random_state=10)</pre></div></div></div></div></div>"
      ],
      "text/plain": [
       "RandomForestClassifier(random_state=10)"
      ]
     },
     "execution_count": 45,
     "metadata": {},
     "output_type": "execute_result"
    }
   ],
   "source": [
    "# fit model random forest pada data train-set\n",
    "ranfor.fit(X_train_final, y_train)"
   ]
  },
  {
   "cell_type": "code",
   "execution_count": 46,
   "metadata": {},
   "outputs": [],
   "source": [
    "# membuat tabel dataframe yang menyimpan nilai features importance\n",
    "importance_table = pd.DataFrame({\n",
    "    'imp':ranfor.feature_importances_\n",
    "    }, index = X_train_final_df.columns)"
   ]
  },
  {
   "cell_type": "code",
   "execution_count": 47,
   "metadata": {},
   "outputs": [],
   "source": [
    "# membuat kolom baru hasil features importance dengan satuan persen\n",
    "importance_table['imp_percentage'] = importance_table['imp'] * 100"
   ]
  },
  {
   "cell_type": "code",
   "execution_count": 48,
   "metadata": {},
   "outputs": [
    {
     "data": {
      "text/html": [
       "<div>\n",
       "<style scoped>\n",
       "    .dataframe tbody tr th:only-of-type {\n",
       "        vertical-align: middle;\n",
       "    }\n",
       "\n",
       "    .dataframe tbody tr th {\n",
       "        vertical-align: top;\n",
       "    }\n",
       "\n",
       "    .dataframe thead th {\n",
       "        text-align: right;\n",
       "    }\n",
       "</style>\n",
       "<table border=\"1\" class=\"dataframe\">\n",
       "  <thead>\n",
       "    <tr style=\"text-align: right;\">\n",
       "      <th></th>\n",
       "      <th>imp</th>\n",
       "      <th>imp_percentage</th>\n",
       "    </tr>\n",
       "  </thead>\n",
       "  <tbody>\n",
       "    <tr>\n",
       "      <th>TotalCharges</th>\n",
       "      <td>0.163989</td>\n",
       "      <td>16.398859</td>\n",
       "    </tr>\n",
       "    <tr>\n",
       "      <th>MonthlyCharges</th>\n",
       "      <td>0.142921</td>\n",
       "      <td>14.292079</td>\n",
       "    </tr>\n",
       "    <tr>\n",
       "      <th>tenure</th>\n",
       "      <td>0.140721</td>\n",
       "      <td>14.072146</td>\n",
       "    </tr>\n",
       "    <tr>\n",
       "      <th>x9_Month-to-month</th>\n",
       "      <td>0.062164</td>\n",
       "      <td>6.216399</td>\n",
       "    </tr>\n",
       "    <tr>\n",
       "      <th>x10_Electronic check</th>\n",
       "      <td>0.030225</td>\n",
       "      <td>3.022528</td>\n",
       "    </tr>\n",
       "    <tr>\n",
       "      <th>x3_No</th>\n",
       "      <td>0.028740</td>\n",
       "      <td>2.873952</td>\n",
       "    </tr>\n",
       "    <tr>\n",
       "      <th>PaperlessBilling</th>\n",
       "      <td>0.025388</td>\n",
       "      <td>2.538839</td>\n",
       "    </tr>\n",
       "    <tr>\n",
       "      <th>x6_No</th>\n",
       "      <td>0.024250</td>\n",
       "      <td>2.425019</td>\n",
       "    </tr>\n",
       "    <tr>\n",
       "      <th>x2_Fiber optic</th>\n",
       "      <td>0.024243</td>\n",
       "      <td>2.424273</td>\n",
       "    </tr>\n",
       "    <tr>\n",
       "      <th>Partner</th>\n",
       "      <td>0.022428</td>\n",
       "      <td>2.242797</td>\n",
       "    </tr>\n",
       "    <tr>\n",
       "      <th>SeniorCitizen</th>\n",
       "      <td>0.020883</td>\n",
       "      <td>2.088295</td>\n",
       "    </tr>\n",
       "    <tr>\n",
       "      <th>x4_No</th>\n",
       "      <td>0.019930</td>\n",
       "      <td>1.993028</td>\n",
       "    </tr>\n",
       "    <tr>\n",
       "      <th>Dependents</th>\n",
       "      <td>0.018953</td>\n",
       "      <td>1.895306</td>\n",
       "    </tr>\n",
       "    <tr>\n",
       "      <th>x0_Female</th>\n",
       "      <td>0.018148</td>\n",
       "      <td>1.814767</td>\n",
       "    </tr>\n",
       "    <tr>\n",
       "      <th>x0_Male</th>\n",
       "      <td>0.017926</td>\n",
       "      <td>1.792602</td>\n",
       "    </tr>\n",
       "    <tr>\n",
       "      <th>x1_No</th>\n",
       "      <td>0.014391</td>\n",
       "      <td>1.439134</td>\n",
       "    </tr>\n",
       "    <tr>\n",
       "      <th>x5_No</th>\n",
       "      <td>0.013991</td>\n",
       "      <td>1.399070</td>\n",
       "    </tr>\n",
       "    <tr>\n",
       "      <th>x1_Yes</th>\n",
       "      <td>0.013946</td>\n",
       "      <td>1.394571</td>\n",
       "    </tr>\n",
       "    <tr>\n",
       "      <th>x10_Bank transfer (automatic)</th>\n",
       "      <td>0.013081</td>\n",
       "      <td>1.308135</td>\n",
       "    </tr>\n",
       "    <tr>\n",
       "      <th>x6_Yes</th>\n",
       "      <td>0.012959</td>\n",
       "      <td>1.295897</td>\n",
       "    </tr>\n",
       "    <tr>\n",
       "      <th>x10_Credit card (automatic)</th>\n",
       "      <td>0.012938</td>\n",
       "      <td>1.293817</td>\n",
       "    </tr>\n",
       "    <tr>\n",
       "      <th>x5_Yes</th>\n",
       "      <td>0.012677</td>\n",
       "      <td>1.267739</td>\n",
       "    </tr>\n",
       "    <tr>\n",
       "      <th>x10_Mailed check</th>\n",
       "      <td>0.012287</td>\n",
       "      <td>1.228737</td>\n",
       "    </tr>\n",
       "    <tr>\n",
       "      <th>x4_Yes</th>\n",
       "      <td>0.011925</td>\n",
       "      <td>1.192459</td>\n",
       "    </tr>\n",
       "    <tr>\n",
       "      <th>x2_DSL</th>\n",
       "      <td>0.011553</td>\n",
       "      <td>1.155281</td>\n",
       "    </tr>\n",
       "    <tr>\n",
       "      <th>x8_Yes</th>\n",
       "      <td>0.011500</td>\n",
       "      <td>1.149960</td>\n",
       "    </tr>\n",
       "    <tr>\n",
       "      <th>x8_No</th>\n",
       "      <td>0.011482</td>\n",
       "      <td>1.148241</td>\n",
       "    </tr>\n",
       "    <tr>\n",
       "      <th>x9_One year</th>\n",
       "      <td>0.011409</td>\n",
       "      <td>1.140872</td>\n",
       "    </tr>\n",
       "    <tr>\n",
       "      <th>x7_Yes</th>\n",
       "      <td>0.011313</td>\n",
       "      <td>1.131281</td>\n",
       "    </tr>\n",
       "    <tr>\n",
       "      <th>x9_Two year</th>\n",
       "      <td>0.011198</td>\n",
       "      <td>1.119767</td>\n",
       "    </tr>\n",
       "    <tr>\n",
       "      <th>x7_No</th>\n",
       "      <td>0.011140</td>\n",
       "      <td>1.114030</td>\n",
       "    </tr>\n",
       "    <tr>\n",
       "      <th>x3_Yes</th>\n",
       "      <td>0.011102</td>\n",
       "      <td>1.110245</td>\n",
       "    </tr>\n",
       "    <tr>\n",
       "      <th>x7_No internet service</th>\n",
       "      <td>0.005385</td>\n",
       "      <td>0.538509</td>\n",
       "    </tr>\n",
       "    <tr>\n",
       "      <th>PhoneService</th>\n",
       "      <td>0.004056</td>\n",
       "      <td>0.405565</td>\n",
       "    </tr>\n",
       "    <tr>\n",
       "      <th>x1_No phone service</th>\n",
       "      <td>0.003848</td>\n",
       "      <td>0.384790</td>\n",
       "    </tr>\n",
       "    <tr>\n",
       "      <th>x4_No internet service</th>\n",
       "      <td>0.003535</td>\n",
       "      <td>0.353460</td>\n",
       "    </tr>\n",
       "    <tr>\n",
       "      <th>x8_No internet service</th>\n",
       "      <td>0.003518</td>\n",
       "      <td>0.351790</td>\n",
       "    </tr>\n",
       "    <tr>\n",
       "      <th>x5_No internet service</th>\n",
       "      <td>0.003492</td>\n",
       "      <td>0.349161</td>\n",
       "    </tr>\n",
       "    <tr>\n",
       "      <th>x2_No</th>\n",
       "      <td>0.002432</td>\n",
       "      <td>0.243181</td>\n",
       "    </tr>\n",
       "    <tr>\n",
       "      <th>x3_No internet service</th>\n",
       "      <td>0.002014</td>\n",
       "      <td>0.201409</td>\n",
       "    </tr>\n",
       "    <tr>\n",
       "      <th>x6_No internet service</th>\n",
       "      <td>0.001920</td>\n",
       "      <td>0.192011</td>\n",
       "    </tr>\n",
       "  </tbody>\n",
       "</table>\n",
       "</div>"
      ],
      "text/plain": [
       "                                    imp  imp_percentage\n",
       "TotalCharges                   0.163989       16.398859\n",
       "MonthlyCharges                 0.142921       14.292079\n",
       "tenure                         0.140721       14.072146\n",
       "x9_Month-to-month              0.062164        6.216399\n",
       "x10_Electronic check           0.030225        3.022528\n",
       "x3_No                          0.028740        2.873952\n",
       "PaperlessBilling               0.025388        2.538839\n",
       "x6_No                          0.024250        2.425019\n",
       "x2_Fiber optic                 0.024243        2.424273\n",
       "Partner                        0.022428        2.242797\n",
       "SeniorCitizen                  0.020883        2.088295\n",
       "x4_No                          0.019930        1.993028\n",
       "Dependents                     0.018953        1.895306\n",
       "x0_Female                      0.018148        1.814767\n",
       "x0_Male                        0.017926        1.792602\n",
       "x1_No                          0.014391        1.439134\n",
       "x5_No                          0.013991        1.399070\n",
       "x1_Yes                         0.013946        1.394571\n",
       "x10_Bank transfer (automatic)  0.013081        1.308135\n",
       "x6_Yes                         0.012959        1.295897\n",
       "x10_Credit card (automatic)    0.012938        1.293817\n",
       "x5_Yes                         0.012677        1.267739\n",
       "x10_Mailed check               0.012287        1.228737\n",
       "x4_Yes                         0.011925        1.192459\n",
       "x2_DSL                         0.011553        1.155281\n",
       "x8_Yes                         0.011500        1.149960\n",
       "x8_No                          0.011482        1.148241\n",
       "x9_One year                    0.011409        1.140872\n",
       "x7_Yes                         0.011313        1.131281\n",
       "x9_Two year                    0.011198        1.119767\n",
       "x7_No                          0.011140        1.114030\n",
       "x3_Yes                         0.011102        1.110245\n",
       "x7_No internet service         0.005385        0.538509\n",
       "PhoneService                   0.004056        0.405565\n",
       "x1_No phone service            0.003848        0.384790\n",
       "x4_No internet service         0.003535        0.353460\n",
       "x8_No internet service         0.003518        0.351790\n",
       "x5_No internet service         0.003492        0.349161\n",
       "x2_No                          0.002432        0.243181\n",
       "x3_No internet service         0.002014        0.201409\n",
       "x6_No internet service         0.001920        0.192011"
      ]
     },
     "execution_count": 48,
     "metadata": {},
     "output_type": "execute_result"
    }
   ],
   "source": [
    "# Hasil features importance diurutkan dari yang paling berbobot dalam menentukan label\n",
    "importance_table.sort_values(['imp'], ascending= False)"
   ]
  },
  {
   "cell_type": "code",
   "execution_count": 49,
   "metadata": {},
   "outputs": [
    {
     "data": {
      "image/png": "[encoded data removed]",
      "text/plain": [
       "<Figure size 720x1080 with 1 Axes>"
      ]
     },
     "metadata": {
      "needs_background": "light"
     },
     "output_type": "display_data"
    }
   ],
   "source": [
    "# visualisasi feature importance menggunakan bar plot horizontal\n",
    "importance_table['imp'].sort_values().plot(kind = 'barh', figsize = (10,15))\n",
    "plt.title('Features Importance', size = 15)\n",
    "plt.show()"
   ]
  },
  {
   "cell_type": "markdown",
   "metadata": {},
   "source": [
    "Dari hasil features importance diatas, kita dapat melihat bahwa fitur `TotalCharges`, `MonthlyCharges`, dan `tenure` merupakan tiga fitur yang paling berpengaruh dalam menentukan label `Churn`. Ketiga fitur ini dapat menjadi fokus utama tim terkait dalam memantau customer churn. Terdapat beberapa fitur yang memiliki bobot yang rendah dalam menentukan label, contohnya seperti nilai bobot importance dibawah 1% yang akan saya drop karena pengaruhnya yang sangat kecil dalam menentukan label. Fitur-fitur tersebut adalah sebagai berikut:"
   ]
  },
  {
   "cell_type": "markdown",
   "metadata": {},
   "source": [
    "1. `x7_No internet service` : index no. 24\n",
    "2. `PhoneService` : index no. 39\n",
    "3. `x1_No phone service` : index no. 6\n",
    "4. `x4_No internet service` : index no. 15\n",
    "5. `x8_No internet service` : index no. 27\n",
    "6. `x5_No internet service` : index no. 18\n",
    "7. `x2_No` : index no. 10\n",
    "8. `x3_No internet service` : index no. 12\n",
    "9. `x6_No internet service` : index no. 21"
   ]
  },
  {
   "cell_type": "markdown",
   "metadata": {},
   "source": [
    "9 fitur diatas akan saya drop sesuai dengan nomor indexnya pada array 1 dimensi data train-set."
   ]
  },
  {
   "cell_type": "code",
   "execution_count": 50,
   "metadata": {},
   "outputs": [],
   "source": [
    "# list nomor index yang akan di drop berdasarkan features importance\n",
    "feat_imp_drop_col = [6, 10, 12, 15, 18, 21, 24, 27, 39]"
   ]
  },
  {
   "cell_type": "code",
   "execution_count": 51,
   "metadata": {},
   "outputs": [
    {
     "data": {
      "text/plain": [
       "41"
      ]
     },
     "execution_count": 51,
     "metadata": {},
     "output_type": "execute_result"
    }
   ],
   "source": [
    "# ukuran dimensi kolom data sebelum dilakukan drop features\n",
    "X_train_final.shape[1]"
   ]
  },
  {
   "cell_type": "code",
   "execution_count": 52,
   "metadata": {},
   "outputs": [],
   "source": [
    "# drop kolom berdasarkan features importances\n",
    "X_train_final = np.delete(X_train_final, np.s_[feat_imp_drop_col], axis=1)\n",
    "X_val_final = np.delete(X_val_final, np.s_[feat_imp_drop_col], axis=1)\n",
    "X_test_final = np.delete(X_test_final, np.s_[feat_imp_drop_col], axis=1)"
   ]
  },
  {
   "cell_type": "code",
   "execution_count": 53,
   "metadata": {},
   "outputs": [
    {
     "data": {
      "text/plain": [
       "32"
      ]
     },
     "execution_count": 53,
     "metadata": {},
     "output_type": "execute_result"
    }
   ],
   "source": [
    "# ukuran dimensi kolom data setelah dilakukan drop features\n",
    "X_train_final.shape[1]"
   ]
  },
  {
   "cell_type": "markdown",
   "metadata": {},
   "source": [
    "Features selection telah berhasil dilakukan, kita telah menghapus 9 fitur yang tidak terlalu berpengaruh dalam menentukan label berdasarkan features importance random forest. Jumlah fitur yang akan digunakan untuk training model adalah 32 fitur."
   ]
  },
  {
   "cell_type": "markdown",
   "metadata": {},
   "source": [
    "### Data Pipeline Tensor Flow"
   ]
  },
  {
   "cell_type": "markdown",
   "metadata": {},
   "source": [
    "Data pipeline tensor flow digunakan untuk melakukan validasi training model yang lebih kokoh daripada hanya melakukan training model secara lansung. Metode pipeline yang akan saya gunakan adalah shuffle, repeat, dan batch pada train-set."
   ]
  },
  {
   "cell_type": "code",
   "execution_count": 54,
   "metadata": {},
   "outputs": [],
   "source": [
    "# random seed tensorflow\n",
    "tf.random.set_seed(7)"
   ]
  },
  {
   "cell_type": "code",
   "execution_count": 55,
   "metadata": {},
   "outputs": [],
   "source": [
    "# data train\n",
    "train_dataset = tf.data.Dataset.from_tensor_slices((X_train_final, y_train)).shuffle(4493).repeat(2).batch(32)  # shuffle sebanyak jumlah baris data train\n",
    "\n",
    "# data validation\n",
    "val_dataset = tf.data.Dataset.from_tensor_slices((X_val_final, y_val)).batch(32)\n",
    "\n",
    "# data test\n",
    "test_dataset = tf.data.Dataset.from_tensor_slices((X_test_final, y_test)).batch(32)"
   ]
  },
  {
   "cell_type": "markdown",
   "metadata": {},
   "source": [
    "Data untuk training model telah dilakukan pipeline sehingga hasil validasinya dapat lebih baik dan kokoh."
   ]
  },
  {
   "cell_type": "markdown",
   "metadata": {},
   "source": [
    "__________________________"
   ]
  },
  {
   "cell_type": "markdown",
   "metadata": {},
   "source": [
    "# VI. Model Definition"
   ]
  },
  {
   "cell_type": "markdown",
   "metadata": {},
   "source": [
    "Model machine learning neural network yang akan saya gunakan dalam proses modeling adalah sebagai berikut:\n",
    "1. Basic model sequential API\n",
    "2. Basic model functional API\n",
    "3. Improve model sequential API dengan weight initializer He\n",
    "4. Improve model sequential API dengan weight initializer Glorot\n",
    "5. Improve model functional API dengan optimizers Adam\n",
    "6. Improve model functional API dengan optimizers Adamax"
   ]
  },
  {
   "cell_type": "markdown",
   "metadata": {},
   "source": [
    "Dari ke-6 model diatas saya akan memilih satu model terbaik yang akan digunakan dalam model deployment dan model inference. Metriks yang digunakan dalam training model adalah loss function 'binary_crossentropy' untuk melihat nilai loss dari hasil prediksi data dengan nilai data validasi, lalu metriks recall akan digunakan dalam menentukan model terbaik karena tujuan dalam pembuatan model ini adalah model yang dapat memprediksi False Negative sedikit mungkin, atau prediksi customer yang sebenarnya churn namun terprediksi tidak churn."
   ]
  },
  {
   "cell_type": "markdown",
   "metadata": {},
   "source": [
    "___________________________"
   ]
  },
  {
   "cell_type": "markdown",
   "metadata": {},
   "source": [
    "# VII. Model Training and Evaluation"
   ]
  },
  {
   "cell_type": "markdown",
   "metadata": {},
   "source": [
    "## Basic Model"
   ]
  },
  {
   "cell_type": "markdown",
   "metadata": {},
   "source": [
    "### 1. Basic Model Sequential API"
   ]
  },
  {
   "cell_type": "markdown",
   "metadata": {},
   "source": [
    "Pada basic model sequential ini saya akan menggunakan parameter default. Tujuannya adalah untuk melihat base model dari sequential API."
   ]
  },
  {
   "cell_type": "code",
   "execution_count": 56,
   "metadata": {},
   "outputs": [],
   "source": [
    "# model sequential\n",
    "model_basic_seq = keras.models.Sequential()\n",
    "\n",
    "# input layers\n",
    "model_basic_seq.add(keras.layers.Dense(64, input_shape=(32,), name = 'input'))\n",
    "\n",
    "# hidden layers 1\n",
    "model_basic_seq.add(keras.layers.Dense(32, name = 'hidden_1'))\n",
    "\n",
    "# hidden layers 2\n",
    "model_basic_seq.add(keras.layers.Dense(16, name = 'hidden_2'))\n",
    "\n",
    "# hidden layers 3\n",
    "model_basic_seq.add(keras.layers.Dense(8, name = 'hidden_3'))\n",
    "\n",
    "# output layers\n",
    "model_basic_seq.add(keras.layers.Dense(1, name = 'output'))"
   ]
  },
  {
   "cell_type": "code",
   "execution_count": 57,
   "metadata": {},
   "outputs": [],
   "source": [
    "# Compile model\n",
    "model_basic_seq.compile(loss='binary_crossentropy',\n",
    "                        metrics = ['accuracy'])"
   ]
  },
  {
   "cell_type": "code",
   "execution_count": 58,
   "metadata": {},
   "outputs": [
    {
     "name": "stdout",
     "output_type": "stream",
     "text": [
      "Model: \"sequential\"\n",
      "_________________________________________________________________\n",
      " Layer (type)                Output Shape              Param #   \n",
      "=================================================================\n",
      " input (Dense)               (None, 64)                2112      \n",
      "                                                                 \n",
      " hidden_1 (Dense)            (None, 32)                2080      \n",
      "                                                                 \n",
      " hidden_2 (Dense)            (None, 16)                528       \n",
      "                                                                 \n",
      " hidden_3 (Dense)            (None, 8)                 136       \n",
      "                                                                 \n",
      " output (Dense)              (None, 1)                 9         \n",
      "                                                                 \n",
      "=================================================================\n",
      "Total params: 4,865\n",
      "Trainable params: 4,865\n",
      "Non-trainable params: 0\n",
      "_________________________________________________________________\n"
     ]
    }
   ],
   "source": [
    "# summary model\n",
    "model_basic_seq.summary()"
   ]
  },
  {
   "cell_type": "code",
   "execution_count": 59,
   "metadata": {},
   "outputs": [
    {
     "data": {
      "image/png": "[encoded data removed]",
      "text/plain": [
       "<IPython.core.display.Image object>"
      ]
     },
     "execution_count": 59,
     "metadata": {},
     "output_type": "execute_result"
    }
   ],
   "source": [
    "# visualisasi arsitektur model sequential \n",
    "keras.utils.plot_model(model_basic_seq, 'model_basic_seq.png', show_shapes=True)"
   ]
  },
  {
   "cell_type": "code",
   "execution_count": 60,
   "metadata": {},
   "outputs": [
    {
     "name": "stdout",
     "output_type": "stream",
     "text": [
      "Epoch 1/30\n",
      "281/281 [==============================] - 3s 5ms/step - loss: 2.1158 - accuracy: 0.7557 - val_loss: 0.8962 - val_accuracy: 0.7553\n",
      "Epoch 2/30\n",
      "281/281 [==============================] - 1s 3ms/step - loss: 0.6778 - accuracy: 0.7612 - val_loss: 0.5119 - val_accuracy: 0.7544\n",
      "Epoch 3/30\n",
      "281/281 [==============================] - 1s 3ms/step - loss: 0.5786 - accuracy: 0.7780 - val_loss: 0.7171 - val_accuracy: 0.7660\n",
      "Epoch 4/30\n",
      "281/281 [==============================] - 1s 3ms/step - loss: 0.5807 - accuracy: 0.7856 - val_loss: 0.5516 - val_accuracy: 0.7802\n",
      "Epoch 5/30\n",
      "281/281 [==============================] - 1s 3ms/step - loss: 0.5351 - accuracy: 0.7896 - val_loss: 0.5375 - val_accuracy: 0.7918\n",
      "Epoch 6/30\n",
      "281/281 [==============================] - 1s 4ms/step - loss: 0.5194 - accuracy: 0.7890 - val_loss: 0.5030 - val_accuracy: 0.7838\n",
      "Epoch 7/30\n",
      "281/281 [==============================] - 1s 3ms/step - loss: 0.5233 - accuracy: 0.7923 - val_loss: 0.5459 - val_accuracy: 0.7802\n",
      "Epoch 8/30\n",
      "281/281 [==============================] - 1s 3ms/step - loss: 0.4857 - accuracy: 0.7931 - val_loss: 0.4978 - val_accuracy: 0.7758\n",
      "Epoch 9/30\n",
      "281/281 [==============================] - 1s 3ms/step - loss: 0.5025 - accuracy: 0.7902 - val_loss: 0.4625 - val_accuracy: 0.7891\n",
      "Epoch 10/30\n",
      "281/281 [==============================] - 1s 3ms/step - loss: 0.4907 - accuracy: 0.7925 - val_loss: 0.4890 - val_accuracy: 0.7838\n",
      "Epoch 11/30\n",
      "281/281 [==============================] - 1s 3ms/step - loss: 0.5130 - accuracy: 0.7953 - val_loss: 0.4899 - val_accuracy: 0.7865\n",
      "Epoch 12/30\n",
      "281/281 [==============================] - 1s 3ms/step - loss: 0.5068 - accuracy: 0.7976 - val_loss: 0.5712 - val_accuracy: 0.7883\n",
      "Epoch 13/30\n",
      "281/281 [==============================] - 1s 3ms/step - loss: 0.4847 - accuracy: 0.7953 - val_loss: 0.4805 - val_accuracy: 0.7856\n",
      "Epoch 14/30\n",
      "281/281 [==============================] - 1s 4ms/step - loss: 0.5134 - accuracy: 0.7936 - val_loss: 0.5640 - val_accuracy: 0.7865\n",
      "Epoch 15/30\n",
      "281/281 [==============================] - 1s 3ms/step - loss: 0.5013 - accuracy: 0.7966 - val_loss: 0.4966 - val_accuracy: 0.7918\n",
      "Epoch 16/30\n",
      "281/281 [==============================] - 1s 3ms/step - loss: 0.5309 - accuracy: 0.7995 - val_loss: 0.4855 - val_accuracy: 0.7776\n",
      "Epoch 17/30\n",
      "281/281 [==============================] - 1s 3ms/step - loss: 0.4996 - accuracy: 0.7925 - val_loss: 0.4656 - val_accuracy: 0.7794\n",
      "Epoch 18/30\n",
      "281/281 [==============================] - 1s 3ms/step - loss: 0.4711 - accuracy: 0.7933 - val_loss: 0.4863 - val_accuracy: 0.7811\n",
      "Epoch 19/30\n",
      "281/281 [==============================] - 1s 3ms/step - loss: 0.5003 - accuracy: 0.7976 - val_loss: 0.6427 - val_accuracy: 0.7856\n",
      "Epoch 20/30\n",
      "281/281 [==============================] - 1s 3ms/step - loss: 0.5220 - accuracy: 0.7971 - val_loss: 0.4959 - val_accuracy: 0.7838\n",
      "Epoch 21/30\n",
      "281/281 [==============================] - 1s 3ms/step - loss: 0.4973 - accuracy: 0.7996 - val_loss: 0.5167 - val_accuracy: 0.7829\n",
      "Epoch 22/30\n",
      "281/281 [==============================] - 1s 4ms/step - loss: 0.5086 - accuracy: 0.7981 - val_loss: 0.4711 - val_accuracy: 0.7758\n",
      "Epoch 23/30\n",
      "281/281 [==============================] - 1s 3ms/step - loss: 0.5039 - accuracy: 0.7968 - val_loss: 0.5582 - val_accuracy: 0.7856\n",
      "Epoch 24/30\n",
      "281/281 [==============================] - 1s 3ms/step - loss: 0.5190 - accuracy: 0.7960 - val_loss: 0.5582 - val_accuracy: 0.7856\n",
      "Epoch 25/30\n",
      "281/281 [==============================] - 1s 3ms/step - loss: 0.5385 - accuracy: 0.7990 - val_loss: 0.4936 - val_accuracy: 0.7776\n",
      "Epoch 26/30\n",
      "281/281 [==============================] - 1s 3ms/step - loss: 0.5192 - accuracy: 0.7948 - val_loss: 0.5973 - val_accuracy: 0.7811\n",
      "Epoch 27/30\n",
      "281/281 [==============================] - 1s 3ms/step - loss: 0.5323 - accuracy: 0.7965 - val_loss: 0.6672 - val_accuracy: 0.7927\n",
      "Epoch 28/30\n",
      "281/281 [==============================] - 1s 3ms/step - loss: 0.5388 - accuracy: 0.7968 - val_loss: 0.5117 - val_accuracy: 0.7874\n",
      "Epoch 29/30\n",
      "281/281 [==============================] - 1s 3ms/step - loss: 0.4892 - accuracy: 0.7960 - val_loss: 0.4566 - val_accuracy: 0.7802\n",
      "Epoch 30/30\n",
      "281/281 [==============================] - 1s 4ms/step - loss: 0.5094 - accuracy: 0.7984 - val_loss: 0.4816 - val_accuracy: 0.7856\n"
     ]
    }
   ],
   "source": [
    "# fit basic model sequential\n",
    "history1 = model_basic_seq.fit(train_dataset,\n",
    "                              epochs = 30,\n",
    "                              validation_data = (val_dataset),\n",
    "                              verbose = 1)"
   ]
  },
  {
   "cell_type": "code",
   "execution_count": 61,
   "metadata": {},
   "outputs": [
    {
     "data": {
      "image/png": "[encoded data removed]",
      "text/plain": [
       "<Figure size 720x360 with 1 Axes>"
      ]
     },
     "metadata": {
      "needs_background": "light"
     },
     "output_type": "display_data"
    }
   ],
   "source": [
    "# visualisasi hasil training basic model sequential\n",
    "fig, ax = plt.subplots(figsize=(10,5))\n",
    "ax.plot(range(history1.epoch[-1]+1),history1.history['loss'],label='train loss')\n",
    "ax.plot(range(history1.epoch[-1]+1),history1.history['val_loss'],label='val loss')\n",
    "ax.set_xlabel('Epoch')\n",
    "ax.set_ylabel('loss')\n",
    "ax.set_ylim([0,1])\n",
    "plt.legend()\n",
    "plt.show()"
   ]
  },
  {
   "cell_type": "markdown",
   "metadata": {},
   "source": [
    "Terlihat dari hasil training basic model sequential diatas, model ini masih kurang baik dalam melakukan prediksi dengan nilai loss berada di kisaran 0,5 dengan kenaikan dan penurunan yang cukup berfluktuatif."
   ]
  },
  {
   "cell_type": "code",
   "execution_count": 62,
   "metadata": {},
   "outputs": [
    {
     "name": "stdout",
     "output_type": "stream",
     "text": [
      "Minimum Validation Loss : 0.45662155747413635\n"
     ]
    }
   ],
   "source": [
    "print('Minimum Validation Loss :', min(history1.history['val_loss']))"
   ]
  },
  {
   "cell_type": "code",
   "execution_count": 63,
   "metadata": {},
   "outputs": [
    {
     "name": "stdout",
     "output_type": "stream",
     "text": [
      "36/36 [==============================] - 0s 2ms/step\n",
      "              precision    recall  f1-score   support\n",
      "\n",
      "           0       0.85      0.86      0.86       823\n",
      "           1       0.61      0.57      0.59       301\n",
      "\n",
      "    accuracy                           0.79      1124\n",
      "   macro avg       0.73      0.72      0.72      1124\n",
      "weighted avg       0.78      0.79      0.78      1124\n",
      "\n"
     ]
    }
   ],
   "source": [
    "# classification report\n",
    "y_pred_val_seq = model_basic_seq.predict(X_val_final)\n",
    "y_pred_val_seq = np.where(y_pred_val_seq > 0.5, 1, 0)\n",
    "print(classification_report(y_val, y_pred_val_seq))"
   ]
  },
  {
   "cell_type": "markdown",
   "metadata": {},
   "source": [
    "Recall score model ini berada dikisaran 0,57 dengan akurasi skor dikisaran 0,79."
   ]
  },
  {
   "cell_type": "markdown",
   "metadata": {},
   "source": [
    "### 2. Basic Model - Functional API"
   ]
  },
  {
   "cell_type": "markdown",
   "metadata": {},
   "source": [
    "Sama seperti basic model sequential, pada basic model functional API ini saya akan menggunakan parameter default. Tujuannya adalah untuk melihat base model dari functional API."
   ]
  },
  {
   "cell_type": "code",
   "execution_count": 64,
   "metadata": {},
   "outputs": [],
   "source": [
    "# input layers\n",
    "input = keras.layers.Input(shape=[32], name='input')\n",
    "\n",
    "# hidden layers 1\n",
    "hidden_1 = keras.layers.Dense(64, name = 'hidden_1')(input)\n",
    "\n",
    "# hidden layers 2\n",
    "hidden_2 = keras.layers.Dense(32, name = 'hidden_2')(hidden_1)\n",
    "\n",
    "# concatenate\n",
    "concat = keras.layers.concatenate([input, hidden_2], name = 'concat')\n",
    "\n",
    "# output layers\n",
    "output = keras.layers.Dense(1, name='output')(concat)\n",
    "\n",
    "# model functional API\n",
    "model_basic_func = keras.models.Model(inputs=[input], outputs=[output])"
   ]
  },
  {
   "cell_type": "code",
   "execution_count": 65,
   "metadata": {},
   "outputs": [],
   "source": [
    "# compile model\n",
    "model_basic_func.compile(loss='binary_crossentropy',\n",
    "                        metrics = 'accuracy')"
   ]
  },
  {
   "cell_type": "code",
   "execution_count": 66,
   "metadata": {},
   "outputs": [
    {
     "name": "stdout",
     "output_type": "stream",
     "text": [
      "Model: \"model\"\n",
      "__________________________________________________________________________________________________\n",
      " Layer (type)                   Output Shape         Param #     Connected to                     \n",
      "==================================================================================================\n",
      " input (InputLayer)             [(None, 32)]         0           []                               \n",
      "                                                                                                  \n",
      " hidden_1 (Dense)               (None, 64)           2112        ['input[0][0]']                  \n",
      "                                                                                                  \n",
      " hidden_2 (Dense)               (None, 32)           2080        ['hidden_1[0][0]']               \n",
      "                                                                                                  \n",
      " concat (Concatenate)           (None, 64)           0           ['input[0][0]',                  \n",
      "                                                                  'hidden_2[0][0]']               \n",
      "                                                                                                  \n",
      " output (Dense)                 (None, 1)            65          ['concat[0][0]']                 \n",
      "                                                                                                  \n",
      "==================================================================================================\n",
      "Total params: 4,257\n",
      "Trainable params: 4,257\n",
      "Non-trainable params: 0\n",
      "__________________________________________________________________________________________________\n"
     ]
    }
   ],
   "source": [
    "# model summary\n",
    "model_basic_func.summary()"
   ]
  },
  {
   "cell_type": "code",
   "execution_count": 67,
   "metadata": {},
   "outputs": [
    {
     "data": {
      "image/png": "[encoded data removed]",
      "text/plain": [
       "<IPython.core.display.Image object>"
      ]
     },
     "execution_count": 67,
     "metadata": {},
     "output_type": "execute_result"
    }
   ],
   "source": [
    "# visualisasi arsitektur basic model functional API\n",
    "keras.utils.plot_model(model_basic_func, 'model_basic_func.png', show_shapes=True)"
   ]
  },
  {
   "cell_type": "code",
   "execution_count": 68,
   "metadata": {},
   "outputs": [
    {
     "name": "stdout",
     "output_type": "stream",
     "text": [
      "Epoch 1/30\n",
      "281/281 [==============================] - 2s 4ms/step - loss: 1.1233 - accuracy: 0.7603 - val_loss: 0.5577 - val_accuracy: 0.7722\n",
      "Epoch 2/30\n",
      "281/281 [==============================] - 1s 3ms/step - loss: 0.6166 - accuracy: 0.7695 - val_loss: 0.5251 - val_accuracy: 0.7117\n",
      "Epoch 3/30\n",
      "281/281 [==============================] - 1s 3ms/step - loss: 0.6245 - accuracy: 0.7812 - val_loss: 0.6790 - val_accuracy: 0.7536\n",
      "Epoch 4/30\n",
      "281/281 [==============================] - 1s 3ms/step - loss: 0.5878 - accuracy: 0.7809 - val_loss: 0.5415 - val_accuracy: 0.7883\n",
      "Epoch 5/30\n",
      "281/281 [==============================] - 1s 4ms/step - loss: 0.6199 - accuracy: 0.7853 - val_loss: 0.6283 - val_accuracy: 0.7820\n",
      "Epoch 6/30\n",
      "281/281 [==============================] - 1s 3ms/step - loss: 0.5901 - accuracy: 0.7872 - val_loss: 0.6090 - val_accuracy: 0.7954\n",
      "Epoch 7/30\n",
      "281/281 [==============================] - 1s 3ms/step - loss: 0.5728 - accuracy: 0.7896 - val_loss: 0.5866 - val_accuracy: 0.7820\n",
      "Epoch 8/30\n",
      "281/281 [==============================] - 1s 3ms/step - loss: 0.5715 - accuracy: 0.7847 - val_loss: 0.6100 - val_accuracy: 0.7856\n",
      "Epoch 9/30\n",
      "281/281 [==============================] - 1s 3ms/step - loss: 0.5825 - accuracy: 0.7892 - val_loss: 0.6020 - val_accuracy: 0.7838\n",
      "Epoch 10/30\n",
      "281/281 [==============================] - 1s 3ms/step - loss: 0.5980 - accuracy: 0.7891 - val_loss: 0.5895 - val_accuracy: 0.7669\n",
      "Epoch 11/30\n",
      "281/281 [==============================] - 1s 3ms/step - loss: 0.5862 - accuracy: 0.7886 - val_loss: 0.5345 - val_accuracy: 0.7776\n",
      "Epoch 12/30\n",
      "281/281 [==============================] - 1s 3ms/step - loss: 0.5844 - accuracy: 0.7936 - val_loss: 0.5992 - val_accuracy: 0.7607\n",
      "Epoch 13/30\n",
      "281/281 [==============================] - 1s 4ms/step - loss: 0.5961 - accuracy: 0.7878 - val_loss: 0.5776 - val_accuracy: 0.8016\n",
      "Epoch 14/30\n",
      "281/281 [==============================] - 1s 5ms/step - loss: 0.5857 - accuracy: 0.7925 - val_loss: 0.5624 - val_accuracy: 0.7856\n",
      "Epoch 15/30\n",
      "281/281 [==============================] - 1s 4ms/step - loss: 0.5898 - accuracy: 0.7888 - val_loss: 0.6037 - val_accuracy: 0.7909\n",
      "Epoch 16/30\n",
      "281/281 [==============================] - 1s 3ms/step - loss: 0.5798 - accuracy: 0.7979 - val_loss: 0.5372 - val_accuracy: 0.7714\n",
      "Epoch 17/30\n",
      "281/281 [==============================] - 1s 3ms/step - loss: 0.5806 - accuracy: 0.7900 - val_loss: 0.5601 - val_accuracy: 0.7865\n",
      "Epoch 18/30\n",
      "281/281 [==============================] - 1s 3ms/step - loss: 0.6125 - accuracy: 0.7979 - val_loss: 0.5544 - val_accuracy: 0.7829\n",
      "Epoch 19/30\n",
      "281/281 [==============================] - 1s 3ms/step - loss: 0.5934 - accuracy: 0.7903 - val_loss: 0.5286 - val_accuracy: 0.7820\n",
      "Epoch 20/30\n",
      "281/281 [==============================] - 1s 4ms/step - loss: 0.5821 - accuracy: 0.7968 - val_loss: 0.5491 - val_accuracy: 0.7865\n",
      "Epoch 21/30\n",
      "281/281 [==============================] - 1s 4ms/step - loss: 0.5823 - accuracy: 0.7929 - val_loss: 0.5753 - val_accuracy: 0.7918\n",
      "Epoch 22/30\n",
      "281/281 [==============================] - 1s 4ms/step - loss: 0.5741 - accuracy: 0.7958 - val_loss: 0.5456 - val_accuracy: 0.7909\n",
      "Epoch 23/30\n",
      "281/281 [==============================] - 1s 4ms/step - loss: 0.5631 - accuracy: 0.7890 - val_loss: 0.5681 - val_accuracy: 0.7847\n",
      "Epoch 24/30\n",
      "281/281 [==============================] - 1s 5ms/step - loss: 0.5639 - accuracy: 0.7920 - val_loss: 0.5427 - val_accuracy: 0.7794\n",
      "Epoch 25/30\n",
      "281/281 [==============================] - 1s 4ms/step - loss: 0.5516 - accuracy: 0.7953 - val_loss: 0.5227 - val_accuracy: 0.7874\n",
      "Epoch 26/30\n",
      "281/281 [==============================] - 1s 4ms/step - loss: 0.5924 - accuracy: 0.7939 - val_loss: 0.5563 - val_accuracy: 0.7705\n",
      "Epoch 27/30\n",
      "281/281 [==============================] - 1s 4ms/step - loss: 0.5874 - accuracy: 0.7949 - val_loss: 0.5565 - val_accuracy: 0.7874\n",
      "Epoch 28/30\n",
      "281/281 [==============================] - 1s 4ms/step - loss: 0.6022 - accuracy: 0.7959 - val_loss: 0.5361 - val_accuracy: 0.7847\n",
      "Epoch 29/30\n",
      "281/281 [==============================] - 1s 3ms/step - loss: 0.5698 - accuracy: 0.7937 - val_loss: 0.5957 - val_accuracy: 0.7909\n",
      "Epoch 30/30\n",
      "281/281 [==============================] - 1s 3ms/step - loss: 0.5878 - accuracy: 0.7938 - val_loss: 0.5309 - val_accuracy: 0.7856\n"
     ]
    }
   ],
   "source": [
    "# training basic model functional API\n",
    "history2 = model_basic_func.fit(train_dataset,\n",
    "                              epochs = 30,\n",
    "                              validation_data = (val_dataset),\n",
    "                              verbose = 1)"
   ]
  },
  {
   "cell_type": "code",
   "execution_count": 69,
   "metadata": {},
   "outputs": [
    {
     "data": {
      "image/png": "[encoded data removed]",
      "text/plain": [
       "<Figure size 720x360 with 1 Axes>"
      ]
     },
     "metadata": {
      "needs_background": "light"
     },
     "output_type": "display_data"
    }
   ],
   "source": [
    "# visualiasi hasil training basic model functional API\n",
    "fig, ax = plt.subplots(figsize=(10,5))\n",
    "ax.plot(range(history2.epoch[-1]+1),history2.history['loss'],label='train loss')\n",
    "ax.plot(range(history2.epoch[-1]+1),history2.history['val_loss'],label='val loss')\n",
    "ax.set_xlabel('Epoch')\n",
    "ax.set_ylabel('Loss')\n",
    "ax.set_ylim([0,1])\n",
    "plt.legend()\n",
    "plt.show()"
   ]
  },
  {
   "cell_type": "markdown",
   "metadata": {},
   "source": [
    "Hasil training basic model functional diatas menunjukan bahwa model ini tidak lebih bagus daripada basic model sequential. Nilai loss berada diatas dari model sebelumnya."
   ]
  },
  {
   "cell_type": "code",
   "execution_count": 70,
   "metadata": {},
   "outputs": [
    {
     "name": "stdout",
     "output_type": "stream",
     "text": [
      "Minimum Validation Loss : 0.5227253437042236\n"
     ]
    }
   ],
   "source": [
    "print('Minimum Validation Loss :', min(history2.history['val_loss']))"
   ]
  },
  {
   "cell_type": "code",
   "execution_count": 71,
   "metadata": {},
   "outputs": [
    {
     "name": "stdout",
     "output_type": "stream",
     "text": [
      "36/36 [==============================] - 0s 2ms/step\n",
      "              precision    recall  f1-score   support\n",
      "\n",
      "           0       0.82      0.90      0.86       823\n",
      "           1       0.63      0.48      0.54       301\n",
      "\n",
      "    accuracy                           0.79      1124\n",
      "   macro avg       0.73      0.69      0.70      1124\n",
      "weighted avg       0.77      0.79      0.78      1124\n",
      "\n"
     ]
    }
   ],
   "source": [
    "# classification report\n",
    "y_pred_val_func = model_basic_func.predict(X_val_final)\n",
    "y_pred_val_func = np.where(y_pred_val_func > 0.5, 1, 0)\n",
    "print(classification_report(y_val, y_pred_val_func))"
   ]
  },
  {
   "cell_type": "markdown",
   "metadata": {},
   "source": [
    "Hasil recall scorenya berada dikisaran 0,48."
   ]
  },
  {
   "cell_type": "markdown",
   "metadata": {},
   "source": [
    "## Improve Model"
   ]
  },
  {
   "cell_type": "markdown",
   "metadata": {},
   "source": [
    "### 3. Improve Model Sequential API - Weight Initializers He"
   ]
  },
  {
   "cell_type": "markdown",
   "metadata": {},
   "source": [
    "Pada bagian improve model ini, saya akan mulai menggunakan weight initializers, fungsi aktivasi, regularisasi, dan optimizer. Penggunaaan beberapa tambahan tersebut diharapkan membuat model lebih kompleks dan dapat memprediksi label lebih baik daripada basic model."
   ]
  },
  {
   "cell_type": "code",
   "execution_count": 72,
   "metadata": {},
   "outputs": [],
   "source": [
    "# model sequential\n",
    "model_improve_seq = keras.models.Sequential()\n",
    "\n",
    "# input layers\n",
    "model_improve_seq.add(keras.layers.Dense(64, input_shape=(32,), kernel_initializer = keras.initializers.he_normal(), activation = 'relu', name = 'input'))\n",
    "\n",
    "# hidden layers 1\n",
    "model_improve_seq.add(keras.layers.Dense(32, kernel_regularizer = keras.regularizers.l2(), name = 'hidden_1'))\n",
    "model_improve_seq.add(keras.layers.Activation('relu'))\n",
    "\n",
    "# hidden layers 2\n",
    "model_improve_seq.add(keras.layers.Dense(16, kernel_regularizer = keras.regularizers.l2(), name = 'hidden_2'))\n",
    "model_improve_seq.add(keras.layers.Activation('relu'))\n",
    "\n",
    "# hidden layers 3\n",
    "model_improve_seq.add(keras.layers.Dense(8, kernel_regularizer = keras.regularizers.l2(), name = 'hidden_3'))\n",
    "model_improve_seq.add(keras.layers.Activation('relu'))\n",
    "\n",
    "# output layers\n",
    "model_improve_seq.add(keras.layers.Dense(1, activation='sigmoid'))"
   ]
  },
  {
   "cell_type": "code",
   "execution_count": 73,
   "metadata": {},
   "outputs": [],
   "source": [
    "# compile model\n",
    "model_improve_seq.compile(loss='binary_crossentropy',\n",
    "                          optimizer = keras.optimizers.Adam(lr = 0.01),\n",
    "                          metrics = ['accuracy'])"
   ]
  },
  {
   "cell_type": "code",
   "execution_count": 74,
   "metadata": {},
   "outputs": [
    {
     "name": "stdout",
     "output_type": "stream",
     "text": [
      "Model: \"sequential_1\"\n",
      "_________________________________________________________________\n",
      " Layer (type)                Output Shape              Param #   \n",
      "=================================================================\n",
      " input (Dense)               (None, 64)                2112      \n",
      "                                                                 \n",
      " hidden_1 (Dense)            (None, 32)                2080      \n",
      "                                                                 \n",
      " activation (Activation)     (None, 32)                0         \n",
      "                                                                 \n",
      " hidden_2 (Dense)            (None, 16)                528       \n",
      "                                                                 \n",
      " activation_1 (Activation)   (None, 16)                0         \n",
      "                                                                 \n",
      " hidden_3 (Dense)            (None, 8)                 136       \n",
      "                                                                 \n",
      " activation_2 (Activation)   (None, 8)                 0         \n",
      "                                                                 \n",
      " dense (Dense)               (None, 1)                 9         \n",
      "                                                                 \n",
      "=================================================================\n",
      "Total params: 4,865\n",
      "Trainable params: 4,865\n",
      "Non-trainable params: 0\n",
      "_________________________________________________________________\n"
     ]
    }
   ],
   "source": [
    "# model summary\n",
    "model_improve_seq.summary()"
   ]
  },
  {
   "cell_type": "code",
   "execution_count": 75,
   "metadata": {},
   "outputs": [
    {
     "data": {
      "image/png": "[encoded data removed]",
      "text/plain": [
       "<IPython.core.display.Image object>"
      ]
     },
     "execution_count": 75,
     "metadata": {},
     "output_type": "execute_result"
    }
   ],
   "source": [
    "# visualiasi arsitektur improve model sequential\n",
    "keras.utils.plot_model(model_improve_seq, 'model_improve_seq.png', show_shapes=True)"
   ]
  },
  {
   "cell_type": "code",
   "execution_count": 76,
   "metadata": {},
   "outputs": [],
   "source": [
    "# early stopping\n",
    "early_stop = keras.callbacks.EarlyStopping(monitor='val_loss', patience=20, restore_best_weights = True)"
   ]
  },
  {
   "cell_type": "markdown",
   "metadata": {},
   "source": [
    "Callbacks early stopping digunakan untuk mempercepat proses training model karena model akan berhenti setelah tidak menemukan perubahan yang signifikan, sehingga proses training model dapat lebih cepat dengan hasil model tidak akan terlalu kompleks."
   ]
  },
  {
   "cell_type": "code",
   "execution_count": 77,
   "metadata": {},
   "outputs": [
    {
     "name": "stdout",
     "output_type": "stream",
     "text": [
      "Epoch 1/200\n",
      "281/281 [==============================] - 3s 4ms/step - loss: 0.5086 - accuracy: 0.7805 - val_loss: 0.4635 - val_accuracy: 0.7776\n",
      "Epoch 2/200\n",
      "281/281 [==============================] - 1s 3ms/step - loss: 0.4506 - accuracy: 0.7931 - val_loss: 0.4519 - val_accuracy: 0.7909\n",
      "Epoch 3/200\n",
      "281/281 [==============================] - 1s 3ms/step - loss: 0.4434 - accuracy: 0.7959 - val_loss: 0.4493 - val_accuracy: 0.7927\n",
      "Epoch 4/200\n",
      "281/281 [==============================] - 1s 3ms/step - loss: 0.4350 - accuracy: 0.8035 - val_loss: 0.4495 - val_accuracy: 0.7874\n",
      "Epoch 5/200\n",
      "281/281 [==============================] - 1s 3ms/step - loss: 0.4348 - accuracy: 0.8021 - val_loss: 0.4500 - val_accuracy: 0.7891\n",
      "Epoch 6/200\n",
      "281/281 [==============================] - 1s 4ms/step - loss: 0.4294 - accuracy: 0.8053 - val_loss: 0.4466 - val_accuracy: 0.7927\n",
      "Epoch 7/200\n",
      "281/281 [==============================] - 1s 3ms/step - loss: 0.4293 - accuracy: 0.8043 - val_loss: 0.4521 - val_accuracy: 0.7891\n",
      "Epoch 8/200\n",
      "281/281 [==============================] - 1s 3ms/step - loss: 0.4307 - accuracy: 0.8029 - val_loss: 0.4472 - val_accuracy: 0.7936\n",
      "Epoch 9/200\n",
      "281/281 [==============================] - 1s 3ms/step - loss: 0.4234 - accuracy: 0.8081 - val_loss: 0.4493 - val_accuracy: 0.7865\n",
      "Epoch 10/200\n",
      "281/281 [==============================] - 1s 3ms/step - loss: 0.4252 - accuracy: 0.8077 - val_loss: 0.4658 - val_accuracy: 0.7633\n",
      "Epoch 11/200\n",
      "281/281 [==============================] - 1s 3ms/step - loss: 0.4215 - accuracy: 0.8125 - val_loss: 0.4497 - val_accuracy: 0.7972\n",
      "Epoch 12/200\n",
      "281/281 [==============================] - 1s 3ms/step - loss: 0.4199 - accuracy: 0.8128 - val_loss: 0.4499 - val_accuracy: 0.7963\n",
      "Epoch 13/200\n",
      "281/281 [==============================] - 1s 3ms/step - loss: 0.4175 - accuracy: 0.8091 - val_loss: 0.4580 - val_accuracy: 0.7740\n",
      "Epoch 14/200\n",
      "281/281 [==============================] - 1s 4ms/step - loss: 0.4182 - accuracy: 0.8113 - val_loss: 0.4507 - val_accuracy: 0.7936\n",
      "Epoch 15/200\n",
      "281/281 [==============================] - 1s 3ms/step - loss: 0.4183 - accuracy: 0.8112 - val_loss: 0.4489 - val_accuracy: 0.7927\n",
      "Epoch 16/200\n",
      "281/281 [==============================] - 1s 3ms/step - loss: 0.4132 - accuracy: 0.8152 - val_loss: 0.4521 - val_accuracy: 0.7909\n",
      "Epoch 17/200\n",
      "281/281 [==============================] - 1s 3ms/step - loss: 0.4112 - accuracy: 0.8125 - val_loss: 0.4518 - val_accuracy: 0.7918\n",
      "Epoch 18/200\n",
      "281/281 [==============================] - 1s 3ms/step - loss: 0.4104 - accuracy: 0.8153 - val_loss: 0.4513 - val_accuracy: 0.7811\n",
      "Epoch 19/200\n",
      "281/281 [==============================] - 1s 3ms/step - loss: 0.4077 - accuracy: 0.8175 - val_loss: 0.4637 - val_accuracy: 0.7874\n",
      "Epoch 20/200\n",
      "281/281 [==============================] - 1s 3ms/step - loss: 0.4064 - accuracy: 0.8157 - val_loss: 0.4636 - val_accuracy: 0.7874\n",
      "Epoch 21/200\n",
      "281/281 [==============================] - 1s 4ms/step - loss: 0.4060 - accuracy: 0.8185 - val_loss: 0.4612 - val_accuracy: 0.7954\n",
      "Epoch 22/200\n",
      "281/281 [==============================] - 1s 3ms/step - loss: 0.4051 - accuracy: 0.8177 - val_loss: 0.4564 - val_accuracy: 0.7927\n",
      "Epoch 23/200\n",
      "281/281 [==============================] - 1s 3ms/step - loss: 0.4034 - accuracy: 0.8189 - val_loss: 0.4567 - val_accuracy: 0.7891\n",
      "Epoch 24/200\n",
      "281/281 [==============================] - 1s 3ms/step - loss: 0.4004 - accuracy: 0.8178 - val_loss: 0.4599 - val_accuracy: 0.7847\n",
      "Epoch 25/200\n",
      "281/281 [==============================] - 1s 4ms/step - loss: 0.4034 - accuracy: 0.8219 - val_loss: 0.4704 - val_accuracy: 0.7927\n",
      "Epoch 26/200\n",
      "281/281 [==============================] - 1s 3ms/step - loss: 0.4034 - accuracy: 0.8166 - val_loss: 0.4662 - val_accuracy: 0.7820\n"
     ]
    }
   ],
   "source": [
    "# training improve model sequential\n",
    "history3 = model_improve_seq.fit(train_dataset,\n",
    "                              epochs = 200,\n",
    "                              validation_data = (val_dataset),\n",
    "                              verbose = 1,\n",
    "                              callbacks = [early_stop])"
   ]
  },
  {
   "cell_type": "code",
   "execution_count": 78,
   "metadata": {},
   "outputs": [
    {
     "data": {
      "image/png": "[encoded data removed]",
      "text/plain": [
       "<Figure size 720x360 with 1 Axes>"
      ]
     },
     "metadata": {
      "needs_background": "light"
     },
     "output_type": "display_data"
    }
   ],
   "source": [
    "# visualisasi hasil training improve model sequential\n",
    "fig, ax = plt.subplots(figsize=(10,5))\n",
    "ax.plot(range(history3.epoch[-1]+1),history3.history['loss'],label='train loss')\n",
    "ax.plot(range(history3.epoch[-1]+1),history3.history['val_loss'],label='val loss')\n",
    "ax.set_xlabel('Epoch')\n",
    "ax.set_ylabel('Loss')\n",
    "ax.set_ylim([0,1])\n",
    "plt.legend()\n",
    "plt.show()"
   ]
  },
  {
   "cell_type": "markdown",
   "metadata": {},
   "source": [
    "Hasil diatas menunjukan bahwa model cukup stabil dalam memprediksi label."
   ]
  },
  {
   "cell_type": "code",
   "execution_count": 79,
   "metadata": {},
   "outputs": [
    {
     "name": "stdout",
     "output_type": "stream",
     "text": [
      "Minimum Validation Loss : 0.4465826749801636\n"
     ]
    }
   ],
   "source": [
    "print('Minimum Validation Loss :', min(history3.history['val_loss']))"
   ]
  },
  {
   "cell_type": "code",
   "execution_count": 80,
   "metadata": {},
   "outputs": [
    {
     "name": "stdout",
     "output_type": "stream",
     "text": [
      "36/36 [==============================] - 0s 2ms/step\n",
      "              precision    recall  f1-score   support\n",
      "\n",
      "           0       0.82      0.93      0.87       823\n",
      "           1       0.68      0.43      0.53       301\n",
      "\n",
      "    accuracy                           0.79      1124\n",
      "   macro avg       0.75      0.68      0.70      1124\n",
      "weighted avg       0.78      0.79      0.78      1124\n",
      "\n"
     ]
    }
   ],
   "source": [
    "# classification report\n",
    "y_pred_val_seq2 = model_improve_seq.predict(X_val_final)\n",
    "y_pred_val_seq2 = np.where(y_pred_val_seq2 > 0.5, 1, 0)\n",
    "print(classification_report(y_val, y_pred_val_seq2))"
   ]
  },
  {
   "cell_type": "markdown",
   "metadata": {},
   "source": [
    "Recall score menunjukan dikisaran 0,43."
   ]
  },
  {
   "cell_type": "markdown",
   "metadata": {},
   "source": [
    "### 4. Improve Model Sequential API - Weight Initializers Glorot"
   ]
  },
  {
   "cell_type": "markdown",
   "metadata": {},
   "source": [
    "Pada improve model sequential ini, saya akan menggunakan weight initializers yang berbeda dari sebelumnya yaitu menggunakan Glorot."
   ]
  },
  {
   "cell_type": "code",
   "execution_count": 81,
   "metadata": {},
   "outputs": [],
   "source": [
    "# model sequential\n",
    "model_improve_seq2 = keras.models.Sequential()\n",
    "\n",
    "# input layers\n",
    "model_improve_seq2.add(keras.layers.Dense(64, input_shape=(32,), kernel_initializer = keras.initializers.GlorotNormal(), activation = 'tanh', name = 'input'))\n",
    "\n",
    "# hidden layers 1\n",
    "model_improve_seq2.add(keras.layers.Dense(32, kernel_regularizer = keras.regularizers.l2(), name = 'hidden_1'))\n",
    "model_improve_seq2.add(keras.layers.Activation('relu'))\n",
    "\n",
    "# hidden layers 2\n",
    "model_improve_seq2.add(keras.layers.Dense(16, kernel_regularizer = keras.regularizers.l2(), name = 'hidden_2'))\n",
    "model_improve_seq2.add(keras.layers.Activation('relu'))\n",
    "\n",
    "# hidden layers 3\n",
    "model_improve_seq2.add(keras.layers.Dense(8, kernel_regularizer = keras.regularizers.l2(), name = 'hidden_3'))\n",
    "model_improve_seq2.add(keras.layers.Activation('relu'))\n",
    "\n",
    "# output layers\n",
    "model_improve_seq2.add(keras.layers.Dense(1, activation='sigmoid'))"
   ]
  },
  {
   "cell_type": "code",
   "execution_count": 82,
   "metadata": {},
   "outputs": [],
   "source": [
    "# compile model\n",
    "model_improve_seq2.compile(loss='binary_crossentropy',\n",
    "                          optimizer = keras.optimizers.Adam(lr = 0.01),\n",
    "                          metrics = ['accuracy'])"
   ]
  },
  {
   "cell_type": "code",
   "execution_count": 83,
   "metadata": {},
   "outputs": [
    {
     "name": "stdout",
     "output_type": "stream",
     "text": [
      "Model: \"sequential_2\"\n",
      "_________________________________________________________________\n",
      " Layer (type)                Output Shape              Param #   \n",
      "=================================================================\n",
      " input (Dense)               (None, 64)                2112      \n",
      "                                                                 \n",
      " hidden_1 (Dense)            (None, 32)                2080      \n",
      "                                                                 \n",
      " activation_3 (Activation)   (None, 32)                0         \n",
      "                                                                 \n",
      " hidden_2 (Dense)            (None, 16)                528       \n",
      "                                                                 \n",
      " activation_4 (Activation)   (None, 16)                0         \n",
      "                                                                 \n",
      " hidden_3 (Dense)            (None, 8)                 136       \n",
      "                                                                 \n",
      " activation_5 (Activation)   (None, 8)                 0         \n",
      "                                                                 \n",
      " dense_1 (Dense)             (None, 1)                 9         \n",
      "                                                                 \n",
      "=================================================================\n",
      "Total params: 4,865\n",
      "Trainable params: 4,865\n",
      "Non-trainable params: 0\n",
      "_________________________________________________________________\n"
     ]
    }
   ],
   "source": [
    "# model summary\n",
    "model_improve_seq2.summary()"
   ]
  },
  {
   "cell_type": "code",
   "execution_count": 84,
   "metadata": {},
   "outputs": [
    {
     "data": {
      "image/png": "[encoded data removed]",
      "text/plain": [
       "<IPython.core.display.Image object>"
      ]
     },
     "execution_count": 84,
     "metadata": {},
     "output_type": "execute_result"
    }
   ],
   "source": [
    "# visualiasi arsitektur improve model sequential 2\n",
    "keras.utils.plot_model(model_improve_seq2, 'model_improve_seq2.png', show_shapes=True)"
   ]
  },
  {
   "cell_type": "code",
   "execution_count": 85,
   "metadata": {},
   "outputs": [
    {
     "name": "stdout",
     "output_type": "stream",
     "text": [
      "Epoch 1/200\n",
      "281/281 [==============================] - 3s 4ms/step - loss: 0.5080 - accuracy: 0.7814 - val_loss: 0.4692 - val_accuracy: 0.7820\n",
      "Epoch 2/200\n",
      "281/281 [==============================] - 1s 3ms/step - loss: 0.4538 - accuracy: 0.7916 - val_loss: 0.4650 - val_accuracy: 0.7829\n",
      "Epoch 3/200\n",
      "281/281 [==============================] - 1s 3ms/step - loss: 0.4518 - accuracy: 0.7927 - val_loss: 0.4543 - val_accuracy: 0.7847\n",
      "Epoch 4/200\n",
      "281/281 [==============================] - 1s 3ms/step - loss: 0.4473 - accuracy: 0.7957 - val_loss: 0.4547 - val_accuracy: 0.7847\n",
      "Epoch 5/200\n",
      "281/281 [==============================] - 1s 4ms/step - loss: 0.4412 - accuracy: 0.7970 - val_loss: 0.4547 - val_accuracy: 0.7954\n",
      "Epoch 6/200\n",
      "281/281 [==============================] - 1s 3ms/step - loss: 0.4416 - accuracy: 0.7979 - val_loss: 0.4496 - val_accuracy: 0.7954\n",
      "Epoch 7/200\n",
      "281/281 [==============================] - 1s 3ms/step - loss: 0.4379 - accuracy: 0.8005 - val_loss: 0.4507 - val_accuracy: 0.7891\n",
      "Epoch 8/200\n",
      "281/281 [==============================] - 1s 4ms/step - loss: 0.4388 - accuracy: 0.7984 - val_loss: 0.4546 - val_accuracy: 0.7874\n",
      "Epoch 9/200\n",
      "281/281 [==============================] - 1s 3ms/step - loss: 0.4300 - accuracy: 0.8038 - val_loss: 0.4527 - val_accuracy: 0.7829\n",
      "Epoch 10/200\n",
      "281/281 [==============================] - 1s 3ms/step - loss: 0.4282 - accuracy: 0.8044 - val_loss: 0.4628 - val_accuracy: 0.7820\n",
      "Epoch 11/200\n",
      "281/281 [==============================] - 1s 3ms/step - loss: 0.4250 - accuracy: 0.8084 - val_loss: 0.4694 - val_accuracy: 0.7909\n",
      "Epoch 12/200\n",
      "281/281 [==============================] - 1s 4ms/step - loss: 0.4244 - accuracy: 0.8061 - val_loss: 0.4483 - val_accuracy: 0.7963\n",
      "Epoch 13/200\n",
      "281/281 [==============================] - 1s 4ms/step - loss: 0.4179 - accuracy: 0.8136 - val_loss: 0.4569 - val_accuracy: 0.7874\n",
      "Epoch 14/200\n",
      "281/281 [==============================] - 1s 3ms/step - loss: 0.4169 - accuracy: 0.8128 - val_loss: 0.4527 - val_accuracy: 0.7963\n",
      "Epoch 15/200\n",
      "281/281 [==============================] - 1s 3ms/step - loss: 0.4122 - accuracy: 0.8165 - val_loss: 0.4445 - val_accuracy: 0.7963\n",
      "Epoch 16/200\n",
      "281/281 [==============================] - 1s 3ms/step - loss: 0.4069 - accuracy: 0.8211 - val_loss: 0.4635 - val_accuracy: 0.8034\n",
      "Epoch 17/200\n",
      "281/281 [==============================] - 1s 3ms/step - loss: 0.4063 - accuracy: 0.8225 - val_loss: 0.4678 - val_accuracy: 0.7785\n",
      "Epoch 18/200\n",
      "281/281 [==============================] - 1s 3ms/step - loss: 0.3984 - accuracy: 0.8286 - val_loss: 0.4754 - val_accuracy: 0.7936\n",
      "Epoch 19/200\n",
      "281/281 [==============================] - 1s 3ms/step - loss: 0.4014 - accuracy: 0.8239 - val_loss: 0.4986 - val_accuracy: 0.7936\n",
      "Epoch 20/200\n",
      "281/281 [==============================] - 1s 4ms/step - loss: 0.3939 - accuracy: 0.8294 - val_loss: 0.4726 - val_accuracy: 0.7785\n",
      "Epoch 21/200\n",
      "281/281 [==============================] - 1s 3ms/step - loss: 0.3884 - accuracy: 0.8357 - val_loss: 0.4900 - val_accuracy: 0.7571\n",
      "Epoch 22/200\n",
      "281/281 [==============================] - 1s 3ms/step - loss: 0.3829 - accuracy: 0.8362 - val_loss: 0.4928 - val_accuracy: 0.7918\n",
      "Epoch 23/200\n",
      "281/281 [==============================] - 1s 3ms/step - loss: 0.3761 - accuracy: 0.8414 - val_loss: 0.4903 - val_accuracy: 0.7820\n",
      "Epoch 24/200\n",
      "281/281 [==============================] - 1s 3ms/step - loss: 0.3720 - accuracy: 0.8445 - val_loss: 0.5092 - val_accuracy: 0.7633\n",
      "Epoch 25/200\n",
      "281/281 [==============================] - 1s 3ms/step - loss: 0.3663 - accuracy: 0.8483 - val_loss: 0.5187 - val_accuracy: 0.7829\n",
      "Epoch 26/200\n",
      "281/281 [==============================] - 1s 3ms/step - loss: 0.3603 - accuracy: 0.8524 - val_loss: 0.5233 - val_accuracy: 0.7731\n",
      "Epoch 27/200\n",
      "281/281 [==============================] - 1s 4ms/step - loss: 0.3556 - accuracy: 0.8503 - val_loss: 0.5335 - val_accuracy: 0.7758\n",
      "Epoch 28/200\n",
      "281/281 [==============================] - 1s 3ms/step - loss: 0.3500 - accuracy: 0.8528 - val_loss: 0.5407 - val_accuracy: 0.7651\n",
      "Epoch 29/200\n",
      "281/281 [==============================] - 1s 3ms/step - loss: 0.3383 - accuracy: 0.8592 - val_loss: 0.5547 - val_accuracy: 0.7749\n",
      "Epoch 30/200\n",
      "281/281 [==============================] - 1s 3ms/step - loss: 0.3437 - accuracy: 0.8629 - val_loss: 0.5492 - val_accuracy: 0.7660\n",
      "Epoch 31/200\n",
      "281/281 [==============================] - 1s 3ms/step - loss: 0.3306 - accuracy: 0.8698 - val_loss: 0.5602 - val_accuracy: 0.7642\n",
      "Epoch 32/200\n",
      "281/281 [==============================] - 1s 3ms/step - loss: 0.3278 - accuracy: 0.8696 - val_loss: 0.5892 - val_accuracy: 0.7527\n",
      "Epoch 33/200\n",
      "281/281 [==============================] - 1s 3ms/step - loss: 0.3219 - accuracy: 0.8765 - val_loss: 0.5792 - val_accuracy: 0.7731\n",
      "Epoch 34/200\n",
      "281/281 [==============================] - 1s 4ms/step - loss: 0.3184 - accuracy: 0.8753 - val_loss: 0.6156 - val_accuracy: 0.7714\n",
      "Epoch 35/200\n",
      "281/281 [==============================] - 1s 4ms/step - loss: 0.3164 - accuracy: 0.8780 - val_loss: 0.5950 - val_accuracy: 0.7607\n"
     ]
    }
   ],
   "source": [
    "# training improve model sequential 2\n",
    "history4 = model_improve_seq2.fit(train_dataset,\n",
    "                              epochs = 200,\n",
    "                              validation_data = (val_dataset),\n",
    "                              verbose = 1,\n",
    "                              callbacks = [early_stop])"
   ]
  },
  {
   "cell_type": "code",
   "execution_count": 86,
   "metadata": {},
   "outputs": [
    {
     "data": {
      "image/png": "[encoded data removed]",
      "text/plain": [
       "<Figure size 720x360 with 1 Axes>"
      ]
     },
     "metadata": {
      "needs_background": "light"
     },
     "output_type": "display_data"
    }
   ],
   "source": [
    "# visualisasi hasil training improve model sequential 2\n",
    "fig, ax = plt.subplots(figsize=(10,5))\n",
    "ax.plot(range(history4.epoch[-1]+1),history4.history['loss'],label='train loss')\n",
    "ax.plot(range(history4.epoch[-1]+1),history4.history['val_loss'],label='val loss')\n",
    "ax.set_xlabel('Epoch')\n",
    "ax.set_ylabel('Loss')\n",
    "ax.set_ylim([0,1])\n",
    "plt.legend()\n",
    "plt.show()"
   ]
  },
  {
   "cell_type": "markdown",
   "metadata": {},
   "source": [
    "Hasil training improve model sequential 2 diatas menunjukan hasil yang semakin banyak epochnya maka semakin memburuk performa modelnya."
   ]
  },
  {
   "cell_type": "code",
   "execution_count": 87,
   "metadata": {},
   "outputs": [
    {
     "name": "stdout",
     "output_type": "stream",
     "text": [
      "Minimum Validation Loss : 0.4445049464702606\n"
     ]
    }
   ],
   "source": [
    "print('Minimum Validation Loss :', min(history4.history['val_loss']))"
   ]
  },
  {
   "cell_type": "code",
   "execution_count": 88,
   "metadata": {},
   "outputs": [
    {
     "name": "stdout",
     "output_type": "stream",
     "text": [
      "36/36 [==============================] - 0s 2ms/step\n",
      "              precision    recall  f1-score   support\n",
      "\n",
      "           0       0.84      0.89      0.87       823\n",
      "           1       0.65      0.53      0.58       301\n",
      "\n",
      "    accuracy                           0.80      1124\n",
      "   macro avg       0.74      0.71      0.72      1124\n",
      "weighted avg       0.79      0.80      0.79      1124\n",
      "\n"
     ]
    }
   ],
   "source": [
    "y_pred_val_seq3 = model_improve_seq2.predict(X_val_final)\n",
    "y_pred_val_seq3 = np.where(y_pred_val_seq3 > 0.5, 1, 0)\n",
    "print(classification_report(y_val, y_pred_val_seq3))"
   ]
  },
  {
   "cell_type": "markdown",
   "metadata": {},
   "source": [
    "Recall score berada dikisaran 0,53."
   ]
  },
  {
   "cell_type": "markdown",
   "metadata": {},
   "source": [
    "### 5. Improve Model Functional API - Optimizers Adam"
   ]
  },
  {
   "cell_type": "markdown",
   "metadata": {},
   "source": [
    "Pada improve model functional ini, saya akan menggunakan optimizers Adam pada compile model. Penggunaan fungsi aktivasi pun saya tambahkan pada beberapa layers guna memberikan tingkat kompleksitas model yang lebih tinggi."
   ]
  },
  {
   "cell_type": "code",
   "execution_count": 89,
   "metadata": {},
   "outputs": [],
   "source": [
    "# input layers\n",
    "input = keras.layers.Input(shape=[32], name='input')\n",
    "\n",
    "# hidden layers 1\n",
    "hidden_1 = keras.layers.Dense(64, activation = 'relu', name = 'hidden_1')(input)\n",
    "\n",
    "# hidden layers 2\n",
    "hidden_2 = keras.layers.Dense(32, activation = 'relu', name = 'hidden_2')(hidden_1)\n",
    "\n",
    "# concatenate\n",
    "concat = keras.layers.concatenate([input, hidden_2], name = 'concat')\n",
    "\n",
    "# output layers\n",
    "output = keras.layers.Dense(1, activation = 'sigmoid', name='output')(concat)\n",
    "\n",
    "# model functional API\n",
    "model_improve_func = keras.models.Model(inputs=[input], outputs=[output])"
   ]
  },
  {
   "cell_type": "code",
   "execution_count": 90,
   "metadata": {},
   "outputs": [],
   "source": [
    "# compile model\n",
    "model_improve_func.compile(loss='binary_crossentropy',\n",
    "                           optimizer = keras.optimizers.Adam(lr = 0.001),\n",
    "                           metrics = 'accuracy')"
   ]
  },
  {
   "cell_type": "code",
   "execution_count": 91,
   "metadata": {},
   "outputs": [
    {
     "name": "stdout",
     "output_type": "stream",
     "text": [
      "Model: \"model_1\"\n",
      "__________________________________________________________________________________________________\n",
      " Layer (type)                   Output Shape         Param #     Connected to                     \n",
      "==================================================================================================\n",
      " input (InputLayer)             [(None, 32)]         0           []                               \n",
      "                                                                                                  \n",
      " hidden_1 (Dense)               (None, 64)           2112        ['input[0][0]']                  \n",
      "                                                                                                  \n",
      " hidden_2 (Dense)               (None, 32)           2080        ['hidden_1[0][0]']               \n",
      "                                                                                                  \n",
      " concat (Concatenate)           (None, 64)           0           ['input[0][0]',                  \n",
      "                                                                  'hidden_2[0][0]']               \n",
      "                                                                                                  \n",
      " output (Dense)                 (None, 1)            65          ['concat[0][0]']                 \n",
      "                                                                                                  \n",
      "==================================================================================================\n",
      "Total params: 4,257\n",
      "Trainable params: 4,257\n",
      "Non-trainable params: 0\n",
      "__________________________________________________________________________________________________\n"
     ]
    }
   ],
   "source": [
    "# model summary\n",
    "model_improve_func.summary()"
   ]
  },
  {
   "cell_type": "code",
   "execution_count": 92,
   "metadata": {},
   "outputs": [
    {
     "data": {
      "image/png": "[encoded data removed]",
      "text/plain": [
       "<IPython.core.display.Image object>"
      ]
     },
     "execution_count": 92,
     "metadata": {},
     "output_type": "execute_result"
    }
   ],
   "source": [
    "# visualisasi arstitektur improve model functional API\n",
    "keras.utils.plot_model(model_improve_func, 'model_improve_func.png', show_shapes=True)"
   ]
  },
  {
   "cell_type": "code",
   "execution_count": 93,
   "metadata": {},
   "outputs": [],
   "source": [
    "# early stopping\n",
    "early_stop2 = keras.callbacks.EarlyStopping(monitor='val_loss', patience=15, restore_best_weights = True)"
   ]
  },
  {
   "cell_type": "code",
   "execution_count": 94,
   "metadata": {},
   "outputs": [
    {
     "name": "stdout",
     "output_type": "stream",
     "text": [
      "Epoch 1/200\n",
      "281/281 [==============================] - 3s 5ms/step - loss: 0.4527 - accuracy: 0.7785 - val_loss: 0.4361 - val_accuracy: 0.7927\n",
      "Epoch 2/200\n",
      "281/281 [==============================] - 1s 3ms/step - loss: 0.4199 - accuracy: 0.8050 - val_loss: 0.4422 - val_accuracy: 0.7785\n",
      "Epoch 3/200\n",
      "281/281 [==============================] - 1s 3ms/step - loss: 0.4146 - accuracy: 0.8030 - val_loss: 0.4346 - val_accuracy: 0.7989\n",
      "Epoch 4/200\n",
      "281/281 [==============================] - 1s 3ms/step - loss: 0.4084 - accuracy: 0.8087 - val_loss: 0.4373 - val_accuracy: 0.7963\n",
      "Epoch 5/200\n",
      "281/281 [==============================] - 1s 3ms/step - loss: 0.4058 - accuracy: 0.8116 - val_loss: 0.4404 - val_accuracy: 0.7918\n",
      "Epoch 6/200\n",
      "281/281 [==============================] - 1s 3ms/step - loss: 0.3999 - accuracy: 0.8125 - val_loss: 0.4395 - val_accuracy: 0.7945\n",
      "Epoch 7/200\n",
      "281/281 [==============================] - 1s 3ms/step - loss: 0.3956 - accuracy: 0.8164 - val_loss: 0.4428 - val_accuracy: 0.7998\n",
      "Epoch 8/200\n",
      "281/281 [==============================] - 1s 3ms/step - loss: 0.3902 - accuracy: 0.8168 - val_loss: 0.4453 - val_accuracy: 0.7954\n",
      "Epoch 9/200\n",
      "281/281 [==============================] - 1s 4ms/step - loss: 0.3857 - accuracy: 0.8165 - val_loss: 0.4551 - val_accuracy: 0.7972\n",
      "Epoch 10/200\n",
      "281/281 [==============================] - 1s 3ms/step - loss: 0.3800 - accuracy: 0.8226 - val_loss: 0.4521 - val_accuracy: 0.7918\n",
      "Epoch 11/200\n",
      "281/281 [==============================] - 1s 3ms/step - loss: 0.3751 - accuracy: 0.8237 - val_loss: 0.4631 - val_accuracy: 0.7802\n",
      "Epoch 12/200\n",
      "281/281 [==============================] - 1s 3ms/step - loss: 0.3706 - accuracy: 0.8243 - val_loss: 0.4694 - val_accuracy: 0.7900\n",
      "Epoch 13/200\n",
      "281/281 [==============================] - 1s 3ms/step - loss: 0.3658 - accuracy: 0.8276 - val_loss: 0.4622 - val_accuracy: 0.7936\n",
      "Epoch 14/200\n",
      "281/281 [==============================] - 1s 3ms/step - loss: 0.3595 - accuracy: 0.8327 - val_loss: 0.4677 - val_accuracy: 0.7883\n",
      "Epoch 15/200\n",
      "281/281 [==============================] - 1s 3ms/step - loss: 0.3532 - accuracy: 0.8342 - val_loss: 0.4777 - val_accuracy: 0.7785\n",
      "Epoch 16/200\n",
      "281/281 [==============================] - 1s 3ms/step - loss: 0.3504 - accuracy: 0.8340 - val_loss: 0.4825 - val_accuracy: 0.7820\n",
      "Epoch 17/200\n",
      "281/281 [==============================] - 1s 4ms/step - loss: 0.3433 - accuracy: 0.8410 - val_loss: 0.4792 - val_accuracy: 0.7883\n",
      "Epoch 18/200\n",
      "281/281 [==============================] - 1s 3ms/step - loss: 0.3385 - accuracy: 0.8416 - val_loss: 0.4984 - val_accuracy: 0.7874\n"
     ]
    }
   ],
   "source": [
    "# training improve model functional API\n",
    "history5 = model_improve_func.fit(train_dataset,\n",
    "                              epochs = 200,\n",
    "                              validation_data = (val_dataset),\n",
    "                              callbacks = [early_stop2],\n",
    "                              verbose = 1)"
   ]
  },
  {
   "cell_type": "code",
   "execution_count": 95,
   "metadata": {},
   "outputs": [
    {
     "data": {
      "image/png": "[encoded data removed]",
      "text/plain": [
       "<Figure size 720x360 with 1 Axes>"
      ]
     },
     "metadata": {
      "needs_background": "light"
     },
     "output_type": "display_data"
    }
   ],
   "source": [
    "# visualisasi hasil training improve model functional API\n",
    "fig, ax = plt.subplots(figsize=(10,5))\n",
    "ax.plot(range(history5.epoch[-1]+1),history5.history['loss'],label='train loss')\n",
    "ax.plot(range(history5.epoch[-1]+1),history5.history['val_loss'],label='val loss')\n",
    "ax.set_xlabel('Epoch')\n",
    "ax.set_ylabel('Loss')\n",
    "ax.set_ylim([0,1])\n",
    "plt.legend()\n",
    "plt.show()"
   ]
  },
  {
   "cell_type": "markdown",
   "metadata": {},
   "source": [
    "Hasil training improve model functional 1 diatas menunjukan hasil yang semakin banyak epochnya maka semakin memburuk performa modelnya."
   ]
  },
  {
   "cell_type": "code",
   "execution_count": 96,
   "metadata": {},
   "outputs": [
    {
     "name": "stdout",
     "output_type": "stream",
     "text": [
      "Minimum Validation Loss : 0.43464261293411255\n"
     ]
    }
   ],
   "source": [
    "print('Minimum Validation Loss :', min(history5.history['val_loss']))"
   ]
  },
  {
   "cell_type": "code",
   "execution_count": 97,
   "metadata": {},
   "outputs": [
    {
     "name": "stdout",
     "output_type": "stream",
     "text": [
      "36/36 [==============================] - 0s 2ms/step\n",
      "              precision    recall  f1-score   support\n",
      "\n",
      "           0       0.83      0.91      0.87       823\n",
      "           1       0.66      0.50      0.57       301\n",
      "\n",
      "    accuracy                           0.80      1124\n",
      "   macro avg       0.75      0.71      0.72      1124\n",
      "weighted avg       0.79      0.80      0.79      1124\n",
      "\n"
     ]
    }
   ],
   "source": [
    "y_pred_val_func2 = model_improve_func.predict(X_val_final)\n",
    "y_pred_val_func2 = np.where(y_pred_val_func2 > 0.5, 1, 0)\n",
    "print(classification_report(y_val, y_pred_val_func2))"
   ]
  },
  {
   "cell_type": "markdown",
   "metadata": {},
   "source": [
    "Recall score berada dikisaran 0,50."
   ]
  },
  {
   "cell_type": "markdown",
   "metadata": {},
   "source": [
    "### 6. Improve Model Functional API - Optimizers Adamax"
   ]
  },
  {
   "cell_type": "markdown",
   "metadata": {},
   "source": [
    "Pada model terakhir ini saya menggunakan optimizers yang berbeda dari sebelumnya yaitu Adamax."
   ]
  },
  {
   "cell_type": "code",
   "execution_count": 98,
   "metadata": {},
   "outputs": [],
   "source": [
    "# input layers\n",
    "input = keras.layers.Input(shape=[32], name='input')\n",
    "\n",
    "# hidden layers\n",
    "hidden_1 = keras.layers.Dense(64, activation = 'relu', name = 'hidden_1')(input)\n",
    "\n",
    "# hidden layers\n",
    "hidden_2 = keras.layers.Dense(32, activation = 'relu', name = 'hidden_2')(hidden_1)\n",
    "\n",
    "# concatenate\n",
    "concat = keras.layers.concatenate([input, hidden_2], name = 'concat')\n",
    "\n",
    "# output layers\n",
    "output = keras.layers.Dense(1, activation = 'sigmoid', name='output')(concat)\n",
    "\n",
    "# model functional API\n",
    "model_improve_func2 = keras.models.Model(inputs=[input], outputs=[output])"
   ]
  },
  {
   "cell_type": "code",
   "execution_count": 99,
   "metadata": {},
   "outputs": [],
   "source": [
    "# compile model\n",
    "model_improve_func2.compile(loss='binary_crossentropy',\n",
    "                           optimizer = keras.optimizers.Adamax(lr = 0.001),\n",
    "                           metrics = 'accuracy')"
   ]
  },
  {
   "cell_type": "code",
   "execution_count": 100,
   "metadata": {},
   "outputs": [
    {
     "name": "stdout",
     "output_type": "stream",
     "text": [
      "Model: \"model_2\"\n",
      "__________________________________________________________________________________________________\n",
      " Layer (type)                   Output Shape         Param #     Connected to                     \n",
      "==================================================================================================\n",
      " input (InputLayer)             [(None, 32)]         0           []                               \n",
      "                                                                                                  \n",
      " hidden_1 (Dense)               (None, 64)           2112        ['input[0][0]']                  \n",
      "                                                                                                  \n",
      " hidden_2 (Dense)               (None, 32)           2080        ['hidden_1[0][0]']               \n",
      "                                                                                                  \n",
      " concat (Concatenate)           (None, 64)           0           ['input[0][0]',                  \n",
      "                                                                  'hidden_2[0][0]']               \n",
      "                                                                                                  \n",
      " output (Dense)                 (None, 1)            65          ['concat[0][0]']                 \n",
      "                                                                                                  \n",
      "==================================================================================================\n",
      "Total params: 4,257\n",
      "Trainable params: 4,257\n",
      "Non-trainable params: 0\n",
      "__________________________________________________________________________________________________\n"
     ]
    }
   ],
   "source": [
    "# model summary\n",
    "model_improve_func2.summary()"
   ]
  },
  {
   "cell_type": "code",
   "execution_count": 101,
   "metadata": {},
   "outputs": [
    {
     "data": {
      "image/png": "[encoded data removed]",
      "text/plain": [
       "<IPython.core.display.Image object>"
      ]
     },
     "execution_count": 101,
     "metadata": {},
     "output_type": "execute_result"
    }
   ],
   "source": [
    "# visualisasi arstitektur improve model functional API 2\n",
    "keras.utils.plot_model(model_improve_func2, 'model_improve_func2.png', show_shapes=True)"
   ]
  },
  {
   "cell_type": "code",
   "execution_count": 102,
   "metadata": {},
   "outputs": [
    {
     "name": "stdout",
     "output_type": "stream",
     "text": [
      "Epoch 1/200\n",
      "281/281 [==============================] - 2s 4ms/step - loss: 0.4746 - accuracy: 0.7613 - val_loss: 0.4410 - val_accuracy: 0.7927\n",
      "Epoch 2/200\n",
      "281/281 [==============================] - 1s 4ms/step - loss: 0.4271 - accuracy: 0.7941 - val_loss: 0.4352 - val_accuracy: 0.7900\n",
      "Epoch 3/200\n",
      "281/281 [==============================] - 1s 4ms/step - loss: 0.4211 - accuracy: 0.8000 - val_loss: 0.4332 - val_accuracy: 0.7936\n",
      "Epoch 4/200\n",
      "281/281 [==============================] - 1s 3ms/step - loss: 0.4178 - accuracy: 0.8020 - val_loss: 0.4321 - val_accuracy: 0.7909\n",
      "Epoch 5/200\n",
      "281/281 [==============================] - 1s 3ms/step - loss: 0.4151 - accuracy: 0.8029 - val_loss: 0.4333 - val_accuracy: 0.7883\n",
      "Epoch 6/200\n",
      "281/281 [==============================] - 1s 3ms/step - loss: 0.4137 - accuracy: 0.8075 - val_loss: 0.4311 - val_accuracy: 0.7927\n",
      "Epoch 7/200\n",
      "281/281 [==============================] - 1s 3ms/step - loss: 0.4115 - accuracy: 0.8071 - val_loss: 0.4333 - val_accuracy: 0.7963\n",
      "Epoch 8/200\n",
      "281/281 [==============================] - 1s 3ms/step - loss: 0.4110 - accuracy: 0.8089 - val_loss: 0.4314 - val_accuracy: 0.7972\n",
      "Epoch 9/200\n",
      "281/281 [==============================] - 1s 3ms/step - loss: 0.4088 - accuracy: 0.8098 - val_loss: 0.4306 - val_accuracy: 0.7963\n",
      "Epoch 10/200\n",
      "281/281 [==============================] - 1s 3ms/step - loss: 0.4071 - accuracy: 0.8136 - val_loss: 0.4356 - val_accuracy: 0.7972\n",
      "Epoch 11/200\n",
      "281/281 [==============================] - 1s 3ms/step - loss: 0.4059 - accuracy: 0.8116 - val_loss: 0.4307 - val_accuracy: 0.7980\n",
      "Epoch 12/200\n",
      "281/281 [==============================] - 1s 3ms/step - loss: 0.4043 - accuracy: 0.8136 - val_loss: 0.4310 - val_accuracy: 0.7989\n",
      "Epoch 13/200\n",
      "281/281 [==============================] - 1s 3ms/step - loss: 0.4031 - accuracy: 0.8134 - val_loss: 0.4318 - val_accuracy: 0.7909\n",
      "Epoch 14/200\n",
      "281/281 [==============================] - 1s 3ms/step - loss: 0.4013 - accuracy: 0.8160 - val_loss: 0.4316 - val_accuracy: 0.7972\n",
      "Epoch 15/200\n",
      "281/281 [==============================] - 1s 3ms/step - loss: 0.3996 - accuracy: 0.8153 - val_loss: 0.4323 - val_accuracy: 0.7927\n",
      "Epoch 16/200\n",
      "281/281 [==============================] - 1s 3ms/step - loss: 0.3983 - accuracy: 0.8156 - val_loss: 0.4336 - val_accuracy: 0.7989\n",
      "Epoch 17/200\n",
      "281/281 [==============================] - 1s 3ms/step - loss: 0.3971 - accuracy: 0.8166 - val_loss: 0.4338 - val_accuracy: 0.7954\n",
      "Epoch 18/200\n",
      "281/281 [==============================] - 1s 4ms/step - loss: 0.3949 - accuracy: 0.8176 - val_loss: 0.4349 - val_accuracy: 0.7945\n",
      "Epoch 19/200\n",
      "281/281 [==============================] - 1s 3ms/step - loss: 0.3938 - accuracy: 0.8185 - val_loss: 0.4356 - val_accuracy: 0.7936\n",
      "Epoch 20/200\n",
      "281/281 [==============================] - 1s 3ms/step - loss: 0.3922 - accuracy: 0.8201 - val_loss: 0.4366 - val_accuracy: 0.7963\n",
      "Epoch 21/200\n",
      "281/281 [==============================] - 1s 3ms/step - loss: 0.3913 - accuracy: 0.8201 - val_loss: 0.4375 - val_accuracy: 0.7927\n",
      "Epoch 22/200\n",
      "281/281 [==============================] - 1s 3ms/step - loss: 0.3892 - accuracy: 0.8213 - val_loss: 0.4380 - val_accuracy: 0.7909\n",
      "Epoch 23/200\n",
      "281/281 [==============================] - 1s 3ms/step - loss: 0.3880 - accuracy: 0.8211 - val_loss: 0.4395 - val_accuracy: 0.7954\n",
      "Epoch 24/200\n",
      "281/281 [==============================] - 1s 3ms/step - loss: 0.3873 - accuracy: 0.8211 - val_loss: 0.4400 - val_accuracy: 0.7900\n"
     ]
    }
   ],
   "source": [
    "# training improve model functional API 2\n",
    "history6 = model_improve_func2.fit(train_dataset,\n",
    "                              epochs = 200,\n",
    "                              validation_data = (val_dataset),\n",
    "                              callbacks = [early_stop2],\n",
    "                              verbose = 1)"
   ]
  },
  {
   "cell_type": "code",
   "execution_count": 103,
   "metadata": {},
   "outputs": [
    {
     "data": {
      "image/png": "[encoded data removed]",
      "text/plain": [
       "<Figure size 720x360 with 1 Axes>"
      ]
     },
     "metadata": {
      "needs_background": "light"
     },
     "output_type": "display_data"
    }
   ],
   "source": [
    "# visualisasi hasil training improve model functional API 2\n",
    "fig, ax = plt.subplots(figsize=(10,5))\n",
    "ax.plot(range(history6.epoch[-1]+1),history6.history['loss'],label='train loss')\n",
    "ax.plot(range(history6.epoch[-1]+1),history6.history['val_loss'],label='val loss')\n",
    "ax.set_xlabel('Epoch')\n",
    "ax.set_ylabel('Loss')\n",
    "ax.set_ylim([0,1])\n",
    "plt.legend()\n",
    "plt.show()"
   ]
  },
  {
   "cell_type": "markdown",
   "metadata": {},
   "source": [
    "Hasil training improve model functional API 2 menunjukan hasil yang cukup baik."
   ]
  },
  {
   "cell_type": "code",
   "execution_count": 104,
   "metadata": {},
   "outputs": [
    {
     "name": "stdout",
     "output_type": "stream",
     "text": [
      "Minimum Validation Loss : 0.4306475818157196\n"
     ]
    }
   ],
   "source": [
    "print('Minimum Validation Loss :', min(history6.history['val_loss']))"
   ]
  },
  {
   "cell_type": "code",
   "execution_count": 105,
   "metadata": {},
   "outputs": [
    {
     "name": "stdout",
     "output_type": "stream",
     "text": [
      "36/36 [==============================] - 0s 2ms/step\n",
      "              precision    recall  f1-score   support\n",
      "\n",
      "           0       0.84      0.90      0.87       823\n",
      "           1       0.65      0.52      0.58       301\n",
      "\n",
      "    accuracy                           0.80      1124\n",
      "   macro avg       0.74      0.71      0.72      1124\n",
      "weighted avg       0.79      0.80      0.79      1124\n",
      "\n"
     ]
    }
   ],
   "source": [
    "# classification report\n",
    "y_pred_val_func3 = model_improve_func2.predict(X_val_final)\n",
    "y_pred_val_func3 = np.where(y_pred_val_func3 > 0.5, 1, 0)\n",
    "print(classification_report(y_val, y_pred_val_func3))"
   ]
  },
  {
   "cell_type": "markdown",
   "metadata": {},
   "source": [
    "Recall score berada dikisaran 0,52."
   ]
  },
  {
   "cell_type": "markdown",
   "metadata": {},
   "source": [
    "### Best Model"
   ]
  },
  {
   "cell_type": "markdown",
   "metadata": {},
   "source": [
    "Untuk menentukan model terbaik, saya akan menyandingkan seluruh hasil training dan evaluation model yang telah dibuat."
   ]
  },
  {
   "cell_type": "code",
   "execution_count": 106,
   "metadata": {},
   "outputs": [
    {
     "data": {
      "image/png": "[encoded data removed]",
      "text/plain": [
       "<Figure size 1440x1080 with 6 Axes>"
      ]
     },
     "metadata": {
      "needs_background": "light"
     },
     "output_type": "display_data"
    }
   ],
   "source": [
    "fig, ax = plt.subplots(ncols = 2, nrows = 3, figsize=(20,15))\n",
    "\n",
    "ax[0][0].plot(range(history1.epoch[-1]+1),history1.history['loss'],label='train loss')\n",
    "ax[0][0].plot(range(history1.epoch[-1]+1),history1.history['val_loss'],label='val loss')\n",
    "ax[0][0].set_title('Basic Model Sequential API', size = 14)\n",
    "ax[0][0].set_xlabel('Epoch')\n",
    "ax[0][0].set_ylabel('Loss')\n",
    "ax[0][0].set_ylim([0,1])\n",
    "ax[0][0].legend()\n",
    "\n",
    "ax[0][1].plot(range(history2.epoch[-1]+1),history2.history['loss'],label='train loss')\n",
    "ax[0][1].plot(range(history2.epoch[-1]+1),history2.history['val_loss'],label='val loss')\n",
    "ax[0][1].set_title('Basic Model Functional API', size = 14)\n",
    "ax[0][1].set_xlabel('Epoch')\n",
    "ax[0][1].set_ylabel('Loss')\n",
    "ax[0][1].set_ylim([0,1])\n",
    "ax[0][1].legend()\n",
    "\n",
    "ax[1][0].plot(range(history3.epoch[-1]+1),history3.history['loss'],label='train loss')\n",
    "ax[1][0].plot(range(history3.epoch[-1]+1),history3.history['val_loss'],label='val loss')\n",
    "ax[1][0].set_title('Improve Model Sequential API 1', size = 14)\n",
    "ax[1][0].set_xlabel('Epoch')\n",
    "ax[1][0].set_ylabel('Loss')\n",
    "ax[1][0].set_ylim([0,1])\n",
    "ax[1][0].legend()\n",
    "\n",
    "ax[1][1].plot(range(history4.epoch[-1]+1),history4.history['loss'],label='train loss')\n",
    "ax[1][1].plot(range(history4.epoch[-1]+1),history4.history['val_loss'],label='val loss')\n",
    "ax[1][1].set_title('Improve Model Sequential API 2', size = 14)\n",
    "ax[1][1].set_xlabel('Epoch')\n",
    "ax[1][1].set_ylabel('Loss')\n",
    "ax[1][1].set_ylim([0,1])\n",
    "ax[1][1].legend()\n",
    "\n",
    "ax[2][0].plot(range(history5.epoch[-1]+1),history5.history['loss'],label='train loss')\n",
    "ax[2][0].plot(range(history5.epoch[-1]+1),history5.history['val_loss'],label='val loss')\n",
    "ax[2][0].set_title('Improve Model Functional API 1', size = 14)\n",
    "ax[2][0].set_xlabel('Epoch')\n",
    "ax[2][0].set_ylabel('Loss')\n",
    "ax[2][0].set_ylim([0,1])\n",
    "ax[2][0].legend()\n",
    "\n",
    "ax[2][1].plot(range(history6.epoch[-1]+1),history6.history['loss'],label='train loss')\n",
    "ax[2][1].plot(range(history6.epoch[-1]+1),history6.history['val_loss'],label='val loss')\n",
    "ax[2][1].set_title('Improve Model Functional API 2', size = 14)\n",
    "ax[2][1].set_xlabel('Epoch')\n",
    "ax[2][1].set_ylabel('Loss')\n",
    "ax[2][1].set_ylim([0,1])\n",
    "ax[2][1].legend()\n",
    "\n",
    "plt.show()"
   ]
  },
  {
   "cell_type": "markdown",
   "metadata": {},
   "source": [
    "Dari hasil training model diatas, terlihat improve model sequential API 1 dan improve model functional API 2 merupakan model dengan hasil training yang paling stabil. Train loss dan val loss tidak jauh berbeda sehingga model tidak terlalu overfitting dibandingkan dengan hasil model lainnya yang berfluktuatif dan cenderung semakin menjauh antara nilai train loss dengan nilai val loss."
   ]
  },
  {
   "cell_type": "code",
   "execution_count": 107,
   "metadata": {},
   "outputs": [
    {
     "name": "stdout",
     "output_type": "stream",
     "text": [
      "Minimum Validation Loss pada Basic Model Sequential API\t\t: 0.45662155747413635\n",
      "Minimum Validation Loss pada Basic Model Fucntional API\t\t: 0.5227253437042236\n",
      "Minimum Validation Loss pada Improve Model Sequential API 1\t: 0.4465826749801636\n",
      "Minimum Validation Loss pada Improve Model Sequential API 2\t: 0.4445049464702606\n",
      "Minimum Validation Loss pada Improve Model Functional API 1\t: 0.43464261293411255\n",
      "Minimum Validation Loss pada Improve Model Functional API 1\t: 0.4306475818157196\n"
     ]
    }
   ],
   "source": [
    "print('Minimum Validation Loss pada Basic Model Sequential API\\t\\t:', min(history1.history['val_loss']))\n",
    "print('Minimum Validation Loss pada Basic Model Fucntional API\\t\\t:', min(history2.history['val_loss']))\n",
    "print('Minimum Validation Loss pada Improve Model Sequential API 1\\t:', min(history3.history['val_loss']))\n",
    "print('Minimum Validation Loss pada Improve Model Sequential API 2\\t:', min(history4.history['val_loss']))\n",
    "print('Minimum Validation Loss pada Improve Model Functional API 1\\t:', min(history5.history['val_loss']))\n",
    "print('Minimum Validation Loss pada Improve Model Functional API 1\\t:', min(history6.history['val_loss']))"
   ]
  },
  {
   "cell_type": "markdown",
   "metadata": {},
   "source": [
    "Nilai val loss terkecil terdapat pada improve model functional API 2."
   ]
  },
  {
   "cell_type": "code",
   "execution_count": 108,
   "metadata": {},
   "outputs": [
    {
     "name": "stdout",
     "output_type": "stream",
     "text": [
      "Basic Model Sequential\n",
      "               precision    recall  f1-score   support\n",
      "\n",
      "           0       0.85      0.86      0.86       823\n",
      "           1       0.61      0.57      0.59       301\n",
      "\n",
      "    accuracy                           0.79      1124\n",
      "   macro avg       0.73      0.72      0.72      1124\n",
      "weighted avg       0.78      0.79      0.78      1124\n",
      "\n",
      "Improve Model Sequential 1\n",
      "               precision    recall  f1-score   support\n",
      "\n",
      "           0       0.82      0.93      0.87       823\n",
      "           1       0.68      0.43      0.53       301\n",
      "\n",
      "    accuracy                           0.79      1124\n",
      "   macro avg       0.75      0.68      0.70      1124\n",
      "weighted avg       0.78      0.79      0.78      1124\n",
      "\n",
      "Improve Model Sequential 2\n",
      "               precision    recall  f1-score   support\n",
      "\n",
      "           0       0.84      0.89      0.87       823\n",
      "           1       0.65      0.53      0.58       301\n",
      "\n",
      "    accuracy                           0.80      1124\n",
      "   macro avg       0.74      0.71      0.72      1124\n",
      "weighted avg       0.79      0.80      0.79      1124\n",
      "\n"
     ]
    }
   ],
   "source": [
    "# classification report model sequential\n",
    "print('Basic Model Sequential\\n',classification_report(y_val, y_pred_val_seq))\n",
    "print('Improve Model Sequential 1\\n',classification_report(y_val, y_pred_val_seq2))\n",
    "print('Improve Model Sequential 2\\n',classification_report(y_val, y_pred_val_seq3))"
   ]
  },
  {
   "cell_type": "markdown",
   "metadata": {},
   "source": [
    "Pada model sequential API ini, model terbaik ada pada basic model dengan nilai recall score tertinggi."
   ]
  },
  {
   "cell_type": "code",
   "execution_count": 109,
   "metadata": {},
   "outputs": [
    {
     "name": "stdout",
     "output_type": "stream",
     "text": [
      "Basic Model Functional\n",
      "               precision    recall  f1-score   support\n",
      "\n",
      "           0       0.82      0.90      0.86       823\n",
      "           1       0.63      0.48      0.54       301\n",
      "\n",
      "    accuracy                           0.79      1124\n",
      "   macro avg       0.73      0.69      0.70      1124\n",
      "weighted avg       0.77      0.79      0.78      1124\n",
      "\n",
      "improve Model Functional 1\n",
      "               precision    recall  f1-score   support\n",
      "\n",
      "           0       0.83      0.91      0.87       823\n",
      "           1       0.66      0.50      0.57       301\n",
      "\n",
      "    accuracy                           0.80      1124\n",
      "   macro avg       0.75      0.71      0.72      1124\n",
      "weighted avg       0.79      0.80      0.79      1124\n",
      "\n",
      "improve Model Functional 2\n",
      "               precision    recall  f1-score   support\n",
      "\n",
      "           0       0.84      0.90      0.87       823\n",
      "           1       0.65      0.52      0.58       301\n",
      "\n",
      "    accuracy                           0.80      1124\n",
      "   macro avg       0.74      0.71      0.72      1124\n",
      "weighted avg       0.79      0.80      0.79      1124\n",
      "\n"
     ]
    }
   ],
   "source": [
    "# classification report model functional\n",
    "print('Basic Model Functional\\n',classification_report(y_val, y_pred_val_func))\n",
    "print('improve Model Functional 1\\n',classification_report(y_val, y_pred_val_func2))\n",
    "print('improve Model Functional 2\\n',classification_report(y_val, y_pred_val_func3))"
   ]
  },
  {
   "cell_type": "markdown",
   "metadata": {},
   "source": [
    "Pada model functional API ini, model terbaik ada pada improve model 2."
   ]
  },
  {
   "cell_type": "markdown",
   "metadata": {},
   "source": [
    "Dari keseluruhan model yang dibuat, model terbaik adalah improve model functional API 2 dengan hasil training yang paling stabil dan nilai recall score cukup tinggi walau bukan yang tertinggi. Sehingga untuk model deployment dan model inference, saya akan menggunakan model ini sebagai model yang akan memprediksi customer churn."
   ]
  },
  {
   "cell_type": "markdown",
   "metadata": {},
   "source": [
    "> Finalisasi model terbaik : `model_improve_func2`"
   ]
  },
  {
   "cell_type": "markdown",
   "metadata": {},
   "source": [
    "### Model Predict Test-set"
   ]
  },
  {
   "cell_type": "markdown",
   "metadata": {},
   "source": [
    "Model terbaik ini akan digunakan untuk memprediksi data test-set, hasil prediksi tersebut akan menjadi performa overall model ini dalam memprediksi sebuah dataset customer churn."
   ]
  },
  {
   "cell_type": "code",
   "execution_count": 127,
   "metadata": {},
   "outputs": [
    {
     "name": "stdout",
     "output_type": "stream",
     "text": [
      "44/44 [==============================] - 0s 3ms/step - loss: 0.3977 - accuracy: 0.8149\n"
     ]
    },
    {
     "data": {
      "text/plain": [
       "[0.397682785987854, 0.8149465918540955]"
      ]
     },
     "execution_count": 127,
     "metadata": {},
     "output_type": "execute_result"
    }
   ],
   "source": [
    "# model evaluation data test-set\n",
    "model_improve_func2.evaluate(test_dataset)"
   ]
  },
  {
   "cell_type": "code",
   "execution_count": 132,
   "metadata": {},
   "outputs": [
    {
     "name": "stdout",
     "output_type": "stream",
     "text": [
      "44/44 [==============================] - 0s 2ms/step\n"
     ]
    }
   ],
   "source": [
    "# model predict data test-set\n",
    "y_pred_test = model_improve_func2.predict(X_test_final)\n",
    "y_pred_test = np.where(y_pred_test > 0.3, 1, 0)"
   ]
  },
  {
   "cell_type": "markdown",
   "metadata": {},
   "source": [
    "Threshold yang saya gunakan adalah 0,3. Penurunan threshold ini diharapkan agar model dapat memprediksi False Negative yang lebih sedikit sehingga recall scorenya meningkat, karena fokus utama dalam pembuatan model ini adalah untuk menghasilkan nilai False Negative seminimal mungkin agar customer yang terprediksi tidak churn namun sebenaranya adalah churn (False Negative) akan semakin berkurang."
   ]
  },
  {
   "cell_type": "code",
   "execution_count": 133,
   "metadata": {},
   "outputs": [
    {
     "name": "stdout",
     "output_type": "stream",
     "text": [
      "              precision    recall  f1-score   support\n",
      "\n",
      "           0       0.91      0.80      0.85      1038\n",
      "           1       0.58      0.77      0.66       367\n",
      "\n",
      "    accuracy                           0.79      1405\n",
      "   macro avg       0.74      0.79      0.76      1405\n",
      "weighted avg       0.82      0.79      0.80      1405\n",
      "\n"
     ]
    }
   ],
   "source": [
    "print(classification_report(y_test, y_pred_test))"
   ]
  },
  {
   "cell_type": "markdown",
   "metadata": {},
   "source": [
    "Hasil classification report diatas menunjukan bahwa model ini dapat menghasilkan recall score 0,77. Hasil ini lebih baik karena threshold yang ditentukan sebelumnya 0,5 kita kurangi menjadi 0,3, model ini dapat dikatakan cukup baik dalam melakukan prediksi customer churn."
   ]
  },
  {
   "cell_type": "markdown",
   "metadata": {},
   "source": [
    "______________________"
   ]
  },
  {
   "cell_type": "markdown",
   "metadata": {},
   "source": [
    "# VIII. Model Saving"
   ]
  },
  {
   "cell_type": "markdown",
   "metadata": {},
   "source": [
    "Model terbaik selanjutnya disimpan dalam format h5 untuk keperluan model deployment. Pipeline data preprocessing juga akan saya simpan untuk keperluan model deployment."
   ]
  },
  {
   "cell_type": "code",
   "execution_count": 134,
   "metadata": {},
   "outputs": [],
   "source": [
    "# saving model\n",
    "model_improve_func2.save('model_functional_api.h5')"
   ]
  },
  {
   "cell_type": "code",
   "execution_count": 135,
   "metadata": {},
   "outputs": [],
   "source": [
    "# saving pipeline\n",
    "with open('full_pipeline.pkl', 'wb') as file_1:\n",
    "  pickle.dump(full_pipeline, file_1)"
   ]
  },
  {
   "cell_type": "markdown",
   "metadata": {},
   "source": [
    "_____________"
   ]
  },
  {
   "cell_type": "markdown",
   "metadata": {},
   "source": [
    "# IX. Model Inference"
   ]
  },
  {
   "cell_type": "markdown",
   "metadata": {},
   "source": [
    "Pada model inference ini saya akan mencoba mengaplikasikan model yang sudah saya buat sebelumnya untuk memprediksi apakah customer akan churn atau tidak churn pada data inference yang telah saya pisahkan sebelumnya."
   ]
  },
  {
   "cell_type": "code",
   "execution_count": 136,
   "metadata": {},
   "outputs": [
    {
     "data": {
      "text/html": [
       "<div>\n",
       "<style scoped>\n",
       "    .dataframe tbody tr th:only-of-type {\n",
       "        vertical-align: middle;\n",
       "    }\n",
       "\n",
       "    .dataframe tbody tr th {\n",
       "        vertical-align: top;\n",
       "    }\n",
       "\n",
       "    .dataframe thead th {\n",
       "        text-align: right;\n",
       "    }\n",
       "</style>\n",
       "<table border=\"1\" class=\"dataframe\">\n",
       "  <thead>\n",
       "    <tr style=\"text-align: right;\">\n",
       "      <th></th>\n",
       "      <th>customerID</th>\n",
       "      <th>gender</th>\n",
       "      <th>SeniorCitizen</th>\n",
       "      <th>Partner</th>\n",
       "      <th>Dependents</th>\n",
       "      <th>tenure</th>\n",
       "      <th>PhoneService</th>\n",
       "      <th>MultipleLines</th>\n",
       "      <th>InternetService</th>\n",
       "      <th>OnlineSecurity</th>\n",
       "      <th>OnlineBackup</th>\n",
       "      <th>DeviceProtection</th>\n",
       "      <th>TechSupport</th>\n",
       "      <th>StreamingTV</th>\n",
       "      <th>StreamingMovies</th>\n",
       "      <th>Contract</th>\n",
       "      <th>PaperlessBilling</th>\n",
       "      <th>PaymentMethod</th>\n",
       "      <th>MonthlyCharges</th>\n",
       "      <th>TotalCharges</th>\n",
       "      <th>Churn</th>\n",
       "    </tr>\n",
       "  </thead>\n",
       "  <tbody>\n",
       "    <tr>\n",
       "      <th>0</th>\n",
       "      <td>6901-GOGZG</td>\n",
       "      <td>Male</td>\n",
       "      <td>No</td>\n",
       "      <td>No</td>\n",
       "      <td>Yes</td>\n",
       "      <td>60</td>\n",
       "      <td>Yes</td>\n",
       "      <td>Yes</td>\n",
       "      <td>DSL</td>\n",
       "      <td>Yes</td>\n",
       "      <td>No</td>\n",
       "      <td>Yes</td>\n",
       "      <td>Yes</td>\n",
       "      <td>Yes</td>\n",
       "      <td>Yes</td>\n",
       "      <td>Two year</td>\n",
       "      <td>Yes</td>\n",
       "      <td>Electronic check</td>\n",
       "      <td>84.95</td>\n",
       "      <td>4984.85</td>\n",
       "      <td>No</td>\n",
       "    </tr>\n",
       "    <tr>\n",
       "      <th>1</th>\n",
       "      <td>7621-VPNET</td>\n",
       "      <td>Female</td>\n",
       "      <td>No</td>\n",
       "      <td>Yes</td>\n",
       "      <td>No</td>\n",
       "      <td>42</td>\n",
       "      <td>Yes</td>\n",
       "      <td>Yes</td>\n",
       "      <td>Fiber optic</td>\n",
       "      <td>No</td>\n",
       "      <td>No</td>\n",
       "      <td>Yes</td>\n",
       "      <td>Yes</td>\n",
       "      <td>No</td>\n",
       "      <td>No</td>\n",
       "      <td>Month-to-month</td>\n",
       "      <td>Yes</td>\n",
       "      <td>Credit card (automatic)</td>\n",
       "      <td>85.90</td>\n",
       "      <td>3729.75</td>\n",
       "      <td>No</td>\n",
       "    </tr>\n",
       "    <tr>\n",
       "      <th>2</th>\n",
       "      <td>8042-JVNFH</td>\n",
       "      <td>Male</td>\n",
       "      <td>No</td>\n",
       "      <td>No</td>\n",
       "      <td>No</td>\n",
       "      <td>1</td>\n",
       "      <td>Yes</td>\n",
       "      <td>No</td>\n",
       "      <td>Fiber optic</td>\n",
       "      <td>No</td>\n",
       "      <td>No</td>\n",
       "      <td>No</td>\n",
       "      <td>No</td>\n",
       "      <td>No</td>\n",
       "      <td>No</td>\n",
       "      <td>Month-to-month</td>\n",
       "      <td>Yes</td>\n",
       "      <td>Mailed check</td>\n",
       "      <td>71.35</td>\n",
       "      <td>71.35</td>\n",
       "      <td>Yes</td>\n",
       "    </tr>\n",
       "    <tr>\n",
       "      <th>3</th>\n",
       "      <td>7402-PWYJJ</td>\n",
       "      <td>Female</td>\n",
       "      <td>No</td>\n",
       "      <td>Yes</td>\n",
       "      <td>No</td>\n",
       "      <td>53</td>\n",
       "      <td>Yes</td>\n",
       "      <td>Yes</td>\n",
       "      <td>Fiber optic</td>\n",
       "      <td>No</td>\n",
       "      <td>No</td>\n",
       "      <td>No</td>\n",
       "      <td>Yes</td>\n",
       "      <td>No</td>\n",
       "      <td>Yes</td>\n",
       "      <td>One year</td>\n",
       "      <td>Yes</td>\n",
       "      <td>Electronic check</td>\n",
       "      <td>91.15</td>\n",
       "      <td>4862.50</td>\n",
       "      <td>No</td>\n",
       "    </tr>\n",
       "    <tr>\n",
       "      <th>4</th>\n",
       "      <td>7873-CVMAW</td>\n",
       "      <td>Male</td>\n",
       "      <td>No</td>\n",
       "      <td>No</td>\n",
       "      <td>No</td>\n",
       "      <td>72</td>\n",
       "      <td>Yes</td>\n",
       "      <td>Yes</td>\n",
       "      <td>DSL</td>\n",
       "      <td>Yes</td>\n",
       "      <td>Yes</td>\n",
       "      <td>Yes</td>\n",
       "      <td>Yes</td>\n",
       "      <td>Yes</td>\n",
       "      <td>Yes</td>\n",
       "      <td>Two year</td>\n",
       "      <td>No</td>\n",
       "      <td>Credit card (automatic)</td>\n",
       "      <td>88.55</td>\n",
       "      <td>6362.35</td>\n",
       "      <td>No</td>\n",
       "    </tr>\n",
       "    <tr>\n",
       "      <th>5</th>\n",
       "      <td>6207-WIOLX</td>\n",
       "      <td>Female</td>\n",
       "      <td>No</td>\n",
       "      <td>Yes</td>\n",
       "      <td>Yes</td>\n",
       "      <td>25</td>\n",
       "      <td>No</td>\n",
       "      <td>No phone service</td>\n",
       "      <td>DSL</td>\n",
       "      <td>Yes</td>\n",
       "      <td>Yes</td>\n",
       "      <td>Yes</td>\n",
       "      <td>No</td>\n",
       "      <td>Yes</td>\n",
       "      <td>Yes</td>\n",
       "      <td>Month-to-month</td>\n",
       "      <td>Yes</td>\n",
       "      <td>Credit card (automatic)</td>\n",
       "      <td>58.60</td>\n",
       "      <td>1502.65</td>\n",
       "      <td>Yes</td>\n",
       "    </tr>\n",
       "    <tr>\n",
       "      <th>6</th>\n",
       "      <td>6542-LWGXJ</td>\n",
       "      <td>Male</td>\n",
       "      <td>No</td>\n",
       "      <td>Yes</td>\n",
       "      <td>No</td>\n",
       "      <td>3</td>\n",
       "      <td>No</td>\n",
       "      <td>No phone service</td>\n",
       "      <td>DSL</td>\n",
       "      <td>No</td>\n",
       "      <td>No</td>\n",
       "      <td>No</td>\n",
       "      <td>No</td>\n",
       "      <td>No</td>\n",
       "      <td>No</td>\n",
       "      <td>Month-to-month</td>\n",
       "      <td>No</td>\n",
       "      <td>Mailed check</td>\n",
       "      <td>25.00</td>\n",
       "      <td>78.25</td>\n",
       "      <td>No</td>\n",
       "    </tr>\n",
       "    <tr>\n",
       "      <th>7</th>\n",
       "      <td>5574-NXZIU</td>\n",
       "      <td>Male</td>\n",
       "      <td>No</td>\n",
       "      <td>No</td>\n",
       "      <td>No</td>\n",
       "      <td>63</td>\n",
       "      <td>Yes</td>\n",
       "      <td>No</td>\n",
       "      <td>Fiber optic</td>\n",
       "      <td>Yes</td>\n",
       "      <td>Yes</td>\n",
       "      <td>Yes</td>\n",
       "      <td>Yes</td>\n",
       "      <td>Yes</td>\n",
       "      <td>Yes</td>\n",
       "      <td>Two year</td>\n",
       "      <td>No</td>\n",
       "      <td>Credit card (automatic)</td>\n",
       "      <td>109.20</td>\n",
       "      <td>7049.75</td>\n",
       "      <td>No</td>\n",
       "    </tr>\n",
       "    <tr>\n",
       "      <th>8</th>\n",
       "      <td>1660-HSOOQ</td>\n",
       "      <td>Male</td>\n",
       "      <td>No</td>\n",
       "      <td>No</td>\n",
       "      <td>No</td>\n",
       "      <td>1</td>\n",
       "      <td>Yes</td>\n",
       "      <td>No</td>\n",
       "      <td>DSL</td>\n",
       "      <td>No</td>\n",
       "      <td>No</td>\n",
       "      <td>Yes</td>\n",
       "      <td>No</td>\n",
       "      <td>No</td>\n",
       "      <td>No</td>\n",
       "      <td>Month-to-month</td>\n",
       "      <td>Yes</td>\n",
       "      <td>Mailed check</td>\n",
       "      <td>49.65</td>\n",
       "      <td>49.65</td>\n",
       "      <td>Yes</td>\n",
       "    </tr>\n",
       "    <tr>\n",
       "      <th>9</th>\n",
       "      <td>2065-MMKGR</td>\n",
       "      <td>Female</td>\n",
       "      <td>No</td>\n",
       "      <td>No</td>\n",
       "      <td>No</td>\n",
       "      <td>29</td>\n",
       "      <td>Yes</td>\n",
       "      <td>Yes</td>\n",
       "      <td>DSL</td>\n",
       "      <td>No</td>\n",
       "      <td>No</td>\n",
       "      <td>No</td>\n",
       "      <td>No</td>\n",
       "      <td>Yes</td>\n",
       "      <td>Yes</td>\n",
       "      <td>One year</td>\n",
       "      <td>Yes</td>\n",
       "      <td>Credit card (automatic)</td>\n",
       "      <td>71.00</td>\n",
       "      <td>2080.10</td>\n",
       "      <td>No</td>\n",
       "    </tr>\n",
       "  </tbody>\n",
       "</table>\n",
       "</div>"
      ],
      "text/plain": [
       "   customerID  gender SeniorCitizen Partner Dependents  tenure PhoneService  \\\n",
       "0  6901-GOGZG    Male            No      No        Yes      60          Yes   \n",
       "1  7621-VPNET  Female            No     Yes         No      42          Yes   \n",
       "2  8042-JVNFH    Male            No      No         No       1          Yes   \n",
       "3  7402-PWYJJ  Female            No     Yes         No      53          Yes   \n",
       "4  7873-CVMAW    Male            No      No         No      72          Yes   \n",
       "5  6207-WIOLX  Female            No     Yes        Yes      25           No   \n",
       "6  6542-LWGXJ    Male            No     Yes         No       3           No   \n",
       "7  5574-NXZIU    Male            No      No         No      63          Yes   \n",
       "8  1660-HSOOQ    Male            No      No         No       1          Yes   \n",
       "9  2065-MMKGR  Female            No      No         No      29          Yes   \n",
       "\n",
       "      MultipleLines InternetService OnlineSecurity OnlineBackup  \\\n",
       "0               Yes             DSL            Yes           No   \n",
       "1               Yes     Fiber optic             No           No   \n",
       "2                No     Fiber optic             No           No   \n",
       "3               Yes     Fiber optic             No           No   \n",
       "4               Yes             DSL            Yes          Yes   \n",
       "5  No phone service             DSL            Yes          Yes   \n",
       "6  No phone service             DSL             No           No   \n",
       "7                No     Fiber optic            Yes          Yes   \n",
       "8                No             DSL             No           No   \n",
       "9               Yes             DSL             No           No   \n",
       "\n",
       "  DeviceProtection TechSupport StreamingTV StreamingMovies        Contract  \\\n",
       "0              Yes         Yes         Yes             Yes        Two year   \n",
       "1              Yes         Yes          No              No  Month-to-month   \n",
       "2               No          No          No              No  Month-to-month   \n",
       "3               No         Yes          No             Yes        One year   \n",
       "4              Yes         Yes         Yes             Yes        Two year   \n",
       "5              Yes          No         Yes             Yes  Month-to-month   \n",
       "6               No          No          No              No  Month-to-month   \n",
       "7              Yes         Yes         Yes             Yes        Two year   \n",
       "8              Yes          No          No              No  Month-to-month   \n",
       "9               No          No         Yes             Yes        One year   \n",
       "\n",
       "  PaperlessBilling            PaymentMethod  MonthlyCharges  TotalCharges  \\\n",
       "0              Yes         Electronic check           84.95       4984.85   \n",
       "1              Yes  Credit card (automatic)           85.90       3729.75   \n",
       "2              Yes             Mailed check           71.35         71.35   \n",
       "3              Yes         Electronic check           91.15       4862.50   \n",
       "4               No  Credit card (automatic)           88.55       6362.35   \n",
       "5              Yes  Credit card (automatic)           58.60       1502.65   \n",
       "6               No             Mailed check           25.00         78.25   \n",
       "7               No  Credit card (automatic)          109.20       7049.75   \n",
       "8              Yes             Mailed check           49.65         49.65   \n",
       "9              Yes  Credit card (automatic)           71.00       2080.10   \n",
       "\n",
       "  Churn  \n",
       "0    No  \n",
       "1    No  \n",
       "2   Yes  \n",
       "3    No  \n",
       "4    No  \n",
       "5   Yes  \n",
       "6    No  \n",
       "7    No  \n",
       "8   Yes  \n",
       "9    No  "
      ]
     },
     "execution_count": 136,
     "metadata": {},
     "output_type": "execute_result"
    }
   ],
   "source": [
    "# preview data inference\n",
    "df_inf"
   ]
  },
  {
   "cell_type": "markdown",
   "metadata": {},
   "source": [
    "Sebelum melakukan model inference, saya perlu melakukan tahapan data preprocessing agar data inference siap untuk diprediksi dengan menggunakan model. Proses data preprocessing akan melakukan proses yang sama seperti data preprocessing pada train-set dan test-set sebelumnya."
   ]
  },
  {
   "cell_type": "code",
   "execution_count": 137,
   "metadata": {},
   "outputs": [],
   "source": [
    "# split label dan fitur\n",
    "X_inf = df_inf.drop(['customerID', 'Churn'], axis = 1)\n",
    "y_inf = df_inf['Churn'].map({'Yes': 1, 'No': 0})"
   ]
  },
  {
   "cell_type": "code",
   "execution_count": 138,
   "metadata": {},
   "outputs": [],
   "source": [
    "# replace value data kategorik binary\n",
    "X_inf[cat_cols_bin] = X_inf[cat_cols_bin].replace({'Yes': 1, 'No': 0})"
   ]
  },
  {
   "cell_type": "code",
   "execution_count": 139,
   "metadata": {},
   "outputs": [],
   "source": [
    "# Pipeline Data inference\n",
    "X_inf_final = full_pipeline.transform(X_inf)"
   ]
  },
  {
   "cell_type": "code",
   "execution_count": 140,
   "metadata": {},
   "outputs": [],
   "source": [
    "# drop fitur berdasarkan features importances\n",
    "X_inf_final = np.delete(X_inf_final, np.s_[feat_imp_drop_col], axis=1)"
   ]
  },
  {
   "cell_type": "markdown",
   "metadata": {},
   "source": [
    "Data inference telah berhasil di preprocessing, selanjutnya model dapat memprediksi label `Churn` dari data inference."
   ]
  },
  {
   "cell_type": "markdown",
   "metadata": {},
   "source": [
    "### Model Inference dengan Best Model"
   ]
  },
  {
   "cell_type": "code",
   "execution_count": 142,
   "metadata": {},
   "outputs": [
    {
     "name": "stdout",
     "output_type": "stream",
     "text": [
      "1/1 [==============================] - 0s 42ms/step\n"
     ]
    }
   ],
   "source": [
    "# model predict pada data inference\n",
    "y_pred_inf = model_improve_func2.predict(X_inf_final)"
   ]
  },
  {
   "cell_type": "code",
   "execution_count": 143,
   "metadata": {},
   "outputs": [],
   "source": [
    "# threshold 0.3\n",
    "y_pred_inf = np.where(y_pred_inf > 0.3, 1, 0)"
   ]
  },
  {
   "cell_type": "code",
   "execution_count": 144,
   "metadata": {},
   "outputs": [
    {
     "data": {
      "text/plain": [
       "array([[0],\n",
       "       [0],\n",
       "       [1],\n",
       "       [0],\n",
       "       [0],\n",
       "       [0],\n",
       "       [1],\n",
       "       [0],\n",
       "       [1],\n",
       "       [0]])"
      ]
     },
     "execution_count": 144,
     "metadata": {},
     "output_type": "execute_result"
    }
   ],
   "source": [
    "# hasil prediksi\n",
    "y_pred_inf"
   ]
  },
  {
   "cell_type": "code",
   "execution_count": 145,
   "metadata": {},
   "outputs": [
    {
     "data": {
      "text/html": [
       "<div>\n",
       "<style scoped>\n",
       "    .dataframe tbody tr th:only-of-type {\n",
       "        vertical-align: middle;\n",
       "    }\n",
       "\n",
       "    .dataframe tbody tr th {\n",
       "        vertical-align: top;\n",
       "    }\n",
       "\n",
       "    .dataframe thead th {\n",
       "        text-align: right;\n",
       "    }\n",
       "</style>\n",
       "<table border=\"1\" class=\"dataframe\">\n",
       "  <thead>\n",
       "    <tr style=\"text-align: right;\">\n",
       "      <th></th>\n",
       "      <th>Churn - prediction</th>\n",
       "    </tr>\n",
       "  </thead>\n",
       "  <tbody>\n",
       "    <tr>\n",
       "      <th>0</th>\n",
       "      <td>0</td>\n",
       "    </tr>\n",
       "    <tr>\n",
       "      <th>1</th>\n",
       "      <td>0</td>\n",
       "    </tr>\n",
       "    <tr>\n",
       "      <th>2</th>\n",
       "      <td>1</td>\n",
       "    </tr>\n",
       "    <tr>\n",
       "      <th>3</th>\n",
       "      <td>0</td>\n",
       "    </tr>\n",
       "    <tr>\n",
       "      <th>4</th>\n",
       "      <td>0</td>\n",
       "    </tr>\n",
       "    <tr>\n",
       "      <th>5</th>\n",
       "      <td>0</td>\n",
       "    </tr>\n",
       "    <tr>\n",
       "      <th>6</th>\n",
       "      <td>1</td>\n",
       "    </tr>\n",
       "    <tr>\n",
       "      <th>7</th>\n",
       "      <td>0</td>\n",
       "    </tr>\n",
       "    <tr>\n",
       "      <th>8</th>\n",
       "      <td>1</td>\n",
       "    </tr>\n",
       "    <tr>\n",
       "      <th>9</th>\n",
       "      <td>0</td>\n",
       "    </tr>\n",
       "  </tbody>\n",
       "</table>\n",
       "</div>"
      ],
      "text/plain": [
       "   Churn - prediction\n",
       "0                   0\n",
       "1                   0\n",
       "2                   1\n",
       "3                   0\n",
       "4                   0\n",
       "5                   0\n",
       "6                   1\n",
       "7                   0\n",
       "8                   1\n",
       "9                   0"
      ]
     },
     "execution_count": 145,
     "metadata": {},
     "output_type": "execute_result"
    }
   ],
   "source": [
    "# convert hasil prediksi model ke dataframe\n",
    "y_pred_inf_df = pd.DataFrame(y_pred_inf, columns = ['Churn - prediction'])\n",
    "y_pred_inf_df"
   ]
  },
  {
   "cell_type": "code",
   "execution_count": 146,
   "metadata": {},
   "outputs": [
    {
     "data": {
      "text/html": [
       "<div>\n",
       "<style scoped>\n",
       "    .dataframe tbody tr th:only-of-type {\n",
       "        vertical-align: middle;\n",
       "    }\n",
       "\n",
       "    .dataframe tbody tr th {\n",
       "        vertical-align: top;\n",
       "    }\n",
       "\n",
       "    .dataframe thead th {\n",
       "        text-align: right;\n",
       "    }\n",
       "</style>\n",
       "<table border=\"1\" class=\"dataframe\">\n",
       "  <thead>\n",
       "    <tr style=\"text-align: right;\">\n",
       "      <th></th>\n",
       "      <th>customerID</th>\n",
       "      <th>gender</th>\n",
       "      <th>SeniorCitizen</th>\n",
       "      <th>Partner</th>\n",
       "      <th>Dependents</th>\n",
       "      <th>tenure</th>\n",
       "      <th>PhoneService</th>\n",
       "      <th>MultipleLines</th>\n",
       "      <th>InternetService</th>\n",
       "      <th>OnlineSecurity</th>\n",
       "      <th>OnlineBackup</th>\n",
       "      <th>DeviceProtection</th>\n",
       "      <th>TechSupport</th>\n",
       "      <th>StreamingTV</th>\n",
       "      <th>StreamingMovies</th>\n",
       "      <th>Contract</th>\n",
       "      <th>PaperlessBilling</th>\n",
       "      <th>PaymentMethod</th>\n",
       "      <th>MonthlyCharges</th>\n",
       "      <th>TotalCharges</th>\n",
       "      <th>Churn</th>\n",
       "      <th>Churn - prediction</th>\n",
       "    </tr>\n",
       "  </thead>\n",
       "  <tbody>\n",
       "    <tr>\n",
       "      <th>0</th>\n",
       "      <td>6901-GOGZG</td>\n",
       "      <td>Male</td>\n",
       "      <td>No</td>\n",
       "      <td>No</td>\n",
       "      <td>Yes</td>\n",
       "      <td>60</td>\n",
       "      <td>Yes</td>\n",
       "      <td>Yes</td>\n",
       "      <td>DSL</td>\n",
       "      <td>Yes</td>\n",
       "      <td>No</td>\n",
       "      <td>Yes</td>\n",
       "      <td>Yes</td>\n",
       "      <td>Yes</td>\n",
       "      <td>Yes</td>\n",
       "      <td>Two year</td>\n",
       "      <td>Yes</td>\n",
       "      <td>Electronic check</td>\n",
       "      <td>84.95</td>\n",
       "      <td>4984.85</td>\n",
       "      <td>No</td>\n",
       "      <td>0</td>\n",
       "    </tr>\n",
       "    <tr>\n",
       "      <th>1</th>\n",
       "      <td>7621-VPNET</td>\n",
       "      <td>Female</td>\n",
       "      <td>No</td>\n",
       "      <td>Yes</td>\n",
       "      <td>No</td>\n",
       "      <td>42</td>\n",
       "      <td>Yes</td>\n",
       "      <td>Yes</td>\n",
       "      <td>Fiber optic</td>\n",
       "      <td>No</td>\n",
       "      <td>No</td>\n",
       "      <td>Yes</td>\n",
       "      <td>Yes</td>\n",
       "      <td>No</td>\n",
       "      <td>No</td>\n",
       "      <td>Month-to-month</td>\n",
       "      <td>Yes</td>\n",
       "      <td>Credit card (automatic)</td>\n",
       "      <td>85.90</td>\n",
       "      <td>3729.75</td>\n",
       "      <td>No</td>\n",
       "      <td>0</td>\n",
       "    </tr>\n",
       "    <tr>\n",
       "      <th>2</th>\n",
       "      <td>8042-JVNFH</td>\n",
       "      <td>Male</td>\n",
       "      <td>No</td>\n",
       "      <td>No</td>\n",
       "      <td>No</td>\n",
       "      <td>1</td>\n",
       "      <td>Yes</td>\n",
       "      <td>No</td>\n",
       "      <td>Fiber optic</td>\n",
       "      <td>No</td>\n",
       "      <td>No</td>\n",
       "      <td>No</td>\n",
       "      <td>No</td>\n",
       "      <td>No</td>\n",
       "      <td>No</td>\n",
       "      <td>Month-to-month</td>\n",
       "      <td>Yes</td>\n",
       "      <td>Mailed check</td>\n",
       "      <td>71.35</td>\n",
       "      <td>71.35</td>\n",
       "      <td>Yes</td>\n",
       "      <td>1</td>\n",
       "    </tr>\n",
       "    <tr>\n",
       "      <th>3</th>\n",
       "      <td>7402-PWYJJ</td>\n",
       "      <td>Female</td>\n",
       "      <td>No</td>\n",
       "      <td>Yes</td>\n",
       "      <td>No</td>\n",
       "      <td>53</td>\n",
       "      <td>Yes</td>\n",
       "      <td>Yes</td>\n",
       "      <td>Fiber optic</td>\n",
       "      <td>No</td>\n",
       "      <td>No</td>\n",
       "      <td>No</td>\n",
       "      <td>Yes</td>\n",
       "      <td>No</td>\n",
       "      <td>Yes</td>\n",
       "      <td>One year</td>\n",
       "      <td>Yes</td>\n",
       "      <td>Electronic check</td>\n",
       "      <td>91.15</td>\n",
       "      <td>4862.50</td>\n",
       "      <td>No</td>\n",
       "      <td>0</td>\n",
       "    </tr>\n",
       "    <tr>\n",
       "      <th>4</th>\n",
       "      <td>7873-CVMAW</td>\n",
       "      <td>Male</td>\n",
       "      <td>No</td>\n",
       "      <td>No</td>\n",
       "      <td>No</td>\n",
       "      <td>72</td>\n",
       "      <td>Yes</td>\n",
       "      <td>Yes</td>\n",
       "      <td>DSL</td>\n",
       "      <td>Yes</td>\n",
       "      <td>Yes</td>\n",
       "      <td>Yes</td>\n",
       "      <td>Yes</td>\n",
       "      <td>Yes</td>\n",
       "      <td>Yes</td>\n",
       "      <td>Two year</td>\n",
       "      <td>No</td>\n",
       "      <td>Credit card (automatic)</td>\n",
       "      <td>88.55</td>\n",
       "      <td>6362.35</td>\n",
       "      <td>No</td>\n",
       "      <td>0</td>\n",
       "    </tr>\n",
       "    <tr>\n",
       "      <th>5</th>\n",
       "      <td>6207-WIOLX</td>\n",
       "      <td>Female</td>\n",
       "      <td>No</td>\n",
       "      <td>Yes</td>\n",
       "      <td>Yes</td>\n",
       "      <td>25</td>\n",
       "      <td>No</td>\n",
       "      <td>No phone service</td>\n",
       "      <td>DSL</td>\n",
       "      <td>Yes</td>\n",
       "      <td>Yes</td>\n",
       "      <td>Yes</td>\n",
       "      <td>No</td>\n",
       "      <td>Yes</td>\n",
       "      <td>Yes</td>\n",
       "      <td>Month-to-month</td>\n",
       "      <td>Yes</td>\n",
       "      <td>Credit card (automatic)</td>\n",
       "      <td>58.60</td>\n",
       "      <td>1502.65</td>\n",
       "      <td>Yes</td>\n",
       "      <td>0</td>\n",
       "    </tr>\n",
       "    <tr>\n",
       "      <th>6</th>\n",
       "      <td>6542-LWGXJ</td>\n",
       "      <td>Male</td>\n",
       "      <td>No</td>\n",
       "      <td>Yes</td>\n",
       "      <td>No</td>\n",
       "      <td>3</td>\n",
       "      <td>No</td>\n",
       "      <td>No phone service</td>\n",
       "      <td>DSL</td>\n",
       "      <td>No</td>\n",
       "      <td>No</td>\n",
       "      <td>No</td>\n",
       "      <td>No</td>\n",
       "      <td>No</td>\n",
       "      <td>No</td>\n",
       "      <td>Month-to-month</td>\n",
       "      <td>No</td>\n",
       "      <td>Mailed check</td>\n",
       "      <td>25.00</td>\n",
       "      <td>78.25</td>\n",
       "      <td>No</td>\n",
       "      <td>1</td>\n",
       "    </tr>\n",
       "    <tr>\n",
       "      <th>7</th>\n",
       "      <td>5574-NXZIU</td>\n",
       "      <td>Male</td>\n",
       "      <td>No</td>\n",
       "      <td>No</td>\n",
       "      <td>No</td>\n",
       "      <td>63</td>\n",
       "      <td>Yes</td>\n",
       "      <td>No</td>\n",
       "      <td>Fiber optic</td>\n",
       "      <td>Yes</td>\n",
       "      <td>Yes</td>\n",
       "      <td>Yes</td>\n",
       "      <td>Yes</td>\n",
       "      <td>Yes</td>\n",
       "      <td>Yes</td>\n",
       "      <td>Two year</td>\n",
       "      <td>No</td>\n",
       "      <td>Credit card (automatic)</td>\n",
       "      <td>109.20</td>\n",
       "      <td>7049.75</td>\n",
       "      <td>No</td>\n",
       "      <td>0</td>\n",
       "    </tr>\n",
       "    <tr>\n",
       "      <th>8</th>\n",
       "      <td>1660-HSOOQ</td>\n",
       "      <td>Male</td>\n",
       "      <td>No</td>\n",
       "      <td>No</td>\n",
       "      <td>No</td>\n",
       "      <td>1</td>\n",
       "      <td>Yes</td>\n",
       "      <td>No</td>\n",
       "      <td>DSL</td>\n",
       "      <td>No</td>\n",
       "      <td>No</td>\n",
       "      <td>Yes</td>\n",
       "      <td>No</td>\n",
       "      <td>No</td>\n",
       "      <td>No</td>\n",
       "      <td>Month-to-month</td>\n",
       "      <td>Yes</td>\n",
       "      <td>Mailed check</td>\n",
       "      <td>49.65</td>\n",
       "      <td>49.65</td>\n",
       "      <td>Yes</td>\n",
       "      <td>1</td>\n",
       "    </tr>\n",
       "    <tr>\n",
       "      <th>9</th>\n",
       "      <td>2065-MMKGR</td>\n",
       "      <td>Female</td>\n",
       "      <td>No</td>\n",
       "      <td>No</td>\n",
       "      <td>No</td>\n",
       "      <td>29</td>\n",
       "      <td>Yes</td>\n",
       "      <td>Yes</td>\n",
       "      <td>DSL</td>\n",
       "      <td>No</td>\n",
       "      <td>No</td>\n",
       "      <td>No</td>\n",
       "      <td>No</td>\n",
       "      <td>Yes</td>\n",
       "      <td>Yes</td>\n",
       "      <td>One year</td>\n",
       "      <td>Yes</td>\n",
       "      <td>Credit card (automatic)</td>\n",
       "      <td>71.00</td>\n",
       "      <td>2080.10</td>\n",
       "      <td>No</td>\n",
       "      <td>0</td>\n",
       "    </tr>\n",
       "  </tbody>\n",
       "</table>\n",
       "</div>"
      ],
      "text/plain": [
       "   customerID  gender SeniorCitizen Partner Dependents  tenure PhoneService  \\\n",
       "0  6901-GOGZG    Male            No      No        Yes      60          Yes   \n",
       "1  7621-VPNET  Female            No     Yes         No      42          Yes   \n",
       "2  8042-JVNFH    Male            No      No         No       1          Yes   \n",
       "3  7402-PWYJJ  Female            No     Yes         No      53          Yes   \n",
       "4  7873-CVMAW    Male            No      No         No      72          Yes   \n",
       "5  6207-WIOLX  Female            No     Yes        Yes      25           No   \n",
       "6  6542-LWGXJ    Male            No     Yes         No       3           No   \n",
       "7  5574-NXZIU    Male            No      No         No      63          Yes   \n",
       "8  1660-HSOOQ    Male            No      No         No       1          Yes   \n",
       "9  2065-MMKGR  Female            No      No         No      29          Yes   \n",
       "\n",
       "      MultipleLines InternetService OnlineSecurity OnlineBackup  \\\n",
       "0               Yes             DSL            Yes           No   \n",
       "1               Yes     Fiber optic             No           No   \n",
       "2                No     Fiber optic             No           No   \n",
       "3               Yes     Fiber optic             No           No   \n",
       "4               Yes             DSL            Yes          Yes   \n",
       "5  No phone service             DSL            Yes          Yes   \n",
       "6  No phone service             DSL             No           No   \n",
       "7                No     Fiber optic            Yes          Yes   \n",
       "8                No             DSL             No           No   \n",
       "9               Yes             DSL             No           No   \n",
       "\n",
       "  DeviceProtection TechSupport StreamingTV StreamingMovies        Contract  \\\n",
       "0              Yes         Yes         Yes             Yes        Two year   \n",
       "1              Yes         Yes          No              No  Month-to-month   \n",
       "2               No          No          No              No  Month-to-month   \n",
       "3               No         Yes          No             Yes        One year   \n",
       "4              Yes         Yes         Yes             Yes        Two year   \n",
       "5              Yes          No         Yes             Yes  Month-to-month   \n",
       "6               No          No          No              No  Month-to-month   \n",
       "7              Yes         Yes         Yes             Yes        Two year   \n",
       "8              Yes          No          No              No  Month-to-month   \n",
       "9               No          No         Yes             Yes        One year   \n",
       "\n",
       "  PaperlessBilling            PaymentMethod  MonthlyCharges  TotalCharges  \\\n",
       "0              Yes         Electronic check           84.95       4984.85   \n",
       "1              Yes  Credit card (automatic)           85.90       3729.75   \n",
       "2              Yes             Mailed check           71.35         71.35   \n",
       "3              Yes         Electronic check           91.15       4862.50   \n",
       "4               No  Credit card (automatic)           88.55       6362.35   \n",
       "5              Yes  Credit card (automatic)           58.60       1502.65   \n",
       "6               No             Mailed check           25.00         78.25   \n",
       "7               No  Credit card (automatic)          109.20       7049.75   \n",
       "8              Yes             Mailed check           49.65         49.65   \n",
       "9              Yes  Credit card (automatic)           71.00       2080.10   \n",
       "\n",
       "  Churn  Churn - prediction  \n",
       "0    No                   0  \n",
       "1    No                   0  \n",
       "2   Yes                   1  \n",
       "3    No                   0  \n",
       "4    No                   0  \n",
       "5   Yes                   0  \n",
       "6    No                   1  \n",
       "7    No                   0  \n",
       "8   Yes                   1  \n",
       "9    No                   0  "
      ]
     },
     "execution_count": 146,
     "metadata": {},
     "output_type": "execute_result"
    }
   ],
   "source": [
    "# Merge dataframe inference dengan hasil prediksi model\n",
    "pd.concat([df_inf, y_pred_inf_df], axis = 1)"
   ]
  },
  {
   "cell_type": "code",
   "execution_count": 147,
   "metadata": {},
   "outputs": [
    {
     "data": {
      "text/html": [
       "<div>\n",
       "<style scoped>\n",
       "    .dataframe tbody tr th:only-of-type {\n",
       "        vertical-align: middle;\n",
       "    }\n",
       "\n",
       "    .dataframe tbody tr th {\n",
       "        vertical-align: top;\n",
       "    }\n",
       "\n",
       "    .dataframe thead th {\n",
       "        text-align: right;\n",
       "    }\n",
       "</style>\n",
       "<table border=\"1\" class=\"dataframe\">\n",
       "  <thead>\n",
       "    <tr style=\"text-align: right;\">\n",
       "      <th></th>\n",
       "      <th>customerID</th>\n",
       "      <th>Churn</th>\n",
       "      <th>Churn - prediction</th>\n",
       "    </tr>\n",
       "  </thead>\n",
       "  <tbody>\n",
       "    <tr>\n",
       "      <th>0</th>\n",
       "      <td>6901-GOGZG</td>\n",
       "      <td>No</td>\n",
       "      <td>0</td>\n",
       "    </tr>\n",
       "    <tr>\n",
       "      <th>1</th>\n",
       "      <td>7621-VPNET</td>\n",
       "      <td>No</td>\n",
       "      <td>0</td>\n",
       "    </tr>\n",
       "    <tr>\n",
       "      <th>2</th>\n",
       "      <td>8042-JVNFH</td>\n",
       "      <td>Yes</td>\n",
       "      <td>1</td>\n",
       "    </tr>\n",
       "    <tr>\n",
       "      <th>3</th>\n",
       "      <td>7402-PWYJJ</td>\n",
       "      <td>No</td>\n",
       "      <td>0</td>\n",
       "    </tr>\n",
       "    <tr>\n",
       "      <th>4</th>\n",
       "      <td>7873-CVMAW</td>\n",
       "      <td>No</td>\n",
       "      <td>0</td>\n",
       "    </tr>\n",
       "    <tr>\n",
       "      <th>5</th>\n",
       "      <td>6207-WIOLX</td>\n",
       "      <td>Yes</td>\n",
       "      <td>0</td>\n",
       "    </tr>\n",
       "    <tr>\n",
       "      <th>6</th>\n",
       "      <td>6542-LWGXJ</td>\n",
       "      <td>No</td>\n",
       "      <td>1</td>\n",
       "    </tr>\n",
       "    <tr>\n",
       "      <th>7</th>\n",
       "      <td>5574-NXZIU</td>\n",
       "      <td>No</td>\n",
       "      <td>0</td>\n",
       "    </tr>\n",
       "    <tr>\n",
       "      <th>8</th>\n",
       "      <td>1660-HSOOQ</td>\n",
       "      <td>Yes</td>\n",
       "      <td>1</td>\n",
       "    </tr>\n",
       "    <tr>\n",
       "      <th>9</th>\n",
       "      <td>2065-MMKGR</td>\n",
       "      <td>No</td>\n",
       "      <td>0</td>\n",
       "    </tr>\n",
       "  </tbody>\n",
       "</table>\n",
       "</div>"
      ],
      "text/plain": [
       "   customerID Churn  Churn - prediction\n",
       "0  6901-GOGZG    No                   0\n",
       "1  7621-VPNET    No                   0\n",
       "2  8042-JVNFH   Yes                   1\n",
       "3  7402-PWYJJ    No                   0\n",
       "4  7873-CVMAW    No                   0\n",
       "5  6207-WIOLX   Yes                   0\n",
       "6  6542-LWGXJ    No                   1\n",
       "7  5574-NXZIU    No                   0\n",
       "8  1660-HSOOQ   Yes                   1\n",
       "9  2065-MMKGR    No                   0"
      ]
     },
     "execution_count": 147,
     "metadata": {},
     "output_type": "execute_result"
    }
   ],
   "source": [
    "# Perbandingan prediksi model dengan data sesungguhnya\n",
    "pd.concat([df_inf, y_pred_inf_df], axis = 1)[['customerID', 'Churn', 'Churn - prediction']]"
   ]
  },
  {
   "cell_type": "code",
   "execution_count": 148,
   "metadata": {},
   "outputs": [
    {
     "name": "stdout",
     "output_type": "stream",
     "text": [
      "Recall Skor Model KNN dalam memprediksi data inference:\n",
      "               precision    recall  f1-score   support\n",
      "\n",
      "           0       0.86      0.86      0.86         7\n",
      "           1       0.67      0.67      0.67         3\n",
      "\n",
      "    accuracy                           0.80        10\n",
      "   macro avg       0.76      0.76      0.76        10\n",
      "weighted avg       0.80      0.80      0.80        10\n",
      "\n"
     ]
    }
   ],
   "source": [
    "# hasil classification report model knn pada data inference\n",
    "print('Recall Skor Model KNN dalam memprediksi data inference:\\n', classification_report(y_inf, y_pred_inf))"
   ]
  },
  {
   "cell_type": "markdown",
   "metadata": {},
   "source": [
    "Hasil model inference ini memperlihatkan bahwa model neural network yang telah kita buat ternyata menghasilkan recall score 0,67. Hasil ini masih dapat dikatakan kurang baik dan perlu dilakukan improvement lebih lanjut mengenai model ini. Diharapkan dengan adanya model yang dapat memprediksi customer churn ini, tim terkait dapat melakukan monitoring secara real-time dan dapat melakukan tindakan cepat dalam mencegah customer churn sebelum terlambat."
   ]
  },
  {
   "cell_type": "markdown",
   "metadata": {},
   "source": [
    "___________________"
   ]
  },
  {
   "cell_type": "markdown",
   "metadata": {},
   "source": [
    "# X. Conclusion"
   ]
  },
  {
   "cell_type": "markdown",
   "metadata": {},
   "source": [
    "Kesimpulan dari notebook ini adalah sebagai berikut:\n",
    "1. Hasil EDA menunjukan bahwa churn rate dataset ini berada diangka 26,6%. EDA juga menemukan beberapa karakteristik customer churn pada perusahaan telco ini yaitu customer churn cenderung memiliki tipe internet service yaitu Fiber Optic, customer churn cenderung memiliki kontrak pembayaran perbulan, dan customer churn cenderung memiliki jumlah tagihan yang lebih tinggi daripada customer tidak churn.\n",
    "2. Features importance random forest memperlihatkan 3 fitur yang sangat berpengaruh terhadap label `Churn` yaitu `TotalCharges`, `MonthlyCharges`, dan `tenure`.\n",
    "3. Model neural network terbaik adalah model improve Functional API dengan Optimizers Adamax yang menghasilkan training model yang stabil dan recall score cukup tinggi.\n",
    "4. Hasil model inference menunjukan model mendapatkan recall score 0,67. Hasil ini dapat dikatakan kurang baik dan model ini masih perlu dilakukan improvement dimasa yang akan datang."
   ]
  }
 ],
 "metadata": {
  "interpreter": {
   "hash": "14958d3aee5f1cad06795f787e54b96185c25fb40dfec723a5be941f3a531b8c"
  },
  "kernelspec": {
   "display_name": "Python 3.9.2 64-bit",
   "language": "python",
   "name": "python3"
  },
  "language_info": {
   "codemirror_mode": {
    "name": "ipython",
    "version": 3
   },
   "file_extension": ".py",
   "mimetype": "text/x-python",
   "name": "python",
   "nbconvert_exporter": "python",
   "pygments_lexer": "ipython3",
   "version": "3.9.2"
  },
  "orig_nbformat": 4
 },
 "nbformat": 4,
 "nbformat_minor": 2
}
